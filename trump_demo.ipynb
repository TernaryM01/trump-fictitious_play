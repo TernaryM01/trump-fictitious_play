{
 "cells": [
  {
   "cell_type": "markdown",
   "id": "8dd88221",
   "metadata": {},
   "source": [
    "## Training Trump players"
   ]
  },
  {
   "cell_type": "code",
   "execution_count": 1,
   "id": "0d814424",
   "metadata": {},
   "outputs": [],
   "source": [
    "import os\n",
    "os.environ[\"XLA_PYTHON_CLIENT_PREALLOCATE\"] = \"true\"\n",
    "os.environ[\"XLA_PYTHON_CLIENT_MEM_FRACTION\"] = \"0.86\""
   ]
  },
  {
   "cell_type": "code",
   "execution_count": 2,
   "id": "e51a5113",
   "metadata": {},
   "outputs": [
    {
     "name": "stdout",
     "output_type": "stream",
     "text": [
      "[[10000. 10000. 10000. ... 10000. 10000. 10000.]\n",
      " [10000. 10000. 10000. ... 10000. 10000. 10000.]\n",
      " [10000. 10000. 10000. ... 10000. 10000. 10000.]\n",
      " ...\n",
      " [10000. 10000. 10000. ... 10000. 10000. 10000.]\n",
      " [10000. 10000. 10000. ... 10000. 10000. 10000.]\n",
      " [10000. 10000. 10000. ... 10000. 10000. 10000.]]\n"
     ]
    }
   ],
   "source": [
    "# Some actual computation to wake up that lazy ass\n",
    "\n",
    "import jax.numpy as jnp\n",
    "\n",
    "x = jnp.ones((10000, 10000))\n",
    "y = jnp.dot(x, x)\n",
    "\n",
    "print(y)  # Make sure computation actually happens"
   ]
  },
  {
   "cell_type": "code",
   "execution_count": 3,
   "id": "185975c9",
   "metadata": {},
   "outputs": [],
   "source": [
    "del x, y"
   ]
  },
  {
   "cell_type": "code",
   "execution_count": 4,
   "id": "2c9561e1",
   "metadata": {},
   "outputs": [],
   "source": [
    "from trump_utils import *\n",
    "from cfvfp_main import DeepCFVFPSolver"
   ]
  },
  {
   "cell_type": "code",
   "execution_count": null,
   "id": "616499e2",
   "metadata": {},
   "outputs": [
    {
     "name": "stdout",
     "output_type": "stream",
     "text": [
      "\n",
      "--- Starting Trump game training with DeepCFVFPSolver (3 phases) ---\n",
      "Global number of actions used by solver: 52\n",
      "Resuming from iteration 450, starting at iteration 451\n"
     ]
    },
    {
     "data": {
      "application/vnd.jupyter.widget-view+json": {
       "model_id": "3a032b44058c473e863c7b5a75173626",
       "version_major": 2,
       "version_minor": 0
      },
      "text/plain": [
       "Overall Iteration:   0%|          | 0/50 [00:00<?, ?it/s]"
      ]
     },
     "metadata": {},
     "output_type": "display_data"
    },
    {
     "data": {
      "application/vnd.jupyter.widget-view+json": {
       "model_id": "a3c35cc3b2f5449f84bc0d1164076209",
       "version_major": 2,
       "version_minor": 0
      },
      "text/plain": [
       "Phase:   0%|          | 0/3 [00:00<?, ?it/s]"
      ]
     },
     "metadata": {},
     "output_type": "display_data"
    },
    {
     "data": {
      "application/vnd.jupyter.widget-view+json": {
       "model_id": "2883c23cc655409380362b0f926261c5",
       "version_major": 2,
       "version_minor": 0
      },
      "text/plain": [
       "QNet Train:   0%|          | 0/1500 [00:00<?, ?it/s]"
      ]
     },
     "metadata": {},
     "output_type": "display_data"
    },
    {
     "data": {
      "application/vnd.jupyter.widget-view+json": {
       "model_id": "852dbcfe93b24715be6262e775342244",
       "version_major": 2,
       "version_minor": 0
      },
      "text/plain": [
       "QNet Train:   0%|          | 0/120 [00:00<?, ?it/s]"
      ]
     },
     "metadata": {},
     "output_type": "display_data"
    },
    {
     "data": {
      "application/vnd.jupyter.widget-view+json": {
       "model_id": "fcb4e5ab00e94101af80a35de3aeaa1a",
       "version_major": 2,
       "version_minor": 0
      },
      "text/plain": [
       "QNet Train:   0%|          | 0/3000 [00:00<?, ?it/s]"
      ]
     },
     "metadata": {},
     "output_type": "display_data"
    },
    {
     "data": {
      "application/vnd.jupyter.widget-view+json": {
       "model_id": "56ac84d3ef6b490a94b0e7a4e1f2f974",
       "version_major": 2,
       "version_minor": 0
      },
      "text/plain": [
       "Phase:   0%|          | 0/3 [00:00<?, ?it/s]"
      ]
     },
     "metadata": {},
     "output_type": "display_data"
    },
    {
     "data": {
      "application/vnd.jupyter.widget-view+json": {
       "model_id": "8e6ae030304b42ab8f51804a69c4b962",
       "version_major": 2,
       "version_minor": 0
      },
      "text/plain": [
       "QNet Train:   0%|          | 0/1500 [00:00<?, ?it/s]"
      ]
     },
     "metadata": {},
     "output_type": "display_data"
    },
    {
     "data": {
      "application/vnd.jupyter.widget-view+json": {
       "model_id": "383851fbfad34be984b779f92f80e2ef",
       "version_major": 2,
       "version_minor": 0
      },
      "text/plain": [
       "AvgPolNet Train:   0%|          | 0/500 [00:00<?, ?it/s]"
      ]
     },
     "metadata": {},
     "output_type": "display_data"
    },
    {
     "data": {
      "application/vnd.jupyter.widget-view+json": {
       "model_id": "8448696c476844359f8366b796613c2c",
       "version_major": 2,
       "version_minor": 0
      },
      "text/plain": [
       "QNet Train:   0%|          | 0/120 [00:00<?, ?it/s]"
      ]
     },
     "metadata": {},
     "output_type": "display_data"
    },
    {
     "data": {
      "application/vnd.jupyter.widget-view+json": {
       "model_id": "ef9aa8fca1774c68b523b9dc70c8e01c",
       "version_major": 2,
       "version_minor": 0
      },
      "text/plain": [
       "AvgPolNet Train:   0%|          | 0/30 [00:00<?, ?it/s]"
      ]
     },
     "metadata": {},
     "output_type": "display_data"
    },
    {
     "data": {
      "application/vnd.jupyter.widget-view+json": {
       "model_id": "850166f8f5f64db08d14f03ff5890318",
       "version_major": 2,
       "version_minor": 0
      },
      "text/plain": [
       "QNet Train:   0%|          | 0/3000 [00:00<?, ?it/s]"
      ]
     },
     "metadata": {},
     "output_type": "display_data"
    },
    {
     "data": {
      "application/vnd.jupyter.widget-view+json": {
       "model_id": "49506be2dcf54309b3bcd9eaac69a391",
       "version_major": 2,
       "version_minor": 0
      },
      "text/plain": [
       "AvgPolNet Train:   0%|          | 0/800 [00:00<?, ?it/s]"
      ]
     },
     "metadata": {},
     "output_type": "display_data"
    },
    {
     "data": {
      "application/vnd.jupyter.widget-view+json": {
       "model_id": "05692d6d2708408ca4263f48641ee16a",
       "version_major": 2,
       "version_minor": 0
      },
      "text/plain": [
       "Phase:   0%|          | 0/3 [00:00<?, ?it/s]"
      ]
     },
     "metadata": {},
     "output_type": "display_data"
    },
    {
     "data": {
      "application/vnd.jupyter.widget-view+json": {
       "model_id": "05ca891386454b35b6787800d928c08e",
       "version_major": 2,
       "version_minor": 0
      },
      "text/plain": [
       "QNet Train:   0%|          | 0/1500 [00:00<?, ?it/s]"
      ]
     },
     "metadata": {},
     "output_type": "display_data"
    },
    {
     "data": {
      "application/vnd.jupyter.widget-view+json": {
       "model_id": "86d1ea3e8e4749a3b99d0fe34af64f4d",
       "version_major": 2,
       "version_minor": 0
      },
      "text/plain": [
       "QNet Train:   0%|          | 0/120 [00:00<?, ?it/s]"
      ]
     },
     "metadata": {},
     "output_type": "display_data"
    },
    {
     "data": {
      "application/vnd.jupyter.widget-view+json": {
       "model_id": "e565273dbbfe4641a0f7afe1afc7b535",
       "version_major": 2,
       "version_minor": 0
      },
      "text/plain": [
       "QNet Train:   0%|          | 0/3000 [00:00<?, ?it/s]"
      ]
     },
     "metadata": {},
     "output_type": "display_data"
    },
    {
     "data": {
      "application/vnd.jupyter.widget-view+json": {
       "model_id": "b5624ae226a84b3f80e1b7756c22776d",
       "version_major": 2,
       "version_minor": 0
      },
      "text/plain": [
       "Phase:   0%|          | 0/3 [00:00<?, ?it/s]"
      ]
     },
     "metadata": {},
     "output_type": "display_data"
    },
    {
     "data": {
      "application/vnd.jupyter.widget-view+json": {
       "model_id": "e1392c55ea6a41039c712b21e2fa6b06",
       "version_major": 2,
       "version_minor": 0
      },
      "text/plain": [
       "QNet Train:   0%|          | 0/1500 [00:00<?, ?it/s]"
      ]
     },
     "metadata": {},
     "output_type": "display_data"
    },
    {
     "data": {
      "application/vnd.jupyter.widget-view+json": {
       "model_id": "168258735ef44afa8c662f514802ac46",
       "version_major": 2,
       "version_minor": 0
      },
      "text/plain": [
       "AvgPolNet Train:   0%|          | 0/500 [00:00<?, ?it/s]"
      ]
     },
     "metadata": {},
     "output_type": "display_data"
    },
    {
     "data": {
      "application/vnd.jupyter.widget-view+json": {
       "model_id": "72d6a07cab1c44eab98d37f42bf33966",
       "version_major": 2,
       "version_minor": 0
      },
      "text/plain": [
       "QNet Train:   0%|          | 0/120 [00:00<?, ?it/s]"
      ]
     },
     "metadata": {},
     "output_type": "display_data"
    },
    {
     "data": {
      "application/vnd.jupyter.widget-view+json": {
       "model_id": "99793f0fe97a442b8b976e51a0e69c5f",
       "version_major": 2,
       "version_minor": 0
      },
      "text/plain": [
       "AvgPolNet Train:   0%|          | 0/30 [00:00<?, ?it/s]"
      ]
     },
     "metadata": {},
     "output_type": "display_data"
    },
    {
     "data": {
      "application/vnd.jupyter.widget-view+json": {
       "model_id": "57d3bf12110543ea945d5df2db820279",
       "version_major": 2,
       "version_minor": 0
      },
      "text/plain": [
       "QNet Train:   0%|          | 0/3000 [00:00<?, ?it/s]"
      ]
     },
     "metadata": {},
     "output_type": "display_data"
    },
    {
     "data": {
      "application/vnd.jupyter.widget-view+json": {
       "model_id": "e96a1f49dc174659b0a37905afeb4d5e",
       "version_major": 2,
       "version_minor": 0
      },
      "text/plain": [
       "AvgPolNet Train:   0%|          | 0/800 [00:00<?, ?it/s]"
      ]
     },
     "metadata": {},
     "output_type": "display_data"
    },
    {
     "data": {
      "application/vnd.jupyter.widget-view+json": {
       "model_id": "cc47c31a7e6547c48b6301868c2e1da6",
       "version_major": 2,
       "version_minor": 0
      },
      "text/plain": [
       "Phase:   0%|          | 0/3 [00:00<?, ?it/s]"
      ]
     },
     "metadata": {},
     "output_type": "display_data"
    },
    {
     "data": {
      "application/vnd.jupyter.widget-view+json": {
       "model_id": "36268b873fbe4882a49a62fd03f8974f",
       "version_major": 2,
       "version_minor": 0
      },
      "text/plain": [
       "QNet Train:   0%|          | 0/1500 [00:00<?, ?it/s]"
      ]
     },
     "metadata": {},
     "output_type": "display_data"
    },
    {
     "data": {
      "application/vnd.jupyter.widget-view+json": {
       "model_id": "38ed71e20cdb46858304e5f732ea7938",
       "version_major": 2,
       "version_minor": 0
      },
      "text/plain": [
       "QNet Train:   0%|          | 0/120 [00:00<?, ?it/s]"
      ]
     },
     "metadata": {},
     "output_type": "display_data"
    },
    {
     "data": {
      "application/vnd.jupyter.widget-view+json": {
       "model_id": "e097921eab9f43369ee275891dc0e03f",
       "version_major": 2,
       "version_minor": 0
      },
      "text/plain": [
       "QNet Train:   0%|          | 0/3000 [00:00<?, ?it/s]"
      ]
     },
     "metadata": {},
     "output_type": "display_data"
    },
    {
     "data": {
      "application/vnd.jupyter.widget-view+json": {
       "model_id": "72c79bd01c07485cafc04996fec428f2",
       "version_major": 2,
       "version_minor": 0
      },
      "text/plain": [
       "Phase:   0%|          | 0/3 [00:00<?, ?it/s]"
      ]
     },
     "metadata": {},
     "output_type": "display_data"
    },
    {
     "data": {
      "application/vnd.jupyter.widget-view+json": {
       "model_id": "d6a1c4899e084405a3a36c7698d04526",
       "version_major": 2,
       "version_minor": 0
      },
      "text/plain": [
       "QNet Train:   0%|          | 0/1500 [00:00<?, ?it/s]"
      ]
     },
     "metadata": {},
     "output_type": "display_data"
    },
    {
     "data": {
      "application/vnd.jupyter.widget-view+json": {
       "model_id": "3ae70ab8457d49fabfa21433aa2aaaa1",
       "version_major": 2,
       "version_minor": 0
      },
      "text/plain": [
       "AvgPolNet Train:   0%|          | 0/500 [00:00<?, ?it/s]"
      ]
     },
     "metadata": {},
     "output_type": "display_data"
    },
    {
     "data": {
      "application/vnd.jupyter.widget-view+json": {
       "model_id": "6f19a00698b24e06a2811abea9f4296e",
       "version_major": 2,
       "version_minor": 0
      },
      "text/plain": [
       "QNet Train:   0%|          | 0/120 [00:00<?, ?it/s]"
      ]
     },
     "metadata": {},
     "output_type": "display_data"
    },
    {
     "data": {
      "application/vnd.jupyter.widget-view+json": {
       "model_id": "b31019979eac4e0daeb24ea8270730b3",
       "version_major": 2,
       "version_minor": 0
      },
      "text/plain": [
       "AvgPolNet Train:   0%|          | 0/30 [00:00<?, ?it/s]"
      ]
     },
     "metadata": {},
     "output_type": "display_data"
    },
    {
     "data": {
      "application/vnd.jupyter.widget-view+json": {
       "model_id": "48fa4a106ce74d64ad05dcc1fef6bf0a",
       "version_major": 2,
       "version_minor": 0
      },
      "text/plain": [
       "QNet Train:   0%|          | 0/3000 [00:00<?, ?it/s]"
      ]
     },
     "metadata": {},
     "output_type": "display_data"
    },
    {
     "data": {
      "application/vnd.jupyter.widget-view+json": {
       "model_id": "ccaabf8aa35a4652860f893532b951ac",
       "version_major": 2,
       "version_minor": 0
      },
      "text/plain": [
       "AvgPolNet Train:   0%|          | 0/800 [00:00<?, ?it/s]"
      ]
     },
     "metadata": {},
     "output_type": "display_data"
    },
    {
     "data": {
      "application/vnd.jupyter.widget-view+json": {
       "model_id": "7f0265d52eaf4fadbd1799f169bfa212",
       "version_major": 2,
       "version_minor": 0
      },
      "text/plain": [
       "Phase:   0%|          | 0/3 [00:00<?, ?it/s]"
      ]
     },
     "metadata": {},
     "output_type": "display_data"
    },
    {
     "data": {
      "application/vnd.jupyter.widget-view+json": {
       "model_id": "e4bddb64c93541958a1ed29e757768df",
       "version_major": 2,
       "version_minor": 0
      },
      "text/plain": [
       "QNet Train:   0%|          | 0/1500 [00:00<?, ?it/s]"
      ]
     },
     "metadata": {},
     "output_type": "display_data"
    },
    {
     "data": {
      "application/vnd.jupyter.widget-view+json": {
       "model_id": "a21f802ac1664918b5811df805e948b1",
       "version_major": 2,
       "version_minor": 0
      },
      "text/plain": [
       "QNet Train:   0%|          | 0/120 [00:00<?, ?it/s]"
      ]
     },
     "metadata": {},
     "output_type": "display_data"
    },
    {
     "data": {
      "application/vnd.jupyter.widget-view+json": {
       "model_id": "c4df967abafa4410b6883931e5e6c62f",
       "version_major": 2,
       "version_minor": 0
      },
      "text/plain": [
       "QNet Train:   0%|          | 0/3000 [00:00<?, ?it/s]"
      ]
     },
     "metadata": {},
     "output_type": "display_data"
    },
    {
     "data": {
      "application/vnd.jupyter.widget-view+json": {
       "model_id": "b85abe0befd44e3f83c7b2ed903a445f",
       "version_major": 2,
       "version_minor": 0
      },
      "text/plain": [
       "Phase:   0%|          | 0/3 [00:00<?, ?it/s]"
      ]
     },
     "metadata": {},
     "output_type": "display_data"
    },
    {
     "data": {
      "application/vnd.jupyter.widget-view+json": {
       "model_id": "38c0f9a92842492994c20f2c2431ee4c",
       "version_major": 2,
       "version_minor": 0
      },
      "text/plain": [
       "QNet Train:   0%|          | 0/1500 [00:00<?, ?it/s]"
      ]
     },
     "metadata": {},
     "output_type": "display_data"
    },
    {
     "data": {
      "application/vnd.jupyter.widget-view+json": {
       "model_id": "b5169fe0da5848d8aa4a6af48acac290",
       "version_major": 2,
       "version_minor": 0
      },
      "text/plain": [
       "AvgPolNet Train:   0%|          | 0/500 [00:00<?, ?it/s]"
      ]
     },
     "metadata": {},
     "output_type": "display_data"
    },
    {
     "data": {
      "application/vnd.jupyter.widget-view+json": {
       "model_id": "78508d8730a44af387baa322b9dbabb8",
       "version_major": 2,
       "version_minor": 0
      },
      "text/plain": [
       "QNet Train:   0%|          | 0/120 [00:00<?, ?it/s]"
      ]
     },
     "metadata": {},
     "output_type": "display_data"
    },
    {
     "data": {
      "application/vnd.jupyter.widget-view+json": {
       "model_id": "38a486de0f74403da729872471715999",
       "version_major": 2,
       "version_minor": 0
      },
      "text/plain": [
       "AvgPolNet Train:   0%|          | 0/30 [00:00<?, ?it/s]"
      ]
     },
     "metadata": {},
     "output_type": "display_data"
    },
    {
     "data": {
      "application/vnd.jupyter.widget-view+json": {
       "model_id": "8de19522007949219afeabb2def4c2b1",
       "version_major": 2,
       "version_minor": 0
      },
      "text/plain": [
       "QNet Train:   0%|          | 0/3000 [00:00<?, ?it/s]"
      ]
     },
     "metadata": {},
     "output_type": "display_data"
    },
    {
     "data": {
      "application/vnd.jupyter.widget-view+json": {
       "model_id": "efa699ce15fc4d6a985787c621fec4c3",
       "version_major": 2,
       "version_minor": 0
      },
      "text/plain": [
       "AvgPolNet Train:   0%|          | 0/800 [00:00<?, ?it/s]"
      ]
     },
     "metadata": {},
     "output_type": "display_data"
    },
    {
     "data": {
      "application/vnd.jupyter.widget-view+json": {
       "model_id": "4bae2f21d13544f491f61991cd959311",
       "version_major": 2,
       "version_minor": 0
      },
      "text/plain": [
       "Phase:   0%|          | 0/3 [00:00<?, ?it/s]"
      ]
     },
     "metadata": {},
     "output_type": "display_data"
    },
    {
     "data": {
      "application/vnd.jupyter.widget-view+json": {
       "model_id": "d44bc7255c5c4182934253465761fc2b",
       "version_major": 2,
       "version_minor": 0
      },
      "text/plain": [
       "QNet Train:   0%|          | 0/1500 [00:00<?, ?it/s]"
      ]
     },
     "metadata": {},
     "output_type": "display_data"
    },
    {
     "data": {
      "application/vnd.jupyter.widget-view+json": {
       "model_id": "c0d3203683d74c5387f5a69507b962f6",
       "version_major": 2,
       "version_minor": 0
      },
      "text/plain": [
       "QNet Train:   0%|          | 0/120 [00:00<?, ?it/s]"
      ]
     },
     "metadata": {},
     "output_type": "display_data"
    },
    {
     "data": {
      "application/vnd.jupyter.widget-view+json": {
       "model_id": "8ddfc60f2a9444b3b13e86e540d0a13d",
       "version_major": 2,
       "version_minor": 0
      },
      "text/plain": [
       "QNet Train:   0%|          | 0/3000 [00:00<?, ?it/s]"
      ]
     },
     "metadata": {},
     "output_type": "display_data"
    },
    {
     "data": {
      "application/vnd.jupyter.widget-view+json": {
       "model_id": "d8d19d680d8841979e49c501ccc36a15",
       "version_major": 2,
       "version_minor": 0
      },
      "text/plain": [
       "Phase:   0%|          | 0/3 [00:00<?, ?it/s]"
      ]
     },
     "metadata": {},
     "output_type": "display_data"
    },
    {
     "data": {
      "application/vnd.jupyter.widget-view+json": {
       "model_id": "2cbd4d992f044d9e8d26057fe6512dc0",
       "version_major": 2,
       "version_minor": 0
      },
      "text/plain": [
       "QNet Train:   0%|          | 0/1500 [00:00<?, ?it/s]"
      ]
     },
     "metadata": {},
     "output_type": "display_data"
    },
    {
     "data": {
      "application/vnd.jupyter.widget-view+json": {
       "model_id": "d31a88385cbc406a92bdc8d9cd088fb0",
       "version_major": 2,
       "version_minor": 0
      },
      "text/plain": [
       "AvgPolNet Train:   0%|          | 0/500 [00:00<?, ?it/s]"
      ]
     },
     "metadata": {},
     "output_type": "display_data"
    },
    {
     "data": {
      "application/vnd.jupyter.widget-view+json": {
       "model_id": "93dc2873800045759051377133157345",
       "version_major": 2,
       "version_minor": 0
      },
      "text/plain": [
       "QNet Train:   0%|          | 0/120 [00:00<?, ?it/s]"
      ]
     },
     "metadata": {},
     "output_type": "display_data"
    },
    {
     "data": {
      "application/vnd.jupyter.widget-view+json": {
       "model_id": "427b73027bcd435d83c0bfede5d534eb",
       "version_major": 2,
       "version_minor": 0
      },
      "text/plain": [
       "AvgPolNet Train:   0%|          | 0/30 [00:00<?, ?it/s]"
      ]
     },
     "metadata": {},
     "output_type": "display_data"
    },
    {
     "data": {
      "application/vnd.jupyter.widget-view+json": {
       "model_id": "13ccc11145a34704a7141122dcd25e2a",
       "version_major": 2,
       "version_minor": 0
      },
      "text/plain": [
       "QNet Train:   0%|          | 0/3000 [00:00<?, ?it/s]"
      ]
     },
     "metadata": {},
     "output_type": "display_data"
    },
    {
     "data": {
      "application/vnd.jupyter.widget-view+json": {
       "model_id": "902cace0e14d48d2bdd0410ffc4dd7b7",
       "version_major": 2,
       "version_minor": 0
      },
      "text/plain": [
       "AvgPolNet Train:   0%|          | 0/800 [00:00<?, ?it/s]"
      ]
     },
     "metadata": {},
     "output_type": "display_data"
    },
    {
     "data": {
      "application/vnd.jupyter.widget-view+json": {
       "model_id": "2184116f16f54924a6268e1c45a7d1ea",
       "version_major": 2,
       "version_minor": 0
      },
      "text/plain": [
       "Phase:   0%|          | 0/3 [00:00<?, ?it/s]"
      ]
     },
     "metadata": {},
     "output_type": "display_data"
    },
    {
     "data": {
      "application/vnd.jupyter.widget-view+json": {
       "model_id": "8f9d72516fd94f158ccd19446614a16d",
       "version_major": 2,
       "version_minor": 0
      },
      "text/plain": [
       "QNet Train:   0%|          | 0/1500 [00:00<?, ?it/s]"
      ]
     },
     "metadata": {},
     "output_type": "display_data"
    },
    {
     "data": {
      "application/vnd.jupyter.widget-view+json": {
       "model_id": "097c58ec3cbf4290959ba214e61b8320",
       "version_major": 2,
       "version_minor": 0
      },
      "text/plain": [
       "QNet Train:   0%|          | 0/120 [00:00<?, ?it/s]"
      ]
     },
     "metadata": {},
     "output_type": "display_data"
    },
    {
     "data": {
      "application/vnd.jupyter.widget-view+json": {
       "model_id": "8dfb63b6992441918c0badfc0de40720",
       "version_major": 2,
       "version_minor": 0
      },
      "text/plain": [
       "QNet Train:   0%|          | 0/3000 [00:00<?, ?it/s]"
      ]
     },
     "metadata": {},
     "output_type": "display_data"
    },
    {
     "data": {
      "application/vnd.jupyter.widget-view+json": {
       "model_id": "9feef493c4e6429f9a5a6c98970c0b21",
       "version_major": 2,
       "version_minor": 0
      },
      "text/plain": [
       "Phase:   0%|          | 0/3 [00:00<?, ?it/s]"
      ]
     },
     "metadata": {},
     "output_type": "display_data"
    },
    {
     "data": {
      "application/vnd.jupyter.widget-view+json": {
       "model_id": "6b6865ddd5844ad193c2f4cd772305b4",
       "version_major": 2,
       "version_minor": 0
      },
      "text/plain": [
       "QNet Train:   0%|          | 0/1500 [00:00<?, ?it/s]"
      ]
     },
     "metadata": {},
     "output_type": "display_data"
    },
    {
     "data": {
      "application/vnd.jupyter.widget-view+json": {
       "model_id": "4b66e06785fa4c288e50c0132ae6333d",
       "version_major": 2,
       "version_minor": 0
      },
      "text/plain": [
       "AvgPolNet Train:   0%|          | 0/500 [00:00<?, ?it/s]"
      ]
     },
     "metadata": {},
     "output_type": "display_data"
    },
    {
     "data": {
      "application/vnd.jupyter.widget-view+json": {
       "model_id": "99c75023395548f1b746aba08e3026d3",
       "version_major": 2,
       "version_minor": 0
      },
      "text/plain": [
       "QNet Train:   0%|          | 0/120 [00:00<?, ?it/s]"
      ]
     },
     "metadata": {},
     "output_type": "display_data"
    },
    {
     "data": {
      "application/vnd.jupyter.widget-view+json": {
       "model_id": "7de40b24205a483b9dd192dbd001b7fe",
       "version_major": 2,
       "version_minor": 0
      },
      "text/plain": [
       "AvgPolNet Train:   0%|          | 0/30 [00:00<?, ?it/s]"
      ]
     },
     "metadata": {},
     "output_type": "display_data"
    },
    {
     "data": {
      "application/vnd.jupyter.widget-view+json": {
       "model_id": "7f67b4215a9740b0bd9bf9623afa759a",
       "version_major": 2,
       "version_minor": 0
      },
      "text/plain": [
       "QNet Train:   0%|          | 0/3000 [00:00<?, ?it/s]"
      ]
     },
     "metadata": {},
     "output_type": "display_data"
    },
    {
     "data": {
      "application/vnd.jupyter.widget-view+json": {
       "model_id": "a0ca2601f22f448a8de4b9dc1e3bf1cd",
       "version_major": 2,
       "version_minor": 0
      },
      "text/plain": [
       "AvgPolNet Train:   0%|          | 0/800 [00:00<?, ?it/s]"
      ]
     },
     "metadata": {},
     "output_type": "display_data"
    },
    {
     "data": {
      "application/vnd.jupyter.widget-view+json": {
       "model_id": "12bcde91478d4849b80fc9b8e1cbca22",
       "version_major": 2,
       "version_minor": 0
      },
      "text/plain": [
       "Phase:   0%|          | 0/3 [00:00<?, ?it/s]"
      ]
     },
     "metadata": {},
     "output_type": "display_data"
    },
    {
     "data": {
      "application/vnd.jupyter.widget-view+json": {
       "model_id": "620a2bb84d94431eb80ee4204ec7012a",
       "version_major": 2,
       "version_minor": 0
      },
      "text/plain": [
       "QNet Train:   0%|          | 0/1500 [00:00<?, ?it/s]"
      ]
     },
     "metadata": {},
     "output_type": "display_data"
    },
    {
     "data": {
      "application/vnd.jupyter.widget-view+json": {
       "model_id": "6c10ef33e4ad41939ffc4066becf0530",
       "version_major": 2,
       "version_minor": 0
      },
      "text/plain": [
       "QNet Train:   0%|          | 0/120 [00:00<?, ?it/s]"
      ]
     },
     "metadata": {},
     "output_type": "display_data"
    },
    {
     "data": {
      "application/vnd.jupyter.widget-view+json": {
       "model_id": "b4d718b21a894d26ab5cba8481a7b67c",
       "version_major": 2,
       "version_minor": 0
      },
      "text/plain": [
       "QNet Train:   0%|          | 0/3000 [00:00<?, ?it/s]"
      ]
     },
     "metadata": {},
     "output_type": "display_data"
    },
    {
     "data": {
      "application/vnd.jupyter.widget-view+json": {
       "model_id": "5c13dc727f9c44d5a73dec69b6f627b6",
       "version_major": 2,
       "version_minor": 0
      },
      "text/plain": [
       "Phase:   0%|          | 0/3 [00:00<?, ?it/s]"
      ]
     },
     "metadata": {},
     "output_type": "display_data"
    },
    {
     "data": {
      "application/vnd.jupyter.widget-view+json": {
       "model_id": "567d142276a6481887ec9956fe39f25f",
       "version_major": 2,
       "version_minor": 0
      },
      "text/plain": [
       "QNet Train:   0%|          | 0/1500 [00:00<?, ?it/s]"
      ]
     },
     "metadata": {},
     "output_type": "display_data"
    },
    {
     "data": {
      "application/vnd.jupyter.widget-view+json": {
       "model_id": "6c5667d116a748aaa2ae78e09c213236",
       "version_major": 2,
       "version_minor": 0
      },
      "text/plain": [
       "AvgPolNet Train:   0%|          | 0/500 [00:00<?, ?it/s]"
      ]
     },
     "metadata": {},
     "output_type": "display_data"
    },
    {
     "data": {
      "application/vnd.jupyter.widget-view+json": {
       "model_id": "0fa6739629454a668a5f9d944ecead21",
       "version_major": 2,
       "version_minor": 0
      },
      "text/plain": [
       "QNet Train:   0%|          | 0/120 [00:00<?, ?it/s]"
      ]
     },
     "metadata": {},
     "output_type": "display_data"
    },
    {
     "data": {
      "application/vnd.jupyter.widget-view+json": {
       "model_id": "5dbe578461e94ea9aa61e6016eb6dd2b",
       "version_major": 2,
       "version_minor": 0
      },
      "text/plain": [
       "AvgPolNet Train:   0%|          | 0/30 [00:00<?, ?it/s]"
      ]
     },
     "metadata": {},
     "output_type": "display_data"
    },
    {
     "data": {
      "application/vnd.jupyter.widget-view+json": {
       "model_id": "51ab5ab0f8b445f2a828887dad0d5d4d",
       "version_major": 2,
       "version_minor": 0
      },
      "text/plain": [
       "QNet Train:   0%|          | 0/3000 [00:00<?, ?it/s]"
      ]
     },
     "metadata": {},
     "output_type": "display_data"
    },
    {
     "data": {
      "application/vnd.jupyter.widget-view+json": {
       "model_id": "6ba3601110e3481587c6ca0661a9522c",
       "version_major": 2,
       "version_minor": 0
      },
      "text/plain": [
       "AvgPolNet Train:   0%|          | 0/800 [00:00<?, ?it/s]"
      ]
     },
     "metadata": {},
     "output_type": "display_data"
    },
    {
     "data": {
      "application/vnd.jupyter.widget-view+json": {
       "model_id": "c14ff18c3a6c452087d4c24639484b98",
       "version_major": 2,
       "version_minor": 0
      },
      "text/plain": [
       "Phase:   0%|          | 0/3 [00:00<?, ?it/s]"
      ]
     },
     "metadata": {},
     "output_type": "display_data"
    },
    {
     "data": {
      "application/vnd.jupyter.widget-view+json": {
       "model_id": "6569da7f6d274b968ddc9d263e507b9f",
       "version_major": 2,
       "version_minor": 0
      },
      "text/plain": [
       "QNet Train:   0%|          | 0/1500 [00:00<?, ?it/s]"
      ]
     },
     "metadata": {},
     "output_type": "display_data"
    },
    {
     "data": {
      "application/vnd.jupyter.widget-view+json": {
       "model_id": "3b8b0c699db64cab8b1f72eabbc60ee1",
       "version_major": 2,
       "version_minor": 0
      },
      "text/plain": [
       "QNet Train:   0%|          | 0/120 [00:00<?, ?it/s]"
      ]
     },
     "metadata": {},
     "output_type": "display_data"
    },
    {
     "data": {
      "application/vnd.jupyter.widget-view+json": {
       "model_id": "22931d547bf241e58b4c75f3245d3a49",
       "version_major": 2,
       "version_minor": 0
      },
      "text/plain": [
       "QNet Train:   0%|          | 0/3000 [00:00<?, ?it/s]"
      ]
     },
     "metadata": {},
     "output_type": "display_data"
    },
    {
     "data": {
      "application/vnd.jupyter.widget-view+json": {
       "model_id": "a2df95faa2fe4ceb8ae53ba6bf675a6b",
       "version_major": 2,
       "version_minor": 0
      },
      "text/plain": [
       "Phase:   0%|          | 0/3 [00:00<?, ?it/s]"
      ]
     },
     "metadata": {},
     "output_type": "display_data"
    },
    {
     "data": {
      "application/vnd.jupyter.widget-view+json": {
       "model_id": "7f4ece4707b34b87bf1d0dffc1768054",
       "version_major": 2,
       "version_minor": 0
      },
      "text/plain": [
       "QNet Train:   0%|          | 0/1500 [00:00<?, ?it/s]"
      ]
     },
     "metadata": {},
     "output_type": "display_data"
    },
    {
     "data": {
      "application/vnd.jupyter.widget-view+json": {
       "model_id": "375a944ceb2549d88d60a956950d96c1",
       "version_major": 2,
       "version_minor": 0
      },
      "text/plain": [
       "AvgPolNet Train:   0%|          | 0/500 [00:00<?, ?it/s]"
      ]
     },
     "metadata": {},
     "output_type": "display_data"
    },
    {
     "data": {
      "application/vnd.jupyter.widget-view+json": {
       "model_id": "7cb6abba890543189218a9c900fe0a93",
       "version_major": 2,
       "version_minor": 0
      },
      "text/plain": [
       "QNet Train:   0%|          | 0/120 [00:00<?, ?it/s]"
      ]
     },
     "metadata": {},
     "output_type": "display_data"
    },
    {
     "data": {
      "application/vnd.jupyter.widget-view+json": {
       "model_id": "ed4ff6ce3332490facda68a4988d21f1",
       "version_major": 2,
       "version_minor": 0
      },
      "text/plain": [
       "AvgPolNet Train:   0%|          | 0/30 [00:00<?, ?it/s]"
      ]
     },
     "metadata": {},
     "output_type": "display_data"
    },
    {
     "data": {
      "application/vnd.jupyter.widget-view+json": {
       "model_id": "f40468d0e7a54725b8cc533957f63da6",
       "version_major": 2,
       "version_minor": 0
      },
      "text/plain": [
       "QNet Train:   0%|          | 0/3000 [00:00<?, ?it/s]"
      ]
     },
     "metadata": {},
     "output_type": "display_data"
    },
    {
     "data": {
      "application/vnd.jupyter.widget-view+json": {
       "model_id": "db658a867db647eeb80ef0c992e1a5ea",
       "version_major": 2,
       "version_minor": 0
      },
      "text/plain": [
       "AvgPolNet Train:   0%|          | 0/800 [00:00<?, ?it/s]"
      ]
     },
     "metadata": {},
     "output_type": "display_data"
    },
    {
     "data": {
      "application/vnd.jupyter.widget-view+json": {
       "model_id": "e4d6b5b30535496584b88a0056257092",
       "version_major": 2,
       "version_minor": 0
      },
      "text/plain": [
       "Phase:   0%|          | 0/3 [00:00<?, ?it/s]"
      ]
     },
     "metadata": {},
     "output_type": "display_data"
    },
    {
     "data": {
      "application/vnd.jupyter.widget-view+json": {
       "model_id": "b8cfc98002de492689335afb608f555a",
       "version_major": 2,
       "version_minor": 0
      },
      "text/plain": [
       "QNet Train:   0%|          | 0/1500 [00:00<?, ?it/s]"
      ]
     },
     "metadata": {},
     "output_type": "display_data"
    },
    {
     "data": {
      "application/vnd.jupyter.widget-view+json": {
       "model_id": "eff89ba2e5e246c0b1b0a19242535754",
       "version_major": 2,
       "version_minor": 0
      },
      "text/plain": [
       "QNet Train:   0%|          | 0/120 [00:00<?, ?it/s]"
      ]
     },
     "metadata": {},
     "output_type": "display_data"
    },
    {
     "data": {
      "application/vnd.jupyter.widget-view+json": {
       "model_id": "5a179f9183a44e189b791a5942fe89fb",
       "version_major": 2,
       "version_minor": 0
      },
      "text/plain": [
       "QNet Train:   0%|          | 0/3000 [00:00<?, ?it/s]"
      ]
     },
     "metadata": {},
     "output_type": "display_data"
    },
    {
     "data": {
      "application/vnd.jupyter.widget-view+json": {
       "model_id": "2bbb0ee4c73f4ad59516e09c9d5c44a1",
       "version_major": 2,
       "version_minor": 0
      },
      "text/plain": [
       "Phase:   0%|          | 0/3 [00:00<?, ?it/s]"
      ]
     },
     "metadata": {},
     "output_type": "display_data"
    },
    {
     "data": {
      "application/vnd.jupyter.widget-view+json": {
       "model_id": "0b4ebb52d602495780eae98e44d67a3f",
       "version_major": 2,
       "version_minor": 0
      },
      "text/plain": [
       "QNet Train:   0%|          | 0/1500 [00:00<?, ?it/s]"
      ]
     },
     "metadata": {},
     "output_type": "display_data"
    },
    {
     "data": {
      "application/vnd.jupyter.widget-view+json": {
       "model_id": "142790acd0844e5da2299e768033f4c8",
       "version_major": 2,
       "version_minor": 0
      },
      "text/plain": [
       "AvgPolNet Train:   0%|          | 0/500 [00:00<?, ?it/s]"
      ]
     },
     "metadata": {},
     "output_type": "display_data"
    },
    {
     "data": {
      "application/vnd.jupyter.widget-view+json": {
       "model_id": "85d0c0e4c67d4f5893056742bd49ffdd",
       "version_major": 2,
       "version_minor": 0
      },
      "text/plain": [
       "QNet Train:   0%|          | 0/120 [00:00<?, ?it/s]"
      ]
     },
     "metadata": {},
     "output_type": "display_data"
    },
    {
     "data": {
      "application/vnd.jupyter.widget-view+json": {
       "model_id": "5bb68e2ed80a4d589fbb92ca892234b3",
       "version_major": 2,
       "version_minor": 0
      },
      "text/plain": [
       "AvgPolNet Train:   0%|          | 0/30 [00:00<?, ?it/s]"
      ]
     },
     "metadata": {},
     "output_type": "display_data"
    },
    {
     "data": {
      "application/vnd.jupyter.widget-view+json": {
       "model_id": "b854bda1671d4f6b8e0011d3e33066d4",
       "version_major": 2,
       "version_minor": 0
      },
      "text/plain": [
       "QNet Train:   0%|          | 0/3000 [00:00<?, ?it/s]"
      ]
     },
     "metadata": {},
     "output_type": "display_data"
    },
    {
     "data": {
      "application/vnd.jupyter.widget-view+json": {
       "model_id": "9a74dc115b7e434da52552cd64966449",
       "version_major": 2,
       "version_minor": 0
      },
      "text/plain": [
       "AvgPolNet Train:   0%|          | 0/800 [00:00<?, ?it/s]"
      ]
     },
     "metadata": {},
     "output_type": "display_data"
    },
    {
     "data": {
      "application/vnd.jupyter.widget-view+json": {
       "model_id": "a615d21514504ad9b303f1fd83281409",
       "version_major": 2,
       "version_minor": 0
      },
      "text/plain": [
       "Phase:   0%|          | 0/3 [00:00<?, ?it/s]"
      ]
     },
     "metadata": {},
     "output_type": "display_data"
    },
    {
     "data": {
      "application/vnd.jupyter.widget-view+json": {
       "model_id": "8dd9d7414bc34e82ab81f6a9bb6bf340",
       "version_major": 2,
       "version_minor": 0
      },
      "text/plain": [
       "QNet Train:   0%|          | 0/1500 [00:00<?, ?it/s]"
      ]
     },
     "metadata": {},
     "output_type": "display_data"
    },
    {
     "data": {
      "application/vnd.jupyter.widget-view+json": {
       "model_id": "bbc52ff3bd4f45beb4767dbc237993b6",
       "version_major": 2,
       "version_minor": 0
      },
      "text/plain": [
       "QNet Train:   0%|          | 0/120 [00:00<?, ?it/s]"
      ]
     },
     "metadata": {},
     "output_type": "display_data"
    },
    {
     "data": {
      "application/vnd.jupyter.widget-view+json": {
       "model_id": "945f8b23de004593bcb2af46f750c822",
       "version_major": 2,
       "version_minor": 0
      },
      "text/plain": [
       "QNet Train:   0%|          | 0/3000 [00:00<?, ?it/s]"
      ]
     },
     "metadata": {},
     "output_type": "display_data"
    },
    {
     "data": {
      "application/vnd.jupyter.widget-view+json": {
       "model_id": "f4dbec89763b4e6c9261cf3abc9187d8",
       "version_major": 2,
       "version_minor": 0
      },
      "text/plain": [
       "Phase:   0%|          | 0/3 [00:00<?, ?it/s]"
      ]
     },
     "metadata": {},
     "output_type": "display_data"
    },
    {
     "data": {
      "application/vnd.jupyter.widget-view+json": {
       "model_id": "595e777dc3654422b0b1b87cb8516d09",
       "version_major": 2,
       "version_minor": 0
      },
      "text/plain": [
       "QNet Train:   0%|          | 0/1500 [00:00<?, ?it/s]"
      ]
     },
     "metadata": {},
     "output_type": "display_data"
    },
    {
     "data": {
      "application/vnd.jupyter.widget-view+json": {
       "model_id": "dd88af2747c9448c968b4f39af173d59",
       "version_major": 2,
       "version_minor": 0
      },
      "text/plain": [
       "AvgPolNet Train:   0%|          | 0/500 [00:00<?, ?it/s]"
      ]
     },
     "metadata": {},
     "output_type": "display_data"
    },
    {
     "data": {
      "application/vnd.jupyter.widget-view+json": {
       "model_id": "63421b75513f4e6fad62d8cccca2b03a",
       "version_major": 2,
       "version_minor": 0
      },
      "text/plain": [
       "QNet Train:   0%|          | 0/120 [00:00<?, ?it/s]"
      ]
     },
     "metadata": {},
     "output_type": "display_data"
    },
    {
     "data": {
      "application/vnd.jupyter.widget-view+json": {
       "model_id": "4347699ac80644e4bbe808060f2ff581",
       "version_major": 2,
       "version_minor": 0
      },
      "text/plain": [
       "AvgPolNet Train:   0%|          | 0/30 [00:00<?, ?it/s]"
      ]
     },
     "metadata": {},
     "output_type": "display_data"
    },
    {
     "data": {
      "application/vnd.jupyter.widget-view+json": {
       "model_id": "01950db79da644e2aba01fcc15739f68",
       "version_major": 2,
       "version_minor": 0
      },
      "text/plain": [
       "QNet Train:   0%|          | 0/3000 [00:00<?, ?it/s]"
      ]
     },
     "metadata": {},
     "output_type": "display_data"
    },
    {
     "data": {
      "application/vnd.jupyter.widget-view+json": {
       "model_id": "e17227f1a3324a8c89f97d7adea8ce63",
       "version_major": 2,
       "version_minor": 0
      },
      "text/plain": [
       "AvgPolNet Train:   0%|          | 0/800 [00:00<?, ?it/s]"
      ]
     },
     "metadata": {},
     "output_type": "display_data"
    },
    {
     "data": {
      "application/vnd.jupyter.widget-view+json": {
       "model_id": "336d43eb4a8248108016e406dfc75783",
       "version_major": 2,
       "version_minor": 0
      },
      "text/plain": [
       "Phase:   0%|          | 0/3 [00:00<?, ?it/s]"
      ]
     },
     "metadata": {},
     "output_type": "display_data"
    },
    {
     "data": {
      "application/vnd.jupyter.widget-view+json": {
       "model_id": "78b67b1be7cd4d82a691462c9e217bda",
       "version_major": 2,
       "version_minor": 0
      },
      "text/plain": [
       "QNet Train:   0%|          | 0/1500 [00:00<?, ?it/s]"
      ]
     },
     "metadata": {},
     "output_type": "display_data"
    },
    {
     "data": {
      "application/vnd.jupyter.widget-view+json": {
       "model_id": "1d0f42c90e4b42d4925c39d7ff1814a3",
       "version_major": 2,
       "version_minor": 0
      },
      "text/plain": [
       "QNet Train:   0%|          | 0/120 [00:00<?, ?it/s]"
      ]
     },
     "metadata": {},
     "output_type": "display_data"
    },
    {
     "data": {
      "application/vnd.jupyter.widget-view+json": {
       "model_id": "3df74ec765d044cc8cd7eced97a9d10b",
       "version_major": 2,
       "version_minor": 0
      },
      "text/plain": [
       "QNet Train:   0%|          | 0/3000 [00:00<?, ?it/s]"
      ]
     },
     "metadata": {},
     "output_type": "display_data"
    },
    {
     "data": {
      "application/vnd.jupyter.widget-view+json": {
       "model_id": "31f1fa02de7e4cf59064d20ddb96f970",
       "version_major": 2,
       "version_minor": 0
      },
      "text/plain": [
       "Phase:   0%|          | 0/3 [00:00<?, ?it/s]"
      ]
     },
     "metadata": {},
     "output_type": "display_data"
    },
    {
     "data": {
      "application/vnd.jupyter.widget-view+json": {
       "model_id": "1db3406b4dea4b359c1ea5686e00c1f1",
       "version_major": 2,
       "version_minor": 0
      },
      "text/plain": [
       "QNet Train:   0%|          | 0/1500 [00:00<?, ?it/s]"
      ]
     },
     "metadata": {},
     "output_type": "display_data"
    },
    {
     "data": {
      "application/vnd.jupyter.widget-view+json": {
       "model_id": "c39e5d85fed04f70acc5621adfc3ab01",
       "version_major": 2,
       "version_minor": 0
      },
      "text/plain": [
       "AvgPolNet Train:   0%|          | 0/500 [00:00<?, ?it/s]"
      ]
     },
     "metadata": {},
     "output_type": "display_data"
    },
    {
     "data": {
      "application/vnd.jupyter.widget-view+json": {
       "model_id": "f4ebea6966f640d9bcac4d45d1ad20c5",
       "version_major": 2,
       "version_minor": 0
      },
      "text/plain": [
       "QNet Train:   0%|          | 0/120 [00:00<?, ?it/s]"
      ]
     },
     "metadata": {},
     "output_type": "display_data"
    },
    {
     "data": {
      "application/vnd.jupyter.widget-view+json": {
       "model_id": "5d02e7d3069f43539f2bb11d285ee20b",
       "version_major": 2,
       "version_minor": 0
      },
      "text/plain": [
       "AvgPolNet Train:   0%|          | 0/30 [00:00<?, ?it/s]"
      ]
     },
     "metadata": {},
     "output_type": "display_data"
    },
    {
     "data": {
      "application/vnd.jupyter.widget-view+json": {
       "model_id": "e5453710d20e4429bc5df2fc9e67c02c",
       "version_major": 2,
       "version_minor": 0
      },
      "text/plain": [
       "QNet Train:   0%|          | 0/3000 [00:00<?, ?it/s]"
      ]
     },
     "metadata": {},
     "output_type": "display_data"
    },
    {
     "data": {
      "application/vnd.jupyter.widget-view+json": {
       "model_id": "01ce969c8415496b8a4155620dda899e",
       "version_major": 2,
       "version_minor": 0
      },
      "text/plain": [
       "AvgPolNet Train:   0%|          | 0/800 [00:00<?, ?it/s]"
      ]
     },
     "metadata": {},
     "output_type": "display_data"
    },
    {
     "data": {
      "application/vnd.jupyter.widget-view+json": {
       "model_id": "bf93d27d1b404de3ba4864a86507f781",
       "version_major": 2,
       "version_minor": 0
      },
      "text/plain": [
       "Phase:   0%|          | 0/3 [00:00<?, ?it/s]"
      ]
     },
     "metadata": {},
     "output_type": "display_data"
    },
    {
     "data": {
      "application/vnd.jupyter.widget-view+json": {
       "model_id": "c0071527fca04c17a8858ebeda5d2a01",
       "version_major": 2,
       "version_minor": 0
      },
      "text/plain": [
       "QNet Train:   0%|          | 0/1500 [00:00<?, ?it/s]"
      ]
     },
     "metadata": {},
     "output_type": "display_data"
    },
    {
     "data": {
      "application/vnd.jupyter.widget-view+json": {
       "model_id": "690071be6ab44a18b6577b86b45979e5",
       "version_major": 2,
       "version_minor": 0
      },
      "text/plain": [
       "QNet Train:   0%|          | 0/120 [00:00<?, ?it/s]"
      ]
     },
     "metadata": {},
     "output_type": "display_data"
    },
    {
     "data": {
      "application/vnd.jupyter.widget-view+json": {
       "model_id": "271d07fb387340bcadce4d4520b326e6",
       "version_major": 2,
       "version_minor": 0
      },
      "text/plain": [
       "QNet Train:   0%|          | 0/3000 [00:00<?, ?it/s]"
      ]
     },
     "metadata": {},
     "output_type": "display_data"
    },
    {
     "data": {
      "application/vnd.jupyter.widget-view+json": {
       "model_id": "6403281ad7824f3fb440a2c345ac01bd",
       "version_major": 2,
       "version_minor": 0
      },
      "text/plain": [
       "Phase:   0%|          | 0/3 [00:00<?, ?it/s]"
      ]
     },
     "metadata": {},
     "output_type": "display_data"
    },
    {
     "data": {
      "application/vnd.jupyter.widget-view+json": {
       "model_id": "af7eba0a544a4cbfb3b4a7f539e16883",
       "version_major": 2,
       "version_minor": 0
      },
      "text/plain": [
       "QNet Train:   0%|          | 0/1500 [00:00<?, ?it/s]"
      ]
     },
     "metadata": {},
     "output_type": "display_data"
    },
    {
     "data": {
      "application/vnd.jupyter.widget-view+json": {
       "model_id": "00d563a226c74f21b2722a21ad96dc76",
       "version_major": 2,
       "version_minor": 0
      },
      "text/plain": [
       "AvgPolNet Train:   0%|          | 0/500 [00:00<?, ?it/s]"
      ]
     },
     "metadata": {},
     "output_type": "display_data"
    },
    {
     "data": {
      "application/vnd.jupyter.widget-view+json": {
       "model_id": "2f7de16aff5a4881b7556233ecf0b4a8",
       "version_major": 2,
       "version_minor": 0
      },
      "text/plain": [
       "QNet Train:   0%|          | 0/120 [00:00<?, ?it/s]"
      ]
     },
     "metadata": {},
     "output_type": "display_data"
    },
    {
     "data": {
      "application/vnd.jupyter.widget-view+json": {
       "model_id": "3d08fa729cdb4d68856d45c99475dd72",
       "version_major": 2,
       "version_minor": 0
      },
      "text/plain": [
       "AvgPolNet Train:   0%|          | 0/30 [00:00<?, ?it/s]"
      ]
     },
     "metadata": {},
     "output_type": "display_data"
    },
    {
     "data": {
      "application/vnd.jupyter.widget-view+json": {
       "model_id": "0c6b00a8ea704f008de528a6002d3cb6",
       "version_major": 2,
       "version_minor": 0
      },
      "text/plain": [
       "QNet Train:   0%|          | 0/3000 [00:00<?, ?it/s]"
      ]
     },
     "metadata": {},
     "output_type": "display_data"
    },
    {
     "data": {
      "application/vnd.jupyter.widget-view+json": {
       "model_id": "9d77212b9cd94174bca4364d51230eb4",
       "version_major": 2,
       "version_minor": 0
      },
      "text/plain": [
       "AvgPolNet Train:   0%|          | 0/800 [00:00<?, ?it/s]"
      ]
     },
     "metadata": {},
     "output_type": "display_data"
    },
    {
     "data": {
      "application/vnd.jupyter.widget-view+json": {
       "model_id": "7c9b27b063ac41f5882dee22f29ec048",
       "version_major": 2,
       "version_minor": 0
      },
      "text/plain": [
       "Phase:   0%|          | 0/3 [00:00<?, ?it/s]"
      ]
     },
     "metadata": {},
     "output_type": "display_data"
    },
    {
     "data": {
      "application/vnd.jupyter.widget-view+json": {
       "model_id": "ec5910faf5f34859bce26d0fce15afe5",
       "version_major": 2,
       "version_minor": 0
      },
      "text/plain": [
       "QNet Train:   0%|          | 0/1500 [00:00<?, ?it/s]"
      ]
     },
     "metadata": {},
     "output_type": "display_data"
    },
    {
     "data": {
      "application/vnd.jupyter.widget-view+json": {
       "model_id": "d2729e5d464942fcbaeb3a25e3ff1dd2",
       "version_major": 2,
       "version_minor": 0
      },
      "text/plain": [
       "QNet Train:   0%|          | 0/120 [00:00<?, ?it/s]"
      ]
     },
     "metadata": {},
     "output_type": "display_data"
    },
    {
     "data": {
      "application/vnd.jupyter.widget-view+json": {
       "model_id": "e4ccd2f8cdc84ecd9825f5769b259ae2",
       "version_major": 2,
       "version_minor": 0
      },
      "text/plain": [
       "QNet Train:   0%|          | 0/3000 [00:00<?, ?it/s]"
      ]
     },
     "metadata": {},
     "output_type": "display_data"
    },
    {
     "data": {
      "application/vnd.jupyter.widget-view+json": {
       "model_id": "3fe6ddee5d634f2b89dfdcd927e68da4",
       "version_major": 2,
       "version_minor": 0
      },
      "text/plain": [
       "Phase:   0%|          | 0/3 [00:00<?, ?it/s]"
      ]
     },
     "metadata": {},
     "output_type": "display_data"
    },
    {
     "data": {
      "application/vnd.jupyter.widget-view+json": {
       "model_id": "c2c229746cd4426aa770cb5a92592044",
       "version_major": 2,
       "version_minor": 0
      },
      "text/plain": [
       "QNet Train:   0%|          | 0/1500 [00:00<?, ?it/s]"
      ]
     },
     "metadata": {},
     "output_type": "display_data"
    },
    {
     "data": {
      "application/vnd.jupyter.widget-view+json": {
       "model_id": "50437a88214b4d7dab4c4bb7b1d1c3bf",
       "version_major": 2,
       "version_minor": 0
      },
      "text/plain": [
       "AvgPolNet Train:   0%|          | 0/500 [00:00<?, ?it/s]"
      ]
     },
     "metadata": {},
     "output_type": "display_data"
    },
    {
     "data": {
      "application/vnd.jupyter.widget-view+json": {
       "model_id": "b9a1778df5b2428186dd199a4ce2b340",
       "version_major": 2,
       "version_minor": 0
      },
      "text/plain": [
       "QNet Train:   0%|          | 0/120 [00:00<?, ?it/s]"
      ]
     },
     "metadata": {},
     "output_type": "display_data"
    },
    {
     "data": {
      "application/vnd.jupyter.widget-view+json": {
       "model_id": "71e96e6bbbf845b5aa50a99e264a2c53",
       "version_major": 2,
       "version_minor": 0
      },
      "text/plain": [
       "AvgPolNet Train:   0%|          | 0/30 [00:00<?, ?it/s]"
      ]
     },
     "metadata": {},
     "output_type": "display_data"
    },
    {
     "data": {
      "application/vnd.jupyter.widget-view+json": {
       "model_id": "45d15080168f46a48bf037992392aaaf",
       "version_major": 2,
       "version_minor": 0
      },
      "text/plain": [
       "QNet Train:   0%|          | 0/3000 [00:00<?, ?it/s]"
      ]
     },
     "metadata": {},
     "output_type": "display_data"
    },
    {
     "data": {
      "application/vnd.jupyter.widget-view+json": {
       "model_id": "a384c47d2e6b42329612af698e57222f",
       "version_major": 2,
       "version_minor": 0
      },
      "text/plain": [
       "AvgPolNet Train:   0%|          | 0/800 [00:00<?, ?it/s]"
      ]
     },
     "metadata": {},
     "output_type": "display_data"
    },
    {
     "data": {
      "application/vnd.jupyter.widget-view+json": {
       "model_id": "f78dd77366804bd7a05df6bcb950940a",
       "version_major": 2,
       "version_minor": 0
      },
      "text/plain": [
       "Phase:   0%|          | 0/3 [00:00<?, ?it/s]"
      ]
     },
     "metadata": {},
     "output_type": "display_data"
    },
    {
     "data": {
      "application/vnd.jupyter.widget-view+json": {
       "model_id": "c245bbf3833e47c1a943cab5fa343f3f",
       "version_major": 2,
       "version_minor": 0
      },
      "text/plain": [
       "QNet Train:   0%|          | 0/1500 [00:00<?, ?it/s]"
      ]
     },
     "metadata": {},
     "output_type": "display_data"
    },
    {
     "data": {
      "application/vnd.jupyter.widget-view+json": {
       "model_id": "0a8f390542454c8aa1aa324fe5042d2e",
       "version_major": 2,
       "version_minor": 0
      },
      "text/plain": [
       "QNet Train:   0%|          | 0/120 [00:00<?, ?it/s]"
      ]
     },
     "metadata": {},
     "output_type": "display_data"
    },
    {
     "data": {
      "application/vnd.jupyter.widget-view+json": {
       "model_id": "ecd2e784b7e44c1f97cfb7a16981eb61",
       "version_major": 2,
       "version_minor": 0
      },
      "text/plain": [
       "QNet Train:   0%|          | 0/3000 [00:00<?, ?it/s]"
      ]
     },
     "metadata": {},
     "output_type": "display_data"
    },
    {
     "data": {
      "application/vnd.jupyter.widget-view+json": {
       "model_id": "fa36e6b0998f486fa14352db24b35cd8",
       "version_major": 2,
       "version_minor": 0
      },
      "text/plain": [
       "Phase:   0%|          | 0/3 [00:00<?, ?it/s]"
      ]
     },
     "metadata": {},
     "output_type": "display_data"
    },
    {
     "data": {
      "application/vnd.jupyter.widget-view+json": {
       "model_id": "09c666d4c37d47979e0c84aa0ef4720e",
       "version_major": 2,
       "version_minor": 0
      },
      "text/plain": [
       "QNet Train:   0%|          | 0/1500 [00:00<?, ?it/s]"
      ]
     },
     "metadata": {},
     "output_type": "display_data"
    },
    {
     "data": {
      "application/vnd.jupyter.widget-view+json": {
       "model_id": "e126bc3bf3e342a5b0d7682ba02126c0",
       "version_major": 2,
       "version_minor": 0
      },
      "text/plain": [
       "AvgPolNet Train:   0%|          | 0/500 [00:00<?, ?it/s]"
      ]
     },
     "metadata": {},
     "output_type": "display_data"
    },
    {
     "data": {
      "application/vnd.jupyter.widget-view+json": {
       "model_id": "1bdcaccbe3014821b78c01a361645db7",
       "version_major": 2,
       "version_minor": 0
      },
      "text/plain": [
       "QNet Train:   0%|          | 0/120 [00:00<?, ?it/s]"
      ]
     },
     "metadata": {},
     "output_type": "display_data"
    },
    {
     "data": {
      "application/vnd.jupyter.widget-view+json": {
       "model_id": "128efb99911b450f8d7a2ae51e8b8e45",
       "version_major": 2,
       "version_minor": 0
      },
      "text/plain": [
       "AvgPolNet Train:   0%|          | 0/30 [00:00<?, ?it/s]"
      ]
     },
     "metadata": {},
     "output_type": "display_data"
    },
    {
     "data": {
      "application/vnd.jupyter.widget-view+json": {
       "model_id": "7b19744eede040f3842e639e5ea5c5fc",
       "version_major": 2,
       "version_minor": 0
      },
      "text/plain": [
       "QNet Train:   0%|          | 0/3000 [00:00<?, ?it/s]"
      ]
     },
     "metadata": {},
     "output_type": "display_data"
    },
    {
     "data": {
      "application/vnd.jupyter.widget-view+json": {
       "model_id": "bec16a50b51d4d8fa12710a66ddb5983",
       "version_major": 2,
       "version_minor": 0
      },
      "text/plain": [
       "AvgPolNet Train:   0%|          | 0/800 [00:00<?, ?it/s]"
      ]
     },
     "metadata": {},
     "output_type": "display_data"
    },
    {
     "data": {
      "application/vnd.jupyter.widget-view+json": {
       "model_id": "069721a2bd5b42d39aa7c3837fc303ce",
       "version_major": 2,
       "version_minor": 0
      },
      "text/plain": [
       "Phase:   0%|          | 0/3 [00:00<?, ?it/s]"
      ]
     },
     "metadata": {},
     "output_type": "display_data"
    },
    {
     "data": {
      "application/vnd.jupyter.widget-view+json": {
       "model_id": "12883f330c2b4bce9256fdb5631e9c3e",
       "version_major": 2,
       "version_minor": 0
      },
      "text/plain": [
       "QNet Train:   0%|          | 0/1500 [00:00<?, ?it/s]"
      ]
     },
     "metadata": {},
     "output_type": "display_data"
    },
    {
     "data": {
      "application/vnd.jupyter.widget-view+json": {
       "model_id": "7cd13222240f4aeaae4283ceaa8d5cc3",
       "version_major": 2,
       "version_minor": 0
      },
      "text/plain": [
       "QNet Train:   0%|          | 0/120 [00:00<?, ?it/s]"
      ]
     },
     "metadata": {},
     "output_type": "display_data"
    },
    {
     "data": {
      "application/vnd.jupyter.widget-view+json": {
       "model_id": "321af1a629b441f2ba172bf0d5f46f58",
       "version_major": 2,
       "version_minor": 0
      },
      "text/plain": [
       "QNet Train:   0%|          | 0/3000 [00:00<?, ?it/s]"
      ]
     },
     "metadata": {},
     "output_type": "display_data"
    },
    {
     "data": {
      "application/vnd.jupyter.widget-view+json": {
       "model_id": "01fc7cd2113a4d6da42877772b7f48e0",
       "version_major": 2,
       "version_minor": 0
      },
      "text/plain": [
       "Phase:   0%|          | 0/3 [00:00<?, ?it/s]"
      ]
     },
     "metadata": {},
     "output_type": "display_data"
    },
    {
     "data": {
      "application/vnd.jupyter.widget-view+json": {
       "model_id": "61856c1add634efca26a9080310ac341",
       "version_major": 2,
       "version_minor": 0
      },
      "text/plain": [
       "QNet Train:   0%|          | 0/1500 [00:00<?, ?it/s]"
      ]
     },
     "metadata": {},
     "output_type": "display_data"
    },
    {
     "data": {
      "application/vnd.jupyter.widget-view+json": {
       "model_id": "04775c51a5384b3fba8f52e045b4804d",
       "version_major": 2,
       "version_minor": 0
      },
      "text/plain": [
       "AvgPolNet Train:   0%|          | 0/500 [00:00<?, ?it/s]"
      ]
     },
     "metadata": {},
     "output_type": "display_data"
    },
    {
     "data": {
      "application/vnd.jupyter.widget-view+json": {
       "model_id": "4af8deb7df3843cd8c5bd4a75d3d2361",
       "version_major": 2,
       "version_minor": 0
      },
      "text/plain": [
       "QNet Train:   0%|          | 0/120 [00:00<?, ?it/s]"
      ]
     },
     "metadata": {},
     "output_type": "display_data"
    },
    {
     "data": {
      "application/vnd.jupyter.widget-view+json": {
       "model_id": "4cbad186e08f4cabaf61a8c9babe7f6e",
       "version_major": 2,
       "version_minor": 0
      },
      "text/plain": [
       "AvgPolNet Train:   0%|          | 0/30 [00:00<?, ?it/s]"
      ]
     },
     "metadata": {},
     "output_type": "display_data"
    },
    {
     "data": {
      "application/vnd.jupyter.widget-view+json": {
       "model_id": "48af1adc1720415e87ca44cf59f933b1",
       "version_major": 2,
       "version_minor": 0
      },
      "text/plain": [
       "QNet Train:   0%|          | 0/3000 [00:00<?, ?it/s]"
      ]
     },
     "metadata": {},
     "output_type": "display_data"
    },
    {
     "data": {
      "application/vnd.jupyter.widget-view+json": {
       "model_id": "802e52adfd9542da8008c8d59bc95a4a",
       "version_major": 2,
       "version_minor": 0
      },
      "text/plain": [
       "AvgPolNet Train:   0%|          | 0/800 [00:00<?, ?it/s]"
      ]
     },
     "metadata": {},
     "output_type": "display_data"
    },
    {
     "data": {
      "application/vnd.jupyter.widget-view+json": {
       "model_id": "0f874752ec204f05892f2a65a593980d",
       "version_major": 2,
       "version_minor": 0
      },
      "text/plain": [
       "Phase:   0%|          | 0/3 [00:00<?, ?it/s]"
      ]
     },
     "metadata": {},
     "output_type": "display_data"
    },
    {
     "data": {
      "application/vnd.jupyter.widget-view+json": {
       "model_id": "7d18c83729674d19a06ac335cdece681",
       "version_major": 2,
       "version_minor": 0
      },
      "text/plain": [
       "QNet Train:   0%|          | 0/1500 [00:00<?, ?it/s]"
      ]
     },
     "metadata": {},
     "output_type": "display_data"
    },
    {
     "data": {
      "application/vnd.jupyter.widget-view+json": {
       "model_id": "4b2af168f3984355a28586d1b492ee6e",
       "version_major": 2,
       "version_minor": 0
      },
      "text/plain": [
       "QNet Train:   0%|          | 0/120 [00:00<?, ?it/s]"
      ]
     },
     "metadata": {},
     "output_type": "display_data"
    },
    {
     "data": {
      "application/vnd.jupyter.widget-view+json": {
       "model_id": "3389fbd981f34d50a05af3271e7999c4",
       "version_major": 2,
       "version_minor": 0
      },
      "text/plain": [
       "QNet Train:   0%|          | 0/3000 [00:00<?, ?it/s]"
      ]
     },
     "metadata": {},
     "output_type": "display_data"
    },
    {
     "data": {
      "application/vnd.jupyter.widget-view+json": {
       "model_id": "51ba13aac17d48b485a8cc5524fe52dd",
       "version_major": 2,
       "version_minor": 0
      },
      "text/plain": [
       "Phase:   0%|          | 0/3 [00:00<?, ?it/s]"
      ]
     },
     "metadata": {},
     "output_type": "display_data"
    },
    {
     "data": {
      "application/vnd.jupyter.widget-view+json": {
       "model_id": "c6f84073ea2243bd9966c063e8d6acd3",
       "version_major": 2,
       "version_minor": 0
      },
      "text/plain": [
       "QNet Train:   0%|          | 0/1500 [00:00<?, ?it/s]"
      ]
     },
     "metadata": {},
     "output_type": "display_data"
    },
    {
     "data": {
      "application/vnd.jupyter.widget-view+json": {
       "model_id": "7a813dbd02c14009b547b06133b4f879",
       "version_major": 2,
       "version_minor": 0
      },
      "text/plain": [
       "AvgPolNet Train:   0%|          | 0/500 [00:00<?, ?it/s]"
      ]
     },
     "metadata": {},
     "output_type": "display_data"
    },
    {
     "data": {
      "application/vnd.jupyter.widget-view+json": {
       "model_id": "e64358c876f54ef8ba265e7aab6cd872",
       "version_major": 2,
       "version_minor": 0
      },
      "text/plain": [
       "QNet Train:   0%|          | 0/120 [00:00<?, ?it/s]"
      ]
     },
     "metadata": {},
     "output_type": "display_data"
    },
    {
     "data": {
      "application/vnd.jupyter.widget-view+json": {
       "model_id": "5229ff6635274cf0a434789dcc36f59d",
       "version_major": 2,
       "version_minor": 0
      },
      "text/plain": [
       "AvgPolNet Train:   0%|          | 0/30 [00:00<?, ?it/s]"
      ]
     },
     "metadata": {},
     "output_type": "display_data"
    },
    {
     "data": {
      "application/vnd.jupyter.widget-view+json": {
       "model_id": "4dcdbcf4fbff4a458381e14689baf004",
       "version_major": 2,
       "version_minor": 0
      },
      "text/plain": [
       "QNet Train:   0%|          | 0/3000 [00:00<?, ?it/s]"
      ]
     },
     "metadata": {},
     "output_type": "display_data"
    },
    {
     "data": {
      "application/vnd.jupyter.widget-view+json": {
       "model_id": "e6c66dd62bc74c74a75610c3af18d670",
       "version_major": 2,
       "version_minor": 0
      },
      "text/plain": [
       "AvgPolNet Train:   0%|          | 0/800 [00:00<?, ?it/s]"
      ]
     },
     "metadata": {},
     "output_type": "display_data"
    },
    {
     "data": {
      "application/vnd.jupyter.widget-view+json": {
       "model_id": "b43d739d87254317b49520418551f429",
       "version_major": 2,
       "version_minor": 0
      },
      "text/plain": [
       "Phase:   0%|          | 0/3 [00:00<?, ?it/s]"
      ]
     },
     "metadata": {},
     "output_type": "display_data"
    },
    {
     "data": {
      "application/vnd.jupyter.widget-view+json": {
       "model_id": "02a7ed48903f4c24afb6729e5d3ac3f7",
       "version_major": 2,
       "version_minor": 0
      },
      "text/plain": [
       "QNet Train:   0%|          | 0/1500 [00:00<?, ?it/s]"
      ]
     },
     "metadata": {},
     "output_type": "display_data"
    },
    {
     "data": {
      "application/vnd.jupyter.widget-view+json": {
       "model_id": "6fde85e9fe3549a69673f40397d4c3df",
       "version_major": 2,
       "version_minor": 0
      },
      "text/plain": [
       "QNet Train:   0%|          | 0/120 [00:00<?, ?it/s]"
      ]
     },
     "metadata": {},
     "output_type": "display_data"
    },
    {
     "data": {
      "application/vnd.jupyter.widget-view+json": {
       "model_id": "9a84670ecd874719ace09c133f7d89f3",
       "version_major": 2,
       "version_minor": 0
      },
      "text/plain": [
       "QNet Train:   0%|          | 0/3000 [00:00<?, ?it/s]"
      ]
     },
     "metadata": {},
     "output_type": "display_data"
    },
    {
     "data": {
      "application/vnd.jupyter.widget-view+json": {
       "model_id": "8ce27033a1cf40fa8e8995c7983ce8a3",
       "version_major": 2,
       "version_minor": 0
      },
      "text/plain": [
       "Phase:   0%|          | 0/3 [00:00<?, ?it/s]"
      ]
     },
     "metadata": {},
     "output_type": "display_data"
    },
    {
     "data": {
      "application/vnd.jupyter.widget-view+json": {
       "model_id": "d39d6b5783f549eba7f532dd65c5bd19",
       "version_major": 2,
       "version_minor": 0
      },
      "text/plain": [
       "QNet Train:   0%|          | 0/1500 [00:00<?, ?it/s]"
      ]
     },
     "metadata": {},
     "output_type": "display_data"
    },
    {
     "data": {
      "application/vnd.jupyter.widget-view+json": {
       "model_id": "dd6808abaaf241c893f6c397a6e07bfc",
       "version_major": 2,
       "version_minor": 0
      },
      "text/plain": [
       "AvgPolNet Train:   0%|          | 0/500 [00:00<?, ?it/s]"
      ]
     },
     "metadata": {},
     "output_type": "display_data"
    },
    {
     "data": {
      "application/vnd.jupyter.widget-view+json": {
       "model_id": "bbbe3747dc574ecab4a6a2023bf8f9b0",
       "version_major": 2,
       "version_minor": 0
      },
      "text/plain": [
       "QNet Train:   0%|          | 0/120 [00:00<?, ?it/s]"
      ]
     },
     "metadata": {},
     "output_type": "display_data"
    },
    {
     "data": {
      "application/vnd.jupyter.widget-view+json": {
       "model_id": "d9208e897811422794fa815e5d9041c8",
       "version_major": 2,
       "version_minor": 0
      },
      "text/plain": [
       "AvgPolNet Train:   0%|          | 0/30 [00:00<?, ?it/s]"
      ]
     },
     "metadata": {},
     "output_type": "display_data"
    },
    {
     "data": {
      "application/vnd.jupyter.widget-view+json": {
       "model_id": "f49af218833a44b68b089879d0accad3",
       "version_major": 2,
       "version_minor": 0
      },
      "text/plain": [
       "QNet Train:   0%|          | 0/3000 [00:00<?, ?it/s]"
      ]
     },
     "metadata": {},
     "output_type": "display_data"
    },
    {
     "data": {
      "application/vnd.jupyter.widget-view+json": {
       "model_id": "2ea3810c4f284e52828375829e493b8b",
       "version_major": 2,
       "version_minor": 0
      },
      "text/plain": [
       "AvgPolNet Train:   0%|          | 0/800 [00:00<?, ?it/s]"
      ]
     },
     "metadata": {},
     "output_type": "display_data"
    },
    {
     "data": {
      "application/vnd.jupyter.widget-view+json": {
       "model_id": "1eb26200fc0f4fd5a5831018e80c5f43",
       "version_major": 2,
       "version_minor": 0
      },
      "text/plain": [
       "Phase:   0%|          | 0/3 [00:00<?, ?it/s]"
      ]
     },
     "metadata": {},
     "output_type": "display_data"
    },
    {
     "data": {
      "application/vnd.jupyter.widget-view+json": {
       "model_id": "6fc472a47e1342758c0079e8e721bc7f",
       "version_major": 2,
       "version_minor": 0
      },
      "text/plain": [
       "QNet Train:   0%|          | 0/1500 [00:00<?, ?it/s]"
      ]
     },
     "metadata": {},
     "output_type": "display_data"
    },
    {
     "data": {
      "application/vnd.jupyter.widget-view+json": {
       "model_id": "a29c0307397f4e318b98c449097f1712",
       "version_major": 2,
       "version_minor": 0
      },
      "text/plain": [
       "QNet Train:   0%|          | 0/120 [00:00<?, ?it/s]"
      ]
     },
     "metadata": {},
     "output_type": "display_data"
    },
    {
     "data": {
      "application/vnd.jupyter.widget-view+json": {
       "model_id": "78632a65c5924f81b4fad2dc288fed27",
       "version_major": 2,
       "version_minor": 0
      },
      "text/plain": [
       "QNet Train:   0%|          | 0/3000 [00:00<?, ?it/s]"
      ]
     },
     "metadata": {},
     "output_type": "display_data"
    },
    {
     "data": {
      "application/vnd.jupyter.widget-view+json": {
       "model_id": "13edf5875da94746bc8dfa0030924680",
       "version_major": 2,
       "version_minor": 0
      },
      "text/plain": [
       "Phase:   0%|          | 0/3 [00:00<?, ?it/s]"
      ]
     },
     "metadata": {},
     "output_type": "display_data"
    },
    {
     "data": {
      "application/vnd.jupyter.widget-view+json": {
       "model_id": "24e9a23491814f5e9ca93fa5ac746185",
       "version_major": 2,
       "version_minor": 0
      },
      "text/plain": [
       "QNet Train:   0%|          | 0/1500 [00:00<?, ?it/s]"
      ]
     },
     "metadata": {},
     "output_type": "display_data"
    },
    {
     "data": {
      "application/vnd.jupyter.widget-view+json": {
       "model_id": "b2f20606894d4d428ae2556ffb83fba5",
       "version_major": 2,
       "version_minor": 0
      },
      "text/plain": [
       "AvgPolNet Train:   0%|          | 0/500 [00:00<?, ?it/s]"
      ]
     },
     "metadata": {},
     "output_type": "display_data"
    },
    {
     "data": {
      "application/vnd.jupyter.widget-view+json": {
       "model_id": "9948348edecb423a9c7c3327c1ada949",
       "version_major": 2,
       "version_minor": 0
      },
      "text/plain": [
       "QNet Train:   0%|          | 0/120 [00:00<?, ?it/s]"
      ]
     },
     "metadata": {},
     "output_type": "display_data"
    },
    {
     "data": {
      "application/vnd.jupyter.widget-view+json": {
       "model_id": "3d59bdb0f615456a90609dc278aac560",
       "version_major": 2,
       "version_minor": 0
      },
      "text/plain": [
       "AvgPolNet Train:   0%|          | 0/30 [00:00<?, ?it/s]"
      ]
     },
     "metadata": {},
     "output_type": "display_data"
    },
    {
     "data": {
      "application/vnd.jupyter.widget-view+json": {
       "model_id": "8aca26e39c4b4d189eba112e896a81b6",
       "version_major": 2,
       "version_minor": 0
      },
      "text/plain": [
       "QNet Train:   0%|          | 0/3000 [00:00<?, ?it/s]"
      ]
     },
     "metadata": {},
     "output_type": "display_data"
    },
    {
     "data": {
      "application/vnd.jupyter.widget-view+json": {
       "model_id": "ab58e1b53286402e92e8295cb55ec03a",
       "version_major": 2,
       "version_minor": 0
      },
      "text/plain": [
       "AvgPolNet Train:   0%|          | 0/800 [00:00<?, ?it/s]"
      ]
     },
     "metadata": {},
     "output_type": "display_data"
    },
    {
     "data": {
      "application/vnd.jupyter.widget-view+json": {
       "model_id": "ad6767754b0c4e1092ae350a5e558c3b",
       "version_major": 2,
       "version_minor": 0
      },
      "text/plain": [
       "Phase:   0%|          | 0/3 [00:00<?, ?it/s]"
      ]
     },
     "metadata": {},
     "output_type": "display_data"
    },
    {
     "data": {
      "application/vnd.jupyter.widget-view+json": {
       "model_id": "27f3c94994c94daf9cbb4c852f0d4454",
       "version_major": 2,
       "version_minor": 0
      },
      "text/plain": [
       "QNet Train:   0%|          | 0/1500 [00:00<?, ?it/s]"
      ]
     },
     "metadata": {},
     "output_type": "display_data"
    },
    {
     "data": {
      "application/vnd.jupyter.widget-view+json": {
       "model_id": "13491997292f498592d561921924707c",
       "version_major": 2,
       "version_minor": 0
      },
      "text/plain": [
       "QNet Train:   0%|          | 0/120 [00:00<?, ?it/s]"
      ]
     },
     "metadata": {},
     "output_type": "display_data"
    },
    {
     "data": {
      "application/vnd.jupyter.widget-view+json": {
       "model_id": "9ad201efef1a4d8eba3e7326db78484a",
       "version_major": 2,
       "version_minor": 0
      },
      "text/plain": [
       "QNet Train:   0%|          | 0/3000 [00:00<?, ?it/s]"
      ]
     },
     "metadata": {},
     "output_type": "display_data"
    },
    {
     "data": {
      "application/vnd.jupyter.widget-view+json": {
       "model_id": "6356ae98b9604e1da69beda4f4cdf3fe",
       "version_major": 2,
       "version_minor": 0
      },
      "text/plain": [
       "Phase:   0%|          | 0/3 [00:00<?, ?it/s]"
      ]
     },
     "metadata": {},
     "output_type": "display_data"
    },
    {
     "data": {
      "application/vnd.jupyter.widget-view+json": {
       "model_id": "ca8d16819f6d4b6e955e3ced3285aa9c",
       "version_major": 2,
       "version_minor": 0
      },
      "text/plain": [
       "QNet Train:   0%|          | 0/1500 [00:00<?, ?it/s]"
      ]
     },
     "metadata": {},
     "output_type": "display_data"
    },
    {
     "data": {
      "application/vnd.jupyter.widget-view+json": {
       "model_id": "c805706cfbe34670b8129ec75a6e5499",
       "version_major": 2,
       "version_minor": 0
      },
      "text/plain": [
       "AvgPolNet Train:   0%|          | 0/500 [00:00<?, ?it/s]"
      ]
     },
     "metadata": {},
     "output_type": "display_data"
    },
    {
     "data": {
      "application/vnd.jupyter.widget-view+json": {
       "model_id": "a1a0d7c933e148cf863b892d1926f3b6",
       "version_major": 2,
       "version_minor": 0
      },
      "text/plain": [
       "QNet Train:   0%|          | 0/120 [00:00<?, ?it/s]"
      ]
     },
     "metadata": {},
     "output_type": "display_data"
    },
    {
     "data": {
      "application/vnd.jupyter.widget-view+json": {
       "model_id": "830b2cbd220d44af9fb65873ec678e54",
       "version_major": 2,
       "version_minor": 0
      },
      "text/plain": [
       "AvgPolNet Train:   0%|          | 0/30 [00:00<?, ?it/s]"
      ]
     },
     "metadata": {},
     "output_type": "display_data"
    },
    {
     "data": {
      "application/vnd.jupyter.widget-view+json": {
       "model_id": "1876755f96a64618a66fe0ea5da1f961",
       "version_major": 2,
       "version_minor": 0
      },
      "text/plain": [
       "QNet Train:   0%|          | 0/3000 [00:00<?, ?it/s]"
      ]
     },
     "metadata": {},
     "output_type": "display_data"
    },
    {
     "data": {
      "application/vnd.jupyter.widget-view+json": {
       "model_id": "63b94bda6f334987b3b9a9dfd186ebc3",
       "version_major": 2,
       "version_minor": 0
      },
      "text/plain": [
       "AvgPolNet Train:   0%|          | 0/800 [00:00<?, ?it/s]"
      ]
     },
     "metadata": {},
     "output_type": "display_data"
    },
    {
     "data": {
      "application/vnd.jupyter.widget-view+json": {
       "model_id": "effcc9f80b0c4cc897155b5975ef3ba0",
       "version_major": 2,
       "version_minor": 0
      },
      "text/plain": [
       "Phase:   0%|          | 0/3 [00:00<?, ?it/s]"
      ]
     },
     "metadata": {},
     "output_type": "display_data"
    },
    {
     "data": {
      "application/vnd.jupyter.widget-view+json": {
       "model_id": "22b339075a324f888db9f29c9957ded3",
       "version_major": 2,
       "version_minor": 0
      },
      "text/plain": [
       "QNet Train:   0%|          | 0/1500 [00:00<?, ?it/s]"
      ]
     },
     "metadata": {},
     "output_type": "display_data"
    },
    {
     "data": {
      "application/vnd.jupyter.widget-view+json": {
       "model_id": "f8d58880f9f34289b490f107067628e2",
       "version_major": 2,
       "version_minor": 0
      },
      "text/plain": [
       "QNet Train:   0%|          | 0/120 [00:00<?, ?it/s]"
      ]
     },
     "metadata": {},
     "output_type": "display_data"
    },
    {
     "data": {
      "application/vnd.jupyter.widget-view+json": {
       "model_id": "b52b509a44e443d6be3808946d4b2ef2",
       "version_major": 2,
       "version_minor": 0
      },
      "text/plain": [
       "QNet Train:   0%|          | 0/3000 [00:00<?, ?it/s]"
      ]
     },
     "metadata": {},
     "output_type": "display_data"
    },
    {
     "data": {
      "application/vnd.jupyter.widget-view+json": {
       "model_id": "cb17874302574966a9e5a69f839181c1",
       "version_major": 2,
       "version_minor": 0
      },
      "text/plain": [
       "Phase:   0%|          | 0/3 [00:00<?, ?it/s]"
      ]
     },
     "metadata": {},
     "output_type": "display_data"
    },
    {
     "data": {
      "application/vnd.jupyter.widget-view+json": {
       "model_id": "9a0c7b7a2ffc412fa4308ad0a667e8a3",
       "version_major": 2,
       "version_minor": 0
      },
      "text/plain": [
       "QNet Train:   0%|          | 0/1500 [00:00<?, ?it/s]"
      ]
     },
     "metadata": {},
     "output_type": "display_data"
    },
    {
     "data": {
      "application/vnd.jupyter.widget-view+json": {
       "model_id": "5658936c69c14401a9ad3c4258890ca6",
       "version_major": 2,
       "version_minor": 0
      },
      "text/plain": [
       "AvgPolNet Train:   0%|          | 0/500 [00:00<?, ?it/s]"
      ]
     },
     "metadata": {},
     "output_type": "display_data"
    },
    {
     "data": {
      "application/vnd.jupyter.widget-view+json": {
       "model_id": "e4597619ad0649ada990c1c10200d82e",
       "version_major": 2,
       "version_minor": 0
      },
      "text/plain": [
       "QNet Train:   0%|          | 0/120 [00:00<?, ?it/s]"
      ]
     },
     "metadata": {},
     "output_type": "display_data"
    },
    {
     "data": {
      "application/vnd.jupyter.widget-view+json": {
       "model_id": "a7c79dac9de44009b245e75d05a7e587",
       "version_major": 2,
       "version_minor": 0
      },
      "text/plain": [
       "AvgPolNet Train:   0%|          | 0/30 [00:00<?, ?it/s]"
      ]
     },
     "metadata": {},
     "output_type": "display_data"
    },
    {
     "data": {
      "application/vnd.jupyter.widget-view+json": {
       "model_id": "10b9345b96ed46f7bbe595e9bb58cd59",
       "version_major": 2,
       "version_minor": 0
      },
      "text/plain": [
       "QNet Train:   0%|          | 0/3000 [00:00<?, ?it/s]"
      ]
     },
     "metadata": {},
     "output_type": "display_data"
    },
    {
     "data": {
      "application/vnd.jupyter.widget-view+json": {
       "model_id": "92ad7e6ae4e64d4ca18ce1d4c276dde7",
       "version_major": 2,
       "version_minor": 0
      },
      "text/plain": [
       "AvgPolNet Train:   0%|          | 0/800 [00:00<?, ?it/s]"
      ]
     },
     "metadata": {},
     "output_type": "display_data"
    },
    {
     "data": {
      "application/vnd.jupyter.widget-view+json": {
       "model_id": "cbccfc12f31a4897af3d26a87710f885",
       "version_major": 2,
       "version_minor": 0
      },
      "text/plain": [
       "Phase:   0%|          | 0/3 [00:00<?, ?it/s]"
      ]
     },
     "metadata": {},
     "output_type": "display_data"
    },
    {
     "data": {
      "application/vnd.jupyter.widget-view+json": {
       "model_id": "4b072f8ad11b4af4a566ff5e8a6fe3b1",
       "version_major": 2,
       "version_minor": 0
      },
      "text/plain": [
       "QNet Train:   0%|          | 0/1500 [00:00<?, ?it/s]"
      ]
     },
     "metadata": {},
     "output_type": "display_data"
    },
    {
     "data": {
      "application/vnd.jupyter.widget-view+json": {
       "model_id": "8afb5fae882d404aa664ec846576770c",
       "version_major": 2,
       "version_minor": 0
      },
      "text/plain": [
       "QNet Train:   0%|          | 0/120 [00:00<?, ?it/s]"
      ]
     },
     "metadata": {},
     "output_type": "display_data"
    },
    {
     "data": {
      "application/vnd.jupyter.widget-view+json": {
       "model_id": "9909ce90f8f749d1b5ebc88d583e2182",
       "version_major": 2,
       "version_minor": 0
      },
      "text/plain": [
       "QNet Train:   0%|          | 0/3000 [00:00<?, ?it/s]"
      ]
     },
     "metadata": {},
     "output_type": "display_data"
    },
    {
     "data": {
      "application/vnd.jupyter.widget-view+json": {
       "model_id": "adb2fbca56cd4683bf72fd9491629a10",
       "version_major": 2,
       "version_minor": 0
      },
      "text/plain": [
       "Phase:   0%|          | 0/3 [00:00<?, ?it/s]"
      ]
     },
     "metadata": {},
     "output_type": "display_data"
    },
    {
     "data": {
      "application/vnd.jupyter.widget-view+json": {
       "model_id": "e3809d8e5647496ebd4485392a9cca46",
       "version_major": 2,
       "version_minor": 0
      },
      "text/plain": [
       "QNet Train:   0%|          | 0/1500 [00:00<?, ?it/s]"
      ]
     },
     "metadata": {},
     "output_type": "display_data"
    },
    {
     "data": {
      "application/vnd.jupyter.widget-view+json": {
       "model_id": "35030dd32d544ecea5c64cf8973439f8",
       "version_major": 2,
       "version_minor": 0
      },
      "text/plain": [
       "AvgPolNet Train:   0%|          | 0/500 [00:00<?, ?it/s]"
      ]
     },
     "metadata": {},
     "output_type": "display_data"
    },
    {
     "data": {
      "application/vnd.jupyter.widget-view+json": {
       "model_id": "b8d2ed3425f94d9a90589bdabec59156",
       "version_major": 2,
       "version_minor": 0
      },
      "text/plain": [
       "QNet Train:   0%|          | 0/120 [00:00<?, ?it/s]"
      ]
     },
     "metadata": {},
     "output_type": "display_data"
    },
    {
     "data": {
      "application/vnd.jupyter.widget-view+json": {
       "model_id": "441b634b073042d3be0417d11a4b9290",
       "version_major": 2,
       "version_minor": 0
      },
      "text/plain": [
       "AvgPolNet Train:   0%|          | 0/30 [00:00<?, ?it/s]"
      ]
     },
     "metadata": {},
     "output_type": "display_data"
    },
    {
     "data": {
      "application/vnd.jupyter.widget-view+json": {
       "model_id": "4176fd370da94bea9779ab7444b316c8",
       "version_major": 2,
       "version_minor": 0
      },
      "text/plain": [
       "QNet Train:   0%|          | 0/3000 [00:00<?, ?it/s]"
      ]
     },
     "metadata": {},
     "output_type": "display_data"
    },
    {
     "data": {
      "application/vnd.jupyter.widget-view+json": {
       "model_id": "60c100b59313485fbae69d2b822685e6",
       "version_major": 2,
       "version_minor": 0
      },
      "text/plain": [
       "AvgPolNet Train:   0%|          | 0/800 [00:00<?, ?it/s]"
      ]
     },
     "metadata": {},
     "output_type": "display_data"
    },
    {
     "data": {
      "application/vnd.jupyter.widget-view+json": {
       "model_id": "4141bf0bb9df4e86814079be1a98539a",
       "version_major": 2,
       "version_minor": 0
      },
      "text/plain": [
       "Phase:   0%|          | 0/3 [00:00<?, ?it/s]"
      ]
     },
     "metadata": {},
     "output_type": "display_data"
    },
    {
     "data": {
      "application/vnd.jupyter.widget-view+json": {
       "model_id": "2facb9b598074ccbb541d778f15cc485",
       "version_major": 2,
       "version_minor": 0
      },
      "text/plain": [
       "QNet Train:   0%|          | 0/1500 [00:00<?, ?it/s]"
      ]
     },
     "metadata": {},
     "output_type": "display_data"
    },
    {
     "data": {
      "application/vnd.jupyter.widget-view+json": {
       "model_id": "200202c34ea048e39f66aa09f7336d80",
       "version_major": 2,
       "version_minor": 0
      },
      "text/plain": [
       "QNet Train:   0%|          | 0/120 [00:00<?, ?it/s]"
      ]
     },
     "metadata": {},
     "output_type": "display_data"
    },
    {
     "data": {
      "application/vnd.jupyter.widget-view+json": {
       "model_id": "6ca192e7bbac4334b85f96893232927e",
       "version_major": 2,
       "version_minor": 0
      },
      "text/plain": [
       "QNet Train:   0%|          | 0/3000 [00:00<?, ?it/s]"
      ]
     },
     "metadata": {},
     "output_type": "display_data"
    },
    {
     "data": {
      "application/vnd.jupyter.widget-view+json": {
       "model_id": "fec5ac985b274317823a0e84761f2af2",
       "version_major": 2,
       "version_minor": 0
      },
      "text/plain": [
       "Phase:   0%|          | 0/3 [00:00<?, ?it/s]"
      ]
     },
     "metadata": {},
     "output_type": "display_data"
    },
    {
     "data": {
      "application/vnd.jupyter.widget-view+json": {
       "model_id": "df5ce37ab0934dcf8ca352247aec7540",
       "version_major": 2,
       "version_minor": 0
      },
      "text/plain": [
       "QNet Train:   0%|          | 0/1500 [00:00<?, ?it/s]"
      ]
     },
     "metadata": {},
     "output_type": "display_data"
    },
    {
     "data": {
      "application/vnd.jupyter.widget-view+json": {
       "model_id": "4dcb805a09a045d7bfe02619944c0a2f",
       "version_major": 2,
       "version_minor": 0
      },
      "text/plain": [
       "AvgPolNet Train:   0%|          | 0/500 [00:00<?, ?it/s]"
      ]
     },
     "metadata": {},
     "output_type": "display_data"
    },
    {
     "data": {
      "application/vnd.jupyter.widget-view+json": {
       "model_id": "0aa487baa6954b6ea8c46e90c3b0635f",
       "version_major": 2,
       "version_minor": 0
      },
      "text/plain": [
       "QNet Train:   0%|          | 0/120 [00:00<?, ?it/s]"
      ]
     },
     "metadata": {},
     "output_type": "display_data"
    },
    {
     "data": {
      "application/vnd.jupyter.widget-view+json": {
       "model_id": "5972534ac7bd4dc186ff6a386bbc3475",
       "version_major": 2,
       "version_minor": 0
      },
      "text/plain": [
       "AvgPolNet Train:   0%|          | 0/30 [00:00<?, ?it/s]"
      ]
     },
     "metadata": {},
     "output_type": "display_data"
    },
    {
     "data": {
      "application/vnd.jupyter.widget-view+json": {
       "model_id": "723d849aa7ee4556bd5ea9b3d74573c9",
       "version_major": 2,
       "version_minor": 0
      },
      "text/plain": [
       "QNet Train:   0%|          | 0/3000 [00:00<?, ?it/s]"
      ]
     },
     "metadata": {},
     "output_type": "display_data"
    },
    {
     "data": {
      "application/vnd.jupyter.widget-view+json": {
       "model_id": "4558310ae232429f88e19c86911e4c70",
       "version_major": 2,
       "version_minor": 0
      },
      "text/plain": [
       "AvgPolNet Train:   0%|          | 0/800 [00:00<?, ?it/s]"
      ]
     },
     "metadata": {},
     "output_type": "display_data"
    },
    {
     "data": {
      "application/vnd.jupyter.widget-view+json": {
       "model_id": "1f0d805a69764d5bbcfa8c9c6a975ad3",
       "version_major": 2,
       "version_minor": 0
      },
      "text/plain": [
       "Phase:   0%|          | 0/3 [00:00<?, ?it/s]"
      ]
     },
     "metadata": {},
     "output_type": "display_data"
    },
    {
     "data": {
      "application/vnd.jupyter.widget-view+json": {
       "model_id": "ea3bd3a0646744839eb7e4aa692f4b71",
       "version_major": 2,
       "version_minor": 0
      },
      "text/plain": [
       "QNet Train:   0%|          | 0/1500 [00:00<?, ?it/s]"
      ]
     },
     "metadata": {},
     "output_type": "display_data"
    },
    {
     "data": {
      "application/vnd.jupyter.widget-view+json": {
       "model_id": "1505b95fd37a44f4bd04ed5bbff59f91",
       "version_major": 2,
       "version_minor": 0
      },
      "text/plain": [
       "QNet Train:   0%|          | 0/120 [00:00<?, ?it/s]"
      ]
     },
     "metadata": {},
     "output_type": "display_data"
    },
    {
     "data": {
      "application/vnd.jupyter.widget-view+json": {
       "model_id": "a8b6771ac5354b7397c909ef398c970c",
       "version_major": 2,
       "version_minor": 0
      },
      "text/plain": [
       "QNet Train:   0%|          | 0/3000 [00:00<?, ?it/s]"
      ]
     },
     "metadata": {},
     "output_type": "display_data"
    },
    {
     "data": {
      "application/vnd.jupyter.widget-view+json": {
       "model_id": "e24ffd25a81a4c54978ccfe966dafe6f",
       "version_major": 2,
       "version_minor": 0
      },
      "text/plain": [
       "Phase:   0%|          | 0/3 [00:00<?, ?it/s]"
      ]
     },
     "metadata": {},
     "output_type": "display_data"
    },
    {
     "data": {
      "application/vnd.jupyter.widget-view+json": {
       "model_id": "4f5d319fb4b84605a2c1542992de2bb8",
       "version_major": 2,
       "version_minor": 0
      },
      "text/plain": [
       "QNet Train:   0%|          | 0/1500 [00:00<?, ?it/s]"
      ]
     },
     "metadata": {},
     "output_type": "display_data"
    },
    {
     "data": {
      "application/vnd.jupyter.widget-view+json": {
       "model_id": "bd492b0661844c77a02672522a0d965a",
       "version_major": 2,
       "version_minor": 0
      },
      "text/plain": [
       "AvgPolNet Train:   0%|          | 0/500 [00:00<?, ?it/s]"
      ]
     },
     "metadata": {},
     "output_type": "display_data"
    },
    {
     "data": {
      "application/vnd.jupyter.widget-view+json": {
       "model_id": "4b24e559a83741ff94c6fcebd386f7ee",
       "version_major": 2,
       "version_minor": 0
      },
      "text/plain": [
       "QNet Train:   0%|          | 0/120 [00:00<?, ?it/s]"
      ]
     },
     "metadata": {},
     "output_type": "display_data"
    },
    {
     "data": {
      "application/vnd.jupyter.widget-view+json": {
       "model_id": "93638b2389ba49818c58084f333fa2b3",
       "version_major": 2,
       "version_minor": 0
      },
      "text/plain": [
       "AvgPolNet Train:   0%|          | 0/30 [00:00<?, ?it/s]"
      ]
     },
     "metadata": {},
     "output_type": "display_data"
    },
    {
     "data": {
      "application/vnd.jupyter.widget-view+json": {
       "model_id": "99d9f806472d48e79781e69ffff270d0",
       "version_major": 2,
       "version_minor": 0
      },
      "text/plain": [
       "QNet Train:   0%|          | 0/3000 [00:00<?, ?it/s]"
      ]
     },
     "metadata": {},
     "output_type": "display_data"
    },
    {
     "data": {
      "application/vnd.jupyter.widget-view+json": {
       "model_id": "ee71fd27ecd14e87a6bc45ce97528144",
       "version_major": 2,
       "version_minor": 0
      },
      "text/plain": [
       "AvgPolNet Train:   0%|          | 0/800 [00:00<?, ?it/s]"
      ]
     },
     "metadata": {},
     "output_type": "display_data"
    },
    {
     "data": {
      "application/vnd.jupyter.widget-view+json": {
       "model_id": "6151b7b6d10b48e1917075be0e6fce4f",
       "version_major": 2,
       "version_minor": 0
      },
      "text/plain": [
       "Phase:   0%|          | 0/3 [00:00<?, ?it/s]"
      ]
     },
     "metadata": {},
     "output_type": "display_data"
    },
    {
     "data": {
      "application/vnd.jupyter.widget-view+json": {
       "model_id": "1fc11ceed8364140a208453e30e9f686",
       "version_major": 2,
       "version_minor": 0
      },
      "text/plain": [
       "QNet Train:   0%|          | 0/1500 [00:00<?, ?it/s]"
      ]
     },
     "metadata": {},
     "output_type": "display_data"
    },
    {
     "data": {
      "application/vnd.jupyter.widget-view+json": {
       "model_id": "87584b3d24fa412186ccde6613fa3e69",
       "version_major": 2,
       "version_minor": 0
      },
      "text/plain": [
       "QNet Train:   0%|          | 0/120 [00:00<?, ?it/s]"
      ]
     },
     "metadata": {},
     "output_type": "display_data"
    },
    {
     "data": {
      "application/vnd.jupyter.widget-view+json": {
       "model_id": "275d89ea40ef439085fe13ce20ff3f16",
       "version_major": 2,
       "version_minor": 0
      },
      "text/plain": [
       "QNet Train:   0%|          | 0/3000 [00:00<?, ?it/s]"
      ]
     },
     "metadata": {},
     "output_type": "display_data"
    },
    {
     "data": {
      "application/vnd.jupyter.widget-view+json": {
       "model_id": "825744b6e0224eb8b695d9b5b50810ad",
       "version_major": 2,
       "version_minor": 0
      },
      "text/plain": [
       "Phase:   0%|          | 0/3 [00:00<?, ?it/s]"
      ]
     },
     "metadata": {},
     "output_type": "display_data"
    },
    {
     "data": {
      "application/vnd.jupyter.widget-view+json": {
       "model_id": "57cf6d2b8794469eae426b82d7f23add",
       "version_major": 2,
       "version_minor": 0
      },
      "text/plain": [
       "QNet Train:   0%|          | 0/1500 [00:00<?, ?it/s]"
      ]
     },
     "metadata": {},
     "output_type": "display_data"
    },
    {
     "data": {
      "application/vnd.jupyter.widget-view+json": {
       "model_id": "b2f74561b2da45749a90a68ed89e6f3c",
       "version_major": 2,
       "version_minor": 0
      },
      "text/plain": [
       "AvgPolNet Train:   0%|          | 0/500 [00:00<?, ?it/s]"
      ]
     },
     "metadata": {},
     "output_type": "display_data"
    },
    {
     "data": {
      "application/vnd.jupyter.widget-view+json": {
       "model_id": "c28c8ec370c04f5fbf94d5b7f1956820",
       "version_major": 2,
       "version_minor": 0
      },
      "text/plain": [
       "QNet Train:   0%|          | 0/120 [00:00<?, ?it/s]"
      ]
     },
     "metadata": {},
     "output_type": "display_data"
    },
    {
     "data": {
      "application/vnd.jupyter.widget-view+json": {
       "model_id": "3d76fcd182fa45a6a3ae70c418911c52",
       "version_major": 2,
       "version_minor": 0
      },
      "text/plain": [
       "AvgPolNet Train:   0%|          | 0/30 [00:00<?, ?it/s]"
      ]
     },
     "metadata": {},
     "output_type": "display_data"
    },
    {
     "data": {
      "application/vnd.jupyter.widget-view+json": {
       "model_id": "a21b801590384e62ba2330535667f53e",
       "version_major": 2,
       "version_minor": 0
      },
      "text/plain": [
       "QNet Train:   0%|          | 0/3000 [00:00<?, ?it/s]"
      ]
     },
     "metadata": {},
     "output_type": "display_data"
    },
    {
     "data": {
      "application/vnd.jupyter.widget-view+json": {
       "model_id": "5077a269455f481b9d8916da7b7a706d",
       "version_major": 2,
       "version_minor": 0
      },
      "text/plain": [
       "AvgPolNet Train:   0%|          | 0/800 [00:00<?, ?it/s]"
      ]
     },
     "metadata": {},
     "output_type": "display_data"
    },
    {
     "data": {
      "application/vnd.jupyter.widget-view+json": {
       "model_id": "ac1a087277f34a4288187baa536cd0e4",
       "version_major": 2,
       "version_minor": 0
      },
      "text/plain": [
       "Phase:   0%|          | 0/3 [00:00<?, ?it/s]"
      ]
     },
     "metadata": {},
     "output_type": "display_data"
    },
    {
     "data": {
      "application/vnd.jupyter.widget-view+json": {
       "model_id": "119468330d26440fa6e027699d55a09a",
       "version_major": 2,
       "version_minor": 0
      },
      "text/plain": [
       "QNet Train:   0%|          | 0/1500 [00:00<?, ?it/s]"
      ]
     },
     "metadata": {},
     "output_type": "display_data"
    },
    {
     "data": {
      "application/vnd.jupyter.widget-view+json": {
       "model_id": "b13970c8611b4bc98a1a623163a96a2a",
       "version_major": 2,
       "version_minor": 0
      },
      "text/plain": [
       "QNet Train:   0%|          | 0/120 [00:00<?, ?it/s]"
      ]
     },
     "metadata": {},
     "output_type": "display_data"
    },
    {
     "data": {
      "application/vnd.jupyter.widget-view+json": {
       "model_id": "7d464f06e713426596e606390a50ceac",
       "version_major": 2,
       "version_minor": 0
      },
      "text/plain": [
       "QNet Train:   0%|          | 0/3000 [00:00<?, ?it/s]"
      ]
     },
     "metadata": {},
     "output_type": "display_data"
    },
    {
     "data": {
      "application/vnd.jupyter.widget-view+json": {
       "model_id": "59ce5efb98934bc5b34a7cbf11e1eea1",
       "version_major": 2,
       "version_minor": 0
      },
      "text/plain": [
       "Phase:   0%|          | 0/3 [00:00<?, ?it/s]"
      ]
     },
     "metadata": {},
     "output_type": "display_data"
    },
    {
     "data": {
      "application/vnd.jupyter.widget-view+json": {
       "model_id": "21ef50910689465a9aaff8190a9c5a89",
       "version_major": 2,
       "version_minor": 0
      },
      "text/plain": [
       "QNet Train:   0%|          | 0/1500 [00:00<?, ?it/s]"
      ]
     },
     "metadata": {},
     "output_type": "display_data"
    },
    {
     "data": {
      "application/vnd.jupyter.widget-view+json": {
       "model_id": "a436ab00662144fd8dec5984624fe2e0",
       "version_major": 2,
       "version_minor": 0
      },
      "text/plain": [
       "AvgPolNet Train:   0%|          | 0/500 [00:00<?, ?it/s]"
      ]
     },
     "metadata": {},
     "output_type": "display_data"
    },
    {
     "data": {
      "application/vnd.jupyter.widget-view+json": {
       "model_id": "8da1ec40ef104177bd87103fc364006b",
       "version_major": 2,
       "version_minor": 0
      },
      "text/plain": [
       "QNet Train:   0%|          | 0/120 [00:00<?, ?it/s]"
      ]
     },
     "metadata": {},
     "output_type": "display_data"
    },
    {
     "data": {
      "application/vnd.jupyter.widget-view+json": {
       "model_id": "093ff5a01ab341eba5ab5e9588ed5d74",
       "version_major": 2,
       "version_minor": 0
      },
      "text/plain": [
       "AvgPolNet Train:   0%|          | 0/30 [00:00<?, ?it/s]"
      ]
     },
     "metadata": {},
     "output_type": "display_data"
    },
    {
     "data": {
      "application/vnd.jupyter.widget-view+json": {
       "model_id": "3e022239fe93462f93ea47c22653570d",
       "version_major": 2,
       "version_minor": 0
      },
      "text/plain": [
       "QNet Train:   0%|          | 0/3000 [00:00<?, ?it/s]"
      ]
     },
     "metadata": {},
     "output_type": "display_data"
    },
    {
     "data": {
      "application/vnd.jupyter.widget-view+json": {
       "model_id": "d7f6b1d26b1843f38a72ea5e75fd2350",
       "version_major": 2,
       "version_minor": 0
      },
      "text/plain": [
       "AvgPolNet Train:   0%|          | 0/800 [00:00<?, ?it/s]"
      ]
     },
     "metadata": {},
     "output_type": "display_data"
    },
    {
     "name": "stdout",
     "output_type": "stream",
     "text": [
      "--- Training finished ---\n"
     ]
    }
   ],
   "source": [
    "solver = DeepCFVFPSolver(\n",
    "    game_name=\"trump\",\n",
    "    q_value_network_models=q_value_network_models,\n",
    "    avg_policy_network_models=avg_policy_network_models,\n",
    "    info_state_tensor_transformers=info_state_tensor_transformers,\n",
    "    action_transformers=action_transformers,\n",
    "    phase_classifier_fn=trump_phase_classifier,\n",
    "    dummy_infostate=np.array([dummy_infostate], dtype=np.float32),\n",
    "    data_augmentors=data_augmentors,\n",
    "    revelation_transformer=revelation_transformer,\n",
    "    revelation_intensity=[0.2, 0.2],\n",
    "    revelation_decay_mode='linear',\n",
    "    num_iterations=600,\n",
    "    num_iterations_q_per_pi=6,\n",
    "    num_traversals_per_player=300,\n",
    "    uniform=True,\n",
    "    learning_rate=1e-4,\n",
    "    batch_size_q_value=[2048, 512, 4096], \n",
    "    batch_size_avg_policy=[2048, 1024, 2048],\n",
    "    q_value_network_train_steps=[1500, 120, 3000],\n",
    "    avg_policy_network_train_steps=[500, 30, 800], \n",
    "    q_value_memory_capacity=[6e4, 2e4, 7.8e5],\n",
    "    avg_policy_memory_capacity=[6e4, 2e4, 7.8e5],\n",
    "    save_dir_buffers=\"cfvfp_buffers\",\n",
    "    save_dir_nets=\"cfvfp_nets\",\n",
    "    seed=1,\n",
    "    num_workers=6\n",
    ")\n",
    "\n",
    "# 5. Run the training loop\n",
    "print(f\"\\n--- Starting Trump game training with DeepCFVFPSolver ({solver._num_phases} phases) ---\")\n",
    "print(f\"Global number of actions used by solver: {solver._global_num_actions}\")\n",
    "\n",
    "final_policy_params_by_phase, q_losses_by_phase, avg_policy_losses_by_phase = solver.solve()\n",
    "\n",
    "print(\"--- Training finished ---\")"
   ]
  },
  {
   "cell_type": "code",
   "execution_count": 9,
   "id": "cb42ae7f",
   "metadata": {},
   "outputs": [
    {
     "name": "stdout",
     "output_type": "stream",
     "text": [
      "\n",
      "--- Starting Trump game training with DeepCFVFPSolver (3 phases) ---\n",
      "Global number of actions used by solver: 52\n",
      "Resuming from iteration 120, starting at iteration 121\n"
     ]
    },
    {
     "data": {
      "application/vnd.jupyter.widget-view+json": {
       "model_id": "f493bc2df1724a5f94c139726e0b371b",
       "version_major": 2,
       "version_minor": 0
      },
      "text/plain": [
       "Overall Iteration:   0%|          | 0/30 [00:00<?, ?it/s]"
      ]
     },
     "metadata": {},
     "output_type": "display_data"
    },
    {
     "data": {
      "application/vnd.jupyter.widget-view+json": {
       "model_id": "2b858dbf47d04c0ca324ae9487e338bb",
       "version_major": 2,
       "version_minor": 0
      },
      "text/plain": [
       "Phase:   0%|          | 0/3 [00:00<?, ?it/s]"
      ]
     },
     "metadata": {},
     "output_type": "display_data"
    },
    {
     "data": {
      "application/vnd.jupyter.widget-view+json": {
       "model_id": "2b578475160c4a059de53db660283913",
       "version_major": 2,
       "version_minor": 0
      },
      "text/plain": [
       "QNet Train:   0%|          | 0/500 [00:00<?, ?it/s]"
      ]
     },
     "metadata": {},
     "output_type": "display_data"
    },
    {
     "data": {
      "application/vnd.jupyter.widget-view+json": {
       "model_id": "b29adef592684216be524d6976e8c23b",
       "version_major": 2,
       "version_minor": 0
      },
      "text/plain": [
       "QNet Train:   0%|          | 0/250 [00:00<?, ?it/s]"
      ]
     },
     "metadata": {},
     "output_type": "display_data"
    },
    {
     "data": {
      "application/vnd.jupyter.widget-view+json": {
       "model_id": "eace6656b99146e987f1c7b2e94ca066",
       "version_major": 2,
       "version_minor": 0
      },
      "text/plain": [
       "QNet Train:   0%|          | 0/1000 [00:00<?, ?it/s]"
      ]
     },
     "metadata": {},
     "output_type": "display_data"
    },
    {
     "data": {
      "application/vnd.jupyter.widget-view+json": {
       "model_id": "6adf719f34d14997973b4e62ac357c07",
       "version_major": 2,
       "version_minor": 0
      },
      "text/plain": [
       "Phase:   0%|          | 0/3 [00:00<?, ?it/s]"
      ]
     },
     "metadata": {},
     "output_type": "display_data"
    },
    {
     "data": {
      "application/vnd.jupyter.widget-view+json": {
       "model_id": "9324f3ac44044d7ebafddeba8b2148d0",
       "version_major": 2,
       "version_minor": 0
      },
      "text/plain": [
       "QNet Train:   0%|          | 0/500 [00:00<?, ?it/s]"
      ]
     },
     "metadata": {},
     "output_type": "display_data"
    },
    {
     "data": {
      "application/vnd.jupyter.widget-view+json": {
       "model_id": "f50ccfada9f5493a83cd0adba8953fc4",
       "version_major": 2,
       "version_minor": 0
      },
      "text/plain": [
       "QNet Train:   0%|          | 0/250 [00:00<?, ?it/s]"
      ]
     },
     "metadata": {},
     "output_type": "display_data"
    },
    {
     "data": {
      "application/vnd.jupyter.widget-view+json": {
       "model_id": "f4421a68f20b4f168dec1bcd81e21078",
       "version_major": 2,
       "version_minor": 0
      },
      "text/plain": [
       "QNet Train:   0%|          | 0/1000 [00:00<?, ?it/s]"
      ]
     },
     "metadata": {},
     "output_type": "display_data"
    },
    {
     "data": {
      "application/vnd.jupyter.widget-view+json": {
       "model_id": "e1137b2800394af6b1d11493c85d00f2",
       "version_major": 2,
       "version_minor": 0
      },
      "text/plain": [
       "Phase:   0%|          | 0/3 [00:00<?, ?it/s]"
      ]
     },
     "metadata": {},
     "output_type": "display_data"
    },
    {
     "data": {
      "application/vnd.jupyter.widget-view+json": {
       "model_id": "27995a7113c545a09157dbe45a7f0da9",
       "version_major": 2,
       "version_minor": 0
      },
      "text/plain": [
       "QNet Train:   0%|          | 0/500 [00:00<?, ?it/s]"
      ]
     },
     "metadata": {},
     "output_type": "display_data"
    },
    {
     "data": {
      "application/vnd.jupyter.widget-view+json": {
       "model_id": "45f0eb5ca06d480bbce259045da4d358",
       "version_major": 2,
       "version_minor": 0
      },
      "text/plain": [
       "AvgPolNet Train:   0%|          | 0/250 [00:00<?, ?it/s]"
      ]
     },
     "metadata": {},
     "output_type": "display_data"
    },
    {
     "data": {
      "application/vnd.jupyter.widget-view+json": {
       "model_id": "350068dca18848a380ad41d1b8296e3c",
       "version_major": 2,
       "version_minor": 0
      },
      "text/plain": [
       "QNet Train:   0%|          | 0/250 [00:00<?, ?it/s]"
      ]
     },
     "metadata": {},
     "output_type": "display_data"
    },
    {
     "data": {
      "application/vnd.jupyter.widget-view+json": {
       "model_id": "e8a4ff4f2e104173bb948762b7d643dc",
       "version_major": 2,
       "version_minor": 0
      },
      "text/plain": [
       "AvgPolNet Train:   0%|          | 0/250 [00:00<?, ?it/s]"
      ]
     },
     "metadata": {},
     "output_type": "display_data"
    },
    {
     "data": {
      "application/vnd.jupyter.widget-view+json": {
       "model_id": "6e218750311c42dc95e57d9fa304a19e",
       "version_major": 2,
       "version_minor": 0
      },
      "text/plain": [
       "QNet Train:   0%|          | 0/1000 [00:00<?, ?it/s]"
      ]
     },
     "metadata": {},
     "output_type": "display_data"
    },
    {
     "data": {
      "application/vnd.jupyter.widget-view+json": {
       "model_id": "2d15d0ac768d4494b5d33cd4dd3e534e",
       "version_major": 2,
       "version_minor": 0
      },
      "text/plain": [
       "AvgPolNet Train:   0%|          | 0/500 [00:00<?, ?it/s]"
      ]
     },
     "metadata": {},
     "output_type": "display_data"
    },
    {
     "data": {
      "application/vnd.jupyter.widget-view+json": {
       "model_id": "9963d0ef7d6f41fd8050493789cdad3a",
       "version_major": 2,
       "version_minor": 0
      },
      "text/plain": [
       "Phase:   0%|          | 0/3 [00:00<?, ?it/s]"
      ]
     },
     "metadata": {},
     "output_type": "display_data"
    },
    {
     "data": {
      "application/vnd.jupyter.widget-view+json": {
       "model_id": "04f6d85c5daa4aa1a333f7204a66f495",
       "version_major": 2,
       "version_minor": 0
      },
      "text/plain": [
       "QNet Train:   0%|          | 0/500 [00:00<?, ?it/s]"
      ]
     },
     "metadata": {},
     "output_type": "display_data"
    },
    {
     "data": {
      "application/vnd.jupyter.widget-view+json": {
       "model_id": "dd5673cb05f546cfa9f812b28fa2f5ec",
       "version_major": 2,
       "version_minor": 0
      },
      "text/plain": [
       "QNet Train:   0%|          | 0/250 [00:00<?, ?it/s]"
      ]
     },
     "metadata": {},
     "output_type": "display_data"
    },
    {
     "data": {
      "application/vnd.jupyter.widget-view+json": {
       "model_id": "665bf7b9fb774df9afedc8cfb3bee6de",
       "version_major": 2,
       "version_minor": 0
      },
      "text/plain": [
       "QNet Train:   0%|          | 0/1000 [00:00<?, ?it/s]"
      ]
     },
     "metadata": {},
     "output_type": "display_data"
    },
    {
     "data": {
      "application/vnd.jupyter.widget-view+json": {
       "model_id": "d207ff790ab045daae8e0b11ba112768",
       "version_major": 2,
       "version_minor": 0
      },
      "text/plain": [
       "Phase:   0%|          | 0/3 [00:00<?, ?it/s]"
      ]
     },
     "metadata": {},
     "output_type": "display_data"
    },
    {
     "data": {
      "application/vnd.jupyter.widget-view+json": {
       "model_id": "0511dd21eb414ee7b722fd48721cdcbf",
       "version_major": 2,
       "version_minor": 0
      },
      "text/plain": [
       "QNet Train:   0%|          | 0/500 [00:00<?, ?it/s]"
      ]
     },
     "metadata": {},
     "output_type": "display_data"
    },
    {
     "data": {
      "application/vnd.jupyter.widget-view+json": {
       "model_id": "38311b18641d450f8f4160a37ded21a1",
       "version_major": 2,
       "version_minor": 0
      },
      "text/plain": [
       "QNet Train:   0%|          | 0/250 [00:00<?, ?it/s]"
      ]
     },
     "metadata": {},
     "output_type": "display_data"
    },
    {
     "data": {
      "application/vnd.jupyter.widget-view+json": {
       "model_id": "6828f7ca6e3c4098ad97f7e925f11cf7",
       "version_major": 2,
       "version_minor": 0
      },
      "text/plain": [
       "QNet Train:   0%|          | 0/1000 [00:00<?, ?it/s]"
      ]
     },
     "metadata": {},
     "output_type": "display_data"
    },
    {
     "data": {
      "application/vnd.jupyter.widget-view+json": {
       "model_id": "e2b892a528ec4c1ab75ee2741e3929d9",
       "version_major": 2,
       "version_minor": 0
      },
      "text/plain": [
       "Phase:   0%|          | 0/3 [00:00<?, ?it/s]"
      ]
     },
     "metadata": {},
     "output_type": "display_data"
    },
    {
     "data": {
      "application/vnd.jupyter.widget-view+json": {
       "model_id": "d3b6c36288ff4dc2ba637924e32b9414",
       "version_major": 2,
       "version_minor": 0
      },
      "text/plain": [
       "QNet Train:   0%|          | 0/500 [00:00<?, ?it/s]"
      ]
     },
     "metadata": {},
     "output_type": "display_data"
    },
    {
     "data": {
      "application/vnd.jupyter.widget-view+json": {
       "model_id": "a1dc1b3f8e3a473993504d31cd502db5",
       "version_major": 2,
       "version_minor": 0
      },
      "text/plain": [
       "AvgPolNet Train:   0%|          | 0/250 [00:00<?, ?it/s]"
      ]
     },
     "metadata": {},
     "output_type": "display_data"
    },
    {
     "data": {
      "application/vnd.jupyter.widget-view+json": {
       "model_id": "4a2b20777bc9487fbc438d55ba254352",
       "version_major": 2,
       "version_minor": 0
      },
      "text/plain": [
       "QNet Train:   0%|          | 0/250 [00:00<?, ?it/s]"
      ]
     },
     "metadata": {},
     "output_type": "display_data"
    },
    {
     "data": {
      "application/vnd.jupyter.widget-view+json": {
       "model_id": "73f2cf8512f942319dfd28f759b46f22",
       "version_major": 2,
       "version_minor": 0
      },
      "text/plain": [
       "AvgPolNet Train:   0%|          | 0/250 [00:00<?, ?it/s]"
      ]
     },
     "metadata": {},
     "output_type": "display_data"
    },
    {
     "data": {
      "application/vnd.jupyter.widget-view+json": {
       "model_id": "7a425fa0a6f1427d9ea0b960b44de264",
       "version_major": 2,
       "version_minor": 0
      },
      "text/plain": [
       "QNet Train:   0%|          | 0/1000 [00:00<?, ?it/s]"
      ]
     },
     "metadata": {},
     "output_type": "display_data"
    },
    {
     "data": {
      "application/vnd.jupyter.widget-view+json": {
       "model_id": "51d2c7255c3c47e4935c076ad33f7831",
       "version_major": 2,
       "version_minor": 0
      },
      "text/plain": [
       "AvgPolNet Train:   0%|          | 0/500 [00:00<?, ?it/s]"
      ]
     },
     "metadata": {},
     "output_type": "display_data"
    },
    {
     "data": {
      "application/vnd.jupyter.widget-view+json": {
       "model_id": "1d95e09328e44935be3f8e369d4484b8",
       "version_major": 2,
       "version_minor": 0
      },
      "text/plain": [
       "Phase:   0%|          | 0/3 [00:00<?, ?it/s]"
      ]
     },
     "metadata": {},
     "output_type": "display_data"
    },
    {
     "data": {
      "application/vnd.jupyter.widget-view+json": {
       "model_id": "7b494a1867264f85aebee271ee9ad5e0",
       "version_major": 2,
       "version_minor": 0
      },
      "text/plain": [
       "QNet Train:   0%|          | 0/500 [00:00<?, ?it/s]"
      ]
     },
     "metadata": {},
     "output_type": "display_data"
    },
    {
     "data": {
      "application/vnd.jupyter.widget-view+json": {
       "model_id": "72198e4e522642c4b5b5a27277d2f049",
       "version_major": 2,
       "version_minor": 0
      },
      "text/plain": [
       "QNet Train:   0%|          | 0/250 [00:00<?, ?it/s]"
      ]
     },
     "metadata": {},
     "output_type": "display_data"
    },
    {
     "data": {
      "application/vnd.jupyter.widget-view+json": {
       "model_id": "595d713be91a4d78aef0b0e3eabe9168",
       "version_major": 2,
       "version_minor": 0
      },
      "text/plain": [
       "QNet Train:   0%|          | 0/1000 [00:00<?, ?it/s]"
      ]
     },
     "metadata": {},
     "output_type": "display_data"
    },
    {
     "data": {
      "application/vnd.jupyter.widget-view+json": {
       "model_id": "4ff731e0d4a943728b26b72c90d11624",
       "version_major": 2,
       "version_minor": 0
      },
      "text/plain": [
       "Phase:   0%|          | 0/3 [00:00<?, ?it/s]"
      ]
     },
     "metadata": {},
     "output_type": "display_data"
    },
    {
     "data": {
      "application/vnd.jupyter.widget-view+json": {
       "model_id": "9319283d4de2466f9bf23e76f5f9be8e",
       "version_major": 2,
       "version_minor": 0
      },
      "text/plain": [
       "QNet Train:   0%|          | 0/500 [00:00<?, ?it/s]"
      ]
     },
     "metadata": {},
     "output_type": "display_data"
    },
    {
     "data": {
      "application/vnd.jupyter.widget-view+json": {
       "model_id": "d82f4b02a75d435b9dee3e3f505c425c",
       "version_major": 2,
       "version_minor": 0
      },
      "text/plain": [
       "QNet Train:   0%|          | 0/250 [00:00<?, ?it/s]"
      ]
     },
     "metadata": {},
     "output_type": "display_data"
    },
    {
     "data": {
      "application/vnd.jupyter.widget-view+json": {
       "model_id": "840413f8abf244bfb72cda402d6a9d88",
       "version_major": 2,
       "version_minor": 0
      },
      "text/plain": [
       "QNet Train:   0%|          | 0/1000 [00:00<?, ?it/s]"
      ]
     },
     "metadata": {},
     "output_type": "display_data"
    },
    {
     "data": {
      "application/vnd.jupyter.widget-view+json": {
       "model_id": "926464ff57e24047a263aa94927f4209",
       "version_major": 2,
       "version_minor": 0
      },
      "text/plain": [
       "Phase:   0%|          | 0/3 [00:00<?, ?it/s]"
      ]
     },
     "metadata": {},
     "output_type": "display_data"
    },
    {
     "data": {
      "application/vnd.jupyter.widget-view+json": {
       "model_id": "e767eb9c2f7c4e47af17278b17fe8245",
       "version_major": 2,
       "version_minor": 0
      },
      "text/plain": [
       "QNet Train:   0%|          | 0/500 [00:00<?, ?it/s]"
      ]
     },
     "metadata": {},
     "output_type": "display_data"
    },
    {
     "data": {
      "application/vnd.jupyter.widget-view+json": {
       "model_id": "8c749f5072e649ebba928cd93f4b7b44",
       "version_major": 2,
       "version_minor": 0
      },
      "text/plain": [
       "AvgPolNet Train:   0%|          | 0/250 [00:00<?, ?it/s]"
      ]
     },
     "metadata": {},
     "output_type": "display_data"
    },
    {
     "data": {
      "application/vnd.jupyter.widget-view+json": {
       "model_id": "e48732a1580248a4982c66357f44c526",
       "version_major": 2,
       "version_minor": 0
      },
      "text/plain": [
       "QNet Train:   0%|          | 0/250 [00:00<?, ?it/s]"
      ]
     },
     "metadata": {},
     "output_type": "display_data"
    },
    {
     "data": {
      "application/vnd.jupyter.widget-view+json": {
       "model_id": "60c3360edb4749b1adf4010a3d7d455c",
       "version_major": 2,
       "version_minor": 0
      },
      "text/plain": [
       "AvgPolNet Train:   0%|          | 0/250 [00:00<?, ?it/s]"
      ]
     },
     "metadata": {},
     "output_type": "display_data"
    },
    {
     "data": {
      "application/vnd.jupyter.widget-view+json": {
       "model_id": "04275631bf6248e1aa9d3a1eb0212624",
       "version_major": 2,
       "version_minor": 0
      },
      "text/plain": [
       "QNet Train:   0%|          | 0/1000 [00:00<?, ?it/s]"
      ]
     },
     "metadata": {},
     "output_type": "display_data"
    },
    {
     "data": {
      "application/vnd.jupyter.widget-view+json": {
       "model_id": "0768faa706684badb1490f51b5a80fa8",
       "version_major": 2,
       "version_minor": 0
      },
      "text/plain": [
       "AvgPolNet Train:   0%|          | 0/500 [00:00<?, ?it/s]"
      ]
     },
     "metadata": {},
     "output_type": "display_data"
    },
    {
     "data": {
      "application/vnd.jupyter.widget-view+json": {
       "model_id": "a5355a6bbaf64e4bbcfe98636db503e5",
       "version_major": 2,
       "version_minor": 0
      },
      "text/plain": [
       "Phase:   0%|          | 0/3 [00:00<?, ?it/s]"
      ]
     },
     "metadata": {},
     "output_type": "display_data"
    },
    {
     "data": {
      "application/vnd.jupyter.widget-view+json": {
       "model_id": "bf32de370eb44f789e8c6467ef94460d",
       "version_major": 2,
       "version_minor": 0
      },
      "text/plain": [
       "QNet Train:   0%|          | 0/500 [00:00<?, ?it/s]"
      ]
     },
     "metadata": {},
     "output_type": "display_data"
    },
    {
     "data": {
      "application/vnd.jupyter.widget-view+json": {
       "model_id": "72cc7a2199604dd793f265012bb9fb8c",
       "version_major": 2,
       "version_minor": 0
      },
      "text/plain": [
       "QNet Train:   0%|          | 0/250 [00:00<?, ?it/s]"
      ]
     },
     "metadata": {},
     "output_type": "display_data"
    },
    {
     "data": {
      "application/vnd.jupyter.widget-view+json": {
       "model_id": "0825b521819f428ca863867d0919a2d1",
       "version_major": 2,
       "version_minor": 0
      },
      "text/plain": [
       "QNet Train:   0%|          | 0/1000 [00:00<?, ?it/s]"
      ]
     },
     "metadata": {},
     "output_type": "display_data"
    },
    {
     "data": {
      "application/vnd.jupyter.widget-view+json": {
       "model_id": "d5d7ded5cf1e4579a185498e85c6cbba",
       "version_major": 2,
       "version_minor": 0
      },
      "text/plain": [
       "Phase:   0%|          | 0/3 [00:00<?, ?it/s]"
      ]
     },
     "metadata": {},
     "output_type": "display_data"
    },
    {
     "data": {
      "application/vnd.jupyter.widget-view+json": {
       "model_id": "aa7e289a66ef4ea1b0c2490515b3c617",
       "version_major": 2,
       "version_minor": 0
      },
      "text/plain": [
       "QNet Train:   0%|          | 0/500 [00:00<?, ?it/s]"
      ]
     },
     "metadata": {},
     "output_type": "display_data"
    },
    {
     "data": {
      "application/vnd.jupyter.widget-view+json": {
       "model_id": "d162ab45f4dd44aa9bc35725a32dc1d3",
       "version_major": 2,
       "version_minor": 0
      },
      "text/plain": [
       "QNet Train:   0%|          | 0/250 [00:00<?, ?it/s]"
      ]
     },
     "metadata": {},
     "output_type": "display_data"
    },
    {
     "data": {
      "application/vnd.jupyter.widget-view+json": {
       "model_id": "ac06214cd07c492ea8d354e05c7af4c6",
       "version_major": 2,
       "version_minor": 0
      },
      "text/plain": [
       "QNet Train:   0%|          | 0/1000 [00:00<?, ?it/s]"
      ]
     },
     "metadata": {},
     "output_type": "display_data"
    },
    {
     "data": {
      "application/vnd.jupyter.widget-view+json": {
       "model_id": "56bb982b54e94ca6bc151604e42c5067",
       "version_major": 2,
       "version_minor": 0
      },
      "text/plain": [
       "Phase:   0%|          | 0/3 [00:00<?, ?it/s]"
      ]
     },
     "metadata": {},
     "output_type": "display_data"
    },
    {
     "data": {
      "application/vnd.jupyter.widget-view+json": {
       "model_id": "baa9d964362c43dbbcff1788f0589af7",
       "version_major": 2,
       "version_minor": 0
      },
      "text/plain": [
       "QNet Train:   0%|          | 0/500 [00:00<?, ?it/s]"
      ]
     },
     "metadata": {},
     "output_type": "display_data"
    },
    {
     "data": {
      "application/vnd.jupyter.widget-view+json": {
       "model_id": "8f6b6f7ccaf94e0b9576aad2a42d1217",
       "version_major": 2,
       "version_minor": 0
      },
      "text/plain": [
       "AvgPolNet Train:   0%|          | 0/250 [00:00<?, ?it/s]"
      ]
     },
     "metadata": {},
     "output_type": "display_data"
    },
    {
     "data": {
      "application/vnd.jupyter.widget-view+json": {
       "model_id": "f34d403817fc42cd93d600261ce01b14",
       "version_major": 2,
       "version_minor": 0
      },
      "text/plain": [
       "QNet Train:   0%|          | 0/250 [00:00<?, ?it/s]"
      ]
     },
     "metadata": {},
     "output_type": "display_data"
    },
    {
     "data": {
      "application/vnd.jupyter.widget-view+json": {
       "model_id": "4bc6a3c3fb0646abbc4668efa77e1341",
       "version_major": 2,
       "version_minor": 0
      },
      "text/plain": [
       "AvgPolNet Train:   0%|          | 0/250 [00:00<?, ?it/s]"
      ]
     },
     "metadata": {},
     "output_type": "display_data"
    },
    {
     "data": {
      "application/vnd.jupyter.widget-view+json": {
       "model_id": "64aa70c315d34449a62e27194f30a879",
       "version_major": 2,
       "version_minor": 0
      },
      "text/plain": [
       "QNet Train:   0%|          | 0/1000 [00:00<?, ?it/s]"
      ]
     },
     "metadata": {},
     "output_type": "display_data"
    },
    {
     "data": {
      "application/vnd.jupyter.widget-view+json": {
       "model_id": "593613f9b9ba46fdb20fe27d9d886624",
       "version_major": 2,
       "version_minor": 0
      },
      "text/plain": [
       "AvgPolNet Train:   0%|          | 0/500 [00:00<?, ?it/s]"
      ]
     },
     "metadata": {},
     "output_type": "display_data"
    },
    {
     "data": {
      "application/vnd.jupyter.widget-view+json": {
       "model_id": "28309fcdc81b486192fc78da50f93ece",
       "version_major": 2,
       "version_minor": 0
      },
      "text/plain": [
       "Phase:   0%|          | 0/3 [00:00<?, ?it/s]"
      ]
     },
     "metadata": {},
     "output_type": "display_data"
    },
    {
     "data": {
      "application/vnd.jupyter.widget-view+json": {
       "model_id": "de41b94ec4f24f5aaaf75b7842bedea0",
       "version_major": 2,
       "version_minor": 0
      },
      "text/plain": [
       "QNet Train:   0%|          | 0/500 [00:00<?, ?it/s]"
      ]
     },
     "metadata": {},
     "output_type": "display_data"
    },
    {
     "data": {
      "application/vnd.jupyter.widget-view+json": {
       "model_id": "75801cb394c1444fa308a160b494f4bf",
       "version_major": 2,
       "version_minor": 0
      },
      "text/plain": [
       "QNet Train:   0%|          | 0/250 [00:00<?, ?it/s]"
      ]
     },
     "metadata": {},
     "output_type": "display_data"
    },
    {
     "data": {
      "application/vnd.jupyter.widget-view+json": {
       "model_id": "cbb624b80349427ea54014db0f98780d",
       "version_major": 2,
       "version_minor": 0
      },
      "text/plain": [
       "QNet Train:   0%|          | 0/1000 [00:00<?, ?it/s]"
      ]
     },
     "metadata": {},
     "output_type": "display_data"
    },
    {
     "data": {
      "application/vnd.jupyter.widget-view+json": {
       "model_id": "c6c9b160a61b4a2c8f1aaa93e3f4a8be",
       "version_major": 2,
       "version_minor": 0
      },
      "text/plain": [
       "Phase:   0%|          | 0/3 [00:00<?, ?it/s]"
      ]
     },
     "metadata": {},
     "output_type": "display_data"
    },
    {
     "data": {
      "application/vnd.jupyter.widget-view+json": {
       "model_id": "d1aaeea8c23044c5b5408d7033a2cda1",
       "version_major": 2,
       "version_minor": 0
      },
      "text/plain": [
       "QNet Train:   0%|          | 0/500 [00:00<?, ?it/s]"
      ]
     },
     "metadata": {},
     "output_type": "display_data"
    },
    {
     "data": {
      "application/vnd.jupyter.widget-view+json": {
       "model_id": "c7796ab847844f29bc32ad4f189d3c70",
       "version_major": 2,
       "version_minor": 0
      },
      "text/plain": [
       "QNet Train:   0%|          | 0/250 [00:00<?, ?it/s]"
      ]
     },
     "metadata": {},
     "output_type": "display_data"
    },
    {
     "data": {
      "application/vnd.jupyter.widget-view+json": {
       "model_id": "f1980c24a6bc48a6b87e98a85be303ec",
       "version_major": 2,
       "version_minor": 0
      },
      "text/plain": [
       "QNet Train:   0%|          | 0/1000 [00:00<?, ?it/s]"
      ]
     },
     "metadata": {},
     "output_type": "display_data"
    },
    {
     "data": {
      "application/vnd.jupyter.widget-view+json": {
       "model_id": "a56e20bb5c74428a845092b42290054b",
       "version_major": 2,
       "version_minor": 0
      },
      "text/plain": [
       "Phase:   0%|          | 0/3 [00:00<?, ?it/s]"
      ]
     },
     "metadata": {},
     "output_type": "display_data"
    },
    {
     "data": {
      "application/vnd.jupyter.widget-view+json": {
       "model_id": "4be8ee89b4bc473d9d56b6371691a46d",
       "version_major": 2,
       "version_minor": 0
      },
      "text/plain": [
       "QNet Train:   0%|          | 0/500 [00:00<?, ?it/s]"
      ]
     },
     "metadata": {},
     "output_type": "display_data"
    },
    {
     "data": {
      "application/vnd.jupyter.widget-view+json": {
       "model_id": "ffc9554af6db4c6abf975978e588b078",
       "version_major": 2,
       "version_minor": 0
      },
      "text/plain": [
       "AvgPolNet Train:   0%|          | 0/250 [00:00<?, ?it/s]"
      ]
     },
     "metadata": {},
     "output_type": "display_data"
    },
    {
     "data": {
      "application/vnd.jupyter.widget-view+json": {
       "model_id": "1a660c97d1434b028c25459075d47ee6",
       "version_major": 2,
       "version_minor": 0
      },
      "text/plain": [
       "QNet Train:   0%|          | 0/250 [00:00<?, ?it/s]"
      ]
     },
     "metadata": {},
     "output_type": "display_data"
    },
    {
     "data": {
      "application/vnd.jupyter.widget-view+json": {
       "model_id": "8961361c73fc4bb3803aaa63683f9768",
       "version_major": 2,
       "version_minor": 0
      },
      "text/plain": [
       "AvgPolNet Train:   0%|          | 0/250 [00:00<?, ?it/s]"
      ]
     },
     "metadata": {},
     "output_type": "display_data"
    },
    {
     "data": {
      "application/vnd.jupyter.widget-view+json": {
       "model_id": "00924b973ebf439c8ef58796c5af15a9",
       "version_major": 2,
       "version_minor": 0
      },
      "text/plain": [
       "QNet Train:   0%|          | 0/1000 [00:00<?, ?it/s]"
      ]
     },
     "metadata": {},
     "output_type": "display_data"
    },
    {
     "data": {
      "application/vnd.jupyter.widget-view+json": {
       "model_id": "d7d5f81fa4f24fd0a196274b2b59645d",
       "version_major": 2,
       "version_minor": 0
      },
      "text/plain": [
       "AvgPolNet Train:   0%|          | 0/500 [00:00<?, ?it/s]"
      ]
     },
     "metadata": {},
     "output_type": "display_data"
    },
    {
     "data": {
      "application/vnd.jupyter.widget-view+json": {
       "model_id": "9eb85545f1924a55bde8ed97c06a404d",
       "version_major": 2,
       "version_minor": 0
      },
      "text/plain": [
       "Phase:   0%|          | 0/3 [00:00<?, ?it/s]"
      ]
     },
     "metadata": {},
     "output_type": "display_data"
    },
    {
     "data": {
      "application/vnd.jupyter.widget-view+json": {
       "model_id": "0fefc620bc8d4607b73ffce282f89be0",
       "version_major": 2,
       "version_minor": 0
      },
      "text/plain": [
       "QNet Train:   0%|          | 0/500 [00:00<?, ?it/s]"
      ]
     },
     "metadata": {},
     "output_type": "display_data"
    },
    {
     "data": {
      "application/vnd.jupyter.widget-view+json": {
       "model_id": "7c20ba3c293c4ae9a115f58f9b15ebae",
       "version_major": 2,
       "version_minor": 0
      },
      "text/plain": [
       "QNet Train:   0%|          | 0/250 [00:00<?, ?it/s]"
      ]
     },
     "metadata": {},
     "output_type": "display_data"
    },
    {
     "data": {
      "application/vnd.jupyter.widget-view+json": {
       "model_id": "39e323c9b17344358eea4d35e7db897b",
       "version_major": 2,
       "version_minor": 0
      },
      "text/plain": [
       "QNet Train:   0%|          | 0/1000 [00:00<?, ?it/s]"
      ]
     },
     "metadata": {},
     "output_type": "display_data"
    },
    {
     "data": {
      "application/vnd.jupyter.widget-view+json": {
       "model_id": "51a26216b9c3461eaa569e80af47e9c8",
       "version_major": 2,
       "version_minor": 0
      },
      "text/plain": [
       "Phase:   0%|          | 0/3 [00:00<?, ?it/s]"
      ]
     },
     "metadata": {},
     "output_type": "display_data"
    },
    {
     "data": {
      "application/vnd.jupyter.widget-view+json": {
       "model_id": "03b995909486403daa6411c864d4ad65",
       "version_major": 2,
       "version_minor": 0
      },
      "text/plain": [
       "QNet Train:   0%|          | 0/500 [00:00<?, ?it/s]"
      ]
     },
     "metadata": {},
     "output_type": "display_data"
    },
    {
     "data": {
      "application/vnd.jupyter.widget-view+json": {
       "model_id": "7a58171ff2cf427da28e88d2c935dd4f",
       "version_major": 2,
       "version_minor": 0
      },
      "text/plain": [
       "QNet Train:   0%|          | 0/250 [00:00<?, ?it/s]"
      ]
     },
     "metadata": {},
     "output_type": "display_data"
    },
    {
     "data": {
      "application/vnd.jupyter.widget-view+json": {
       "model_id": "0b04feeb60b3494baef35e8bd170c582",
       "version_major": 2,
       "version_minor": 0
      },
      "text/plain": [
       "QNet Train:   0%|          | 0/1000 [00:00<?, ?it/s]"
      ]
     },
     "metadata": {},
     "output_type": "display_data"
    },
    {
     "data": {
      "application/vnd.jupyter.widget-view+json": {
       "model_id": "6db723dad72149d193447ef6747ac25e",
       "version_major": 2,
       "version_minor": 0
      },
      "text/plain": [
       "Phase:   0%|          | 0/3 [00:00<?, ?it/s]"
      ]
     },
     "metadata": {},
     "output_type": "display_data"
    },
    {
     "data": {
      "application/vnd.jupyter.widget-view+json": {
       "model_id": "4572c0800e2c4ca09f4b2b88bba6fc8a",
       "version_major": 2,
       "version_minor": 0
      },
      "text/plain": [
       "QNet Train:   0%|          | 0/500 [00:00<?, ?it/s]"
      ]
     },
     "metadata": {},
     "output_type": "display_data"
    },
    {
     "data": {
      "application/vnd.jupyter.widget-view+json": {
       "model_id": "f75ea89626994ba4833086f2feb9bf0e",
       "version_major": 2,
       "version_minor": 0
      },
      "text/plain": [
       "AvgPolNet Train:   0%|          | 0/250 [00:00<?, ?it/s]"
      ]
     },
     "metadata": {},
     "output_type": "display_data"
    },
    {
     "data": {
      "application/vnd.jupyter.widget-view+json": {
       "model_id": "0ee6955a209b456b84a0cd4a41bdaab4",
       "version_major": 2,
       "version_minor": 0
      },
      "text/plain": [
       "QNet Train:   0%|          | 0/250 [00:00<?, ?it/s]"
      ]
     },
     "metadata": {},
     "output_type": "display_data"
    },
    {
     "data": {
      "application/vnd.jupyter.widget-view+json": {
       "model_id": "a970b43a747f478eb6bc0c906194b32c",
       "version_major": 2,
       "version_minor": 0
      },
      "text/plain": [
       "AvgPolNet Train:   0%|          | 0/250 [00:00<?, ?it/s]"
      ]
     },
     "metadata": {},
     "output_type": "display_data"
    },
    {
     "data": {
      "application/vnd.jupyter.widget-view+json": {
       "model_id": "ed1055b2a08947118c573fe210b488b7",
       "version_major": 2,
       "version_minor": 0
      },
      "text/plain": [
       "QNet Train:   0%|          | 0/1000 [00:00<?, ?it/s]"
      ]
     },
     "metadata": {},
     "output_type": "display_data"
    },
    {
     "data": {
      "application/vnd.jupyter.widget-view+json": {
       "model_id": "27049c5a6dcf48bb8c9a07b33fb37496",
       "version_major": 2,
       "version_minor": 0
      },
      "text/plain": [
       "AvgPolNet Train:   0%|          | 0/500 [00:00<?, ?it/s]"
      ]
     },
     "metadata": {},
     "output_type": "display_data"
    },
    {
     "data": {
      "application/vnd.jupyter.widget-view+json": {
       "model_id": "31e00c29b2804476859a69c7cc670189",
       "version_major": 2,
       "version_minor": 0
      },
      "text/plain": [
       "Phase:   0%|          | 0/3 [00:00<?, ?it/s]"
      ]
     },
     "metadata": {},
     "output_type": "display_data"
    },
    {
     "data": {
      "application/vnd.jupyter.widget-view+json": {
       "model_id": "1d8acaf32f194220ae3e09ae861719a0",
       "version_major": 2,
       "version_minor": 0
      },
      "text/plain": [
       "QNet Train:   0%|          | 0/500 [00:00<?, ?it/s]"
      ]
     },
     "metadata": {},
     "output_type": "display_data"
    },
    {
     "data": {
      "application/vnd.jupyter.widget-view+json": {
       "model_id": "40a083d5f8ce4004a415d58ab74d3a63",
       "version_major": 2,
       "version_minor": 0
      },
      "text/plain": [
       "QNet Train:   0%|          | 0/250 [00:00<?, ?it/s]"
      ]
     },
     "metadata": {},
     "output_type": "display_data"
    },
    {
     "data": {
      "application/vnd.jupyter.widget-view+json": {
       "model_id": "33ebf90ebbfe4580948437cfb567971b",
       "version_major": 2,
       "version_minor": 0
      },
      "text/plain": [
       "QNet Train:   0%|          | 0/1000 [00:00<?, ?it/s]"
      ]
     },
     "metadata": {},
     "output_type": "display_data"
    },
    {
     "data": {
      "application/vnd.jupyter.widget-view+json": {
       "model_id": "94630d5534164353be32174803b9ff5b",
       "version_major": 2,
       "version_minor": 0
      },
      "text/plain": [
       "Phase:   0%|          | 0/3 [00:00<?, ?it/s]"
      ]
     },
     "metadata": {},
     "output_type": "display_data"
    },
    {
     "data": {
      "application/vnd.jupyter.widget-view+json": {
       "model_id": "bc7fc09c67084b36a6c43ba6b8785a28",
       "version_major": 2,
       "version_minor": 0
      },
      "text/plain": [
       "QNet Train:   0%|          | 0/500 [00:00<?, ?it/s]"
      ]
     },
     "metadata": {},
     "output_type": "display_data"
    },
    {
     "data": {
      "application/vnd.jupyter.widget-view+json": {
       "model_id": "8912b7b1eff8477ea480b61f1f17fafc",
       "version_major": 2,
       "version_minor": 0
      },
      "text/plain": [
       "QNet Train:   0%|          | 0/250 [00:00<?, ?it/s]"
      ]
     },
     "metadata": {},
     "output_type": "display_data"
    },
    {
     "data": {
      "application/vnd.jupyter.widget-view+json": {
       "model_id": "09b3e0434bf948bda1c4e0d74aae2b74",
       "version_major": 2,
       "version_minor": 0
      },
      "text/plain": [
       "QNet Train:   0%|          | 0/1000 [00:00<?, ?it/s]"
      ]
     },
     "metadata": {},
     "output_type": "display_data"
    },
    {
     "data": {
      "application/vnd.jupyter.widget-view+json": {
       "model_id": "b17b0dd3796b45f985c71e6e852b8514",
       "version_major": 2,
       "version_minor": 0
      },
      "text/plain": [
       "Phase:   0%|          | 0/3 [00:00<?, ?it/s]"
      ]
     },
     "metadata": {},
     "output_type": "display_data"
    },
    {
     "data": {
      "application/vnd.jupyter.widget-view+json": {
       "model_id": "ec3ff91548554530ad1eb16b9739a91b",
       "version_major": 2,
       "version_minor": 0
      },
      "text/plain": [
       "QNet Train:   0%|          | 0/500 [00:00<?, ?it/s]"
      ]
     },
     "metadata": {},
     "output_type": "display_data"
    },
    {
     "data": {
      "application/vnd.jupyter.widget-view+json": {
       "model_id": "84df3cb55d574658b42b650420fbf860",
       "version_major": 2,
       "version_minor": 0
      },
      "text/plain": [
       "AvgPolNet Train:   0%|          | 0/250 [00:00<?, ?it/s]"
      ]
     },
     "metadata": {},
     "output_type": "display_data"
    },
    {
     "data": {
      "application/vnd.jupyter.widget-view+json": {
       "model_id": "1c852dcb35224deb99035d7537dd2f7a",
       "version_major": 2,
       "version_minor": 0
      },
      "text/plain": [
       "QNet Train:   0%|          | 0/250 [00:00<?, ?it/s]"
      ]
     },
     "metadata": {},
     "output_type": "display_data"
    },
    {
     "data": {
      "application/vnd.jupyter.widget-view+json": {
       "model_id": "fc52f6345e93432ebc413f8c987ade50",
       "version_major": 2,
       "version_minor": 0
      },
      "text/plain": [
       "AvgPolNet Train:   0%|          | 0/250 [00:00<?, ?it/s]"
      ]
     },
     "metadata": {},
     "output_type": "display_data"
    },
    {
     "data": {
      "application/vnd.jupyter.widget-view+json": {
       "model_id": "55a0d435dc6441ba8075fc9076db22fe",
       "version_major": 2,
       "version_minor": 0
      },
      "text/plain": [
       "QNet Train:   0%|          | 0/1000 [00:00<?, ?it/s]"
      ]
     },
     "metadata": {},
     "output_type": "display_data"
    },
    {
     "data": {
      "application/vnd.jupyter.widget-view+json": {
       "model_id": "7542bdeb4d13431591c6746067b54866",
       "version_major": 2,
       "version_minor": 0
      },
      "text/plain": [
       "AvgPolNet Train:   0%|          | 0/500 [00:00<?, ?it/s]"
      ]
     },
     "metadata": {},
     "output_type": "display_data"
    },
    {
     "data": {
      "application/vnd.jupyter.widget-view+json": {
       "model_id": "5b72f678f6b0402d89352aca04e32146",
       "version_major": 2,
       "version_minor": 0
      },
      "text/plain": [
       "Phase:   0%|          | 0/3 [00:00<?, ?it/s]"
      ]
     },
     "metadata": {},
     "output_type": "display_data"
    },
    {
     "data": {
      "application/vnd.jupyter.widget-view+json": {
       "model_id": "b78f855e573a43d58c36d7655dcee668",
       "version_major": 2,
       "version_minor": 0
      },
      "text/plain": [
       "QNet Train:   0%|          | 0/500 [00:00<?, ?it/s]"
      ]
     },
     "metadata": {},
     "output_type": "display_data"
    },
    {
     "data": {
      "application/vnd.jupyter.widget-view+json": {
       "model_id": "f0de3a1e399e42b9b5004230e9f2db8a",
       "version_major": 2,
       "version_minor": 0
      },
      "text/plain": [
       "QNet Train:   0%|          | 0/250 [00:00<?, ?it/s]"
      ]
     },
     "metadata": {},
     "output_type": "display_data"
    },
    {
     "data": {
      "application/vnd.jupyter.widget-view+json": {
       "model_id": "44c5e0617ca849c1a52343e62ce51ac6",
       "version_major": 2,
       "version_minor": 0
      },
      "text/plain": [
       "QNet Train:   0%|          | 0/1000 [00:00<?, ?it/s]"
      ]
     },
     "metadata": {},
     "output_type": "display_data"
    },
    {
     "data": {
      "application/vnd.jupyter.widget-view+json": {
       "model_id": "75b4dca6c42b4350b9b897d43802339e",
       "version_major": 2,
       "version_minor": 0
      },
      "text/plain": [
       "Phase:   0%|          | 0/3 [00:00<?, ?it/s]"
      ]
     },
     "metadata": {},
     "output_type": "display_data"
    },
    {
     "data": {
      "application/vnd.jupyter.widget-view+json": {
       "model_id": "9035d41fec4442e8bc6dd072346976fc",
       "version_major": 2,
       "version_minor": 0
      },
      "text/plain": [
       "QNet Train:   0%|          | 0/500 [00:00<?, ?it/s]"
      ]
     },
     "metadata": {},
     "output_type": "display_data"
    },
    {
     "data": {
      "application/vnd.jupyter.widget-view+json": {
       "model_id": "10d5a0099d8e4350a5cba1fbb0333024",
       "version_major": 2,
       "version_minor": 0
      },
      "text/plain": [
       "QNet Train:   0%|          | 0/250 [00:00<?, ?it/s]"
      ]
     },
     "metadata": {},
     "output_type": "display_data"
    },
    {
     "data": {
      "application/vnd.jupyter.widget-view+json": {
       "model_id": "57a094bfad834012b80f02aefc9b6f12",
       "version_major": 2,
       "version_minor": 0
      },
      "text/plain": [
       "QNet Train:   0%|          | 0/1000 [00:00<?, ?it/s]"
      ]
     },
     "metadata": {},
     "output_type": "display_data"
    },
    {
     "data": {
      "application/vnd.jupyter.widget-view+json": {
       "model_id": "6e26d258fbb4454cb9e784da35b4f594",
       "version_major": 2,
       "version_minor": 0
      },
      "text/plain": [
       "Phase:   0%|          | 0/3 [00:00<?, ?it/s]"
      ]
     },
     "metadata": {},
     "output_type": "display_data"
    },
    {
     "data": {
      "application/vnd.jupyter.widget-view+json": {
       "model_id": "c5ed1d14007546c9b5e4e307410dbcbf",
       "version_major": 2,
       "version_minor": 0
      },
      "text/plain": [
       "QNet Train:   0%|          | 0/500 [00:00<?, ?it/s]"
      ]
     },
     "metadata": {},
     "output_type": "display_data"
    },
    {
     "data": {
      "application/vnd.jupyter.widget-view+json": {
       "model_id": "14e5acba75464f60b49fb4ac8e37944a",
       "version_major": 2,
       "version_minor": 0
      },
      "text/plain": [
       "AvgPolNet Train:   0%|          | 0/250 [00:00<?, ?it/s]"
      ]
     },
     "metadata": {},
     "output_type": "display_data"
    },
    {
     "data": {
      "application/vnd.jupyter.widget-view+json": {
       "model_id": "77cc1318ff564ae2ac7626448cb34903",
       "version_major": 2,
       "version_minor": 0
      },
      "text/plain": [
       "QNet Train:   0%|          | 0/250 [00:00<?, ?it/s]"
      ]
     },
     "metadata": {},
     "output_type": "display_data"
    },
    {
     "data": {
      "application/vnd.jupyter.widget-view+json": {
       "model_id": "71bef11fad844092bbf353bc862669b1",
       "version_major": 2,
       "version_minor": 0
      },
      "text/plain": [
       "AvgPolNet Train:   0%|          | 0/250 [00:00<?, ?it/s]"
      ]
     },
     "metadata": {},
     "output_type": "display_data"
    },
    {
     "data": {
      "application/vnd.jupyter.widget-view+json": {
       "model_id": "4ffdf634f45f40c9bd8c05da70e3ea6f",
       "version_major": 2,
       "version_minor": 0
      },
      "text/plain": [
       "QNet Train:   0%|          | 0/1000 [00:00<?, ?it/s]"
      ]
     },
     "metadata": {},
     "output_type": "display_data"
    },
    {
     "data": {
      "application/vnd.jupyter.widget-view+json": {
       "model_id": "8bb042a0b90a45f98c42a5c322a898cb",
       "version_major": 2,
       "version_minor": 0
      },
      "text/plain": [
       "AvgPolNet Train:   0%|          | 0/500 [00:00<?, ?it/s]"
      ]
     },
     "metadata": {},
     "output_type": "display_data"
    },
    {
     "data": {
      "application/vnd.jupyter.widget-view+json": {
       "model_id": "ff7e903bbbc94b1b8852ec982f9b56bf",
       "version_major": 2,
       "version_minor": 0
      },
      "text/plain": [
       "Phase:   0%|          | 0/3 [00:00<?, ?it/s]"
      ]
     },
     "metadata": {},
     "output_type": "display_data"
    },
    {
     "data": {
      "application/vnd.jupyter.widget-view+json": {
       "model_id": "5caee92646174e549e2664e3e6883298",
       "version_major": 2,
       "version_minor": 0
      },
      "text/plain": [
       "QNet Train:   0%|          | 0/500 [00:00<?, ?it/s]"
      ]
     },
     "metadata": {},
     "output_type": "display_data"
    },
    {
     "data": {
      "application/vnd.jupyter.widget-view+json": {
       "model_id": "f47f46d6e98e4a5096e50dfd3737d2a1",
       "version_major": 2,
       "version_minor": 0
      },
      "text/plain": [
       "QNet Train:   0%|          | 0/250 [00:00<?, ?it/s]"
      ]
     },
     "metadata": {},
     "output_type": "display_data"
    },
    {
     "data": {
      "application/vnd.jupyter.widget-view+json": {
       "model_id": "22636c82abb94a98b0f3dfff38ac9a7b",
       "version_major": 2,
       "version_minor": 0
      },
      "text/plain": [
       "QNet Train:   0%|          | 0/1000 [00:00<?, ?it/s]"
      ]
     },
     "metadata": {},
     "output_type": "display_data"
    },
    {
     "data": {
      "application/vnd.jupyter.widget-view+json": {
       "model_id": "8bf6187031614ad8a344c4a65a68dc34",
       "version_major": 2,
       "version_minor": 0
      },
      "text/plain": [
       "Phase:   0%|          | 0/3 [00:00<?, ?it/s]"
      ]
     },
     "metadata": {},
     "output_type": "display_data"
    },
    {
     "data": {
      "application/vnd.jupyter.widget-view+json": {
       "model_id": "f6d3c9c122a34315b006807440e48f0e",
       "version_major": 2,
       "version_minor": 0
      },
      "text/plain": [
       "QNet Train:   0%|          | 0/500 [00:00<?, ?it/s]"
      ]
     },
     "metadata": {},
     "output_type": "display_data"
    },
    {
     "data": {
      "application/vnd.jupyter.widget-view+json": {
       "model_id": "7be6893e237249a096155eb8b1ea6de3",
       "version_major": 2,
       "version_minor": 0
      },
      "text/plain": [
       "QNet Train:   0%|          | 0/250 [00:00<?, ?it/s]"
      ]
     },
     "metadata": {},
     "output_type": "display_data"
    },
    {
     "data": {
      "application/vnd.jupyter.widget-view+json": {
       "model_id": "98c90aa179334ea8b90f9b9464996dc9",
       "version_major": 2,
       "version_minor": 0
      },
      "text/plain": [
       "QNet Train:   0%|          | 0/1000 [00:00<?, ?it/s]"
      ]
     },
     "metadata": {},
     "output_type": "display_data"
    },
    {
     "data": {
      "application/vnd.jupyter.widget-view+json": {
       "model_id": "518f926d31424104ab609ecb96c8023d",
       "version_major": 2,
       "version_minor": 0
      },
      "text/plain": [
       "Phase:   0%|          | 0/3 [00:00<?, ?it/s]"
      ]
     },
     "metadata": {},
     "output_type": "display_data"
    },
    {
     "data": {
      "application/vnd.jupyter.widget-view+json": {
       "model_id": "cb47f17883ea435383b1a875c2508aab",
       "version_major": 2,
       "version_minor": 0
      },
      "text/plain": [
       "QNet Train:   0%|          | 0/500 [00:00<?, ?it/s]"
      ]
     },
     "metadata": {},
     "output_type": "display_data"
    },
    {
     "data": {
      "application/vnd.jupyter.widget-view+json": {
       "model_id": "4f6e4ad9f7364df6857ef3a63779f441",
       "version_major": 2,
       "version_minor": 0
      },
      "text/plain": [
       "AvgPolNet Train:   0%|          | 0/250 [00:00<?, ?it/s]"
      ]
     },
     "metadata": {},
     "output_type": "display_data"
    },
    {
     "data": {
      "application/vnd.jupyter.widget-view+json": {
       "model_id": "7bd07e6a48aa42bba7b86422b0b40bd9",
       "version_major": 2,
       "version_minor": 0
      },
      "text/plain": [
       "QNet Train:   0%|          | 0/250 [00:00<?, ?it/s]"
      ]
     },
     "metadata": {},
     "output_type": "display_data"
    },
    {
     "data": {
      "application/vnd.jupyter.widget-view+json": {
       "model_id": "a38f7283e91e4c7696428135d9dc679a",
       "version_major": 2,
       "version_minor": 0
      },
      "text/plain": [
       "AvgPolNet Train:   0%|          | 0/250 [00:00<?, ?it/s]"
      ]
     },
     "metadata": {},
     "output_type": "display_data"
    },
    {
     "data": {
      "application/vnd.jupyter.widget-view+json": {
       "model_id": "3e366aa123e948cd83d1bdfe4d7763d9",
       "version_major": 2,
       "version_minor": 0
      },
      "text/plain": [
       "QNet Train:   0%|          | 0/1000 [00:00<?, ?it/s]"
      ]
     },
     "metadata": {},
     "output_type": "display_data"
    },
    {
     "data": {
      "application/vnd.jupyter.widget-view+json": {
       "model_id": "f19e114afa43419f917d6bdcb5f5be8b",
       "version_major": 2,
       "version_minor": 0
      },
      "text/plain": [
       "AvgPolNet Train:   0%|          | 0/500 [00:00<?, ?it/s]"
      ]
     },
     "metadata": {},
     "output_type": "display_data"
    },
    {
     "data": {
      "application/vnd.jupyter.widget-view+json": {
       "model_id": "a7feb5075a09402a8f3c366765da0e32",
       "version_major": 2,
       "version_minor": 0
      },
      "text/plain": [
       "Phase:   0%|          | 0/3 [00:00<?, ?it/s]"
      ]
     },
     "metadata": {},
     "output_type": "display_data"
    },
    {
     "data": {
      "application/vnd.jupyter.widget-view+json": {
       "model_id": "2dcb839d787e49ffa7f4dba717733704",
       "version_major": 2,
       "version_minor": 0
      },
      "text/plain": [
       "QNet Train:   0%|          | 0/500 [00:00<?, ?it/s]"
      ]
     },
     "metadata": {},
     "output_type": "display_data"
    },
    {
     "data": {
      "application/vnd.jupyter.widget-view+json": {
       "model_id": "84cdc58a3e504c35ae211eee6851a240",
       "version_major": 2,
       "version_minor": 0
      },
      "text/plain": [
       "QNet Train:   0%|          | 0/250 [00:00<?, ?it/s]"
      ]
     },
     "metadata": {},
     "output_type": "display_data"
    },
    {
     "data": {
      "application/vnd.jupyter.widget-view+json": {
       "model_id": "47d10f6318d2495da9d3677314a70561",
       "version_major": 2,
       "version_minor": 0
      },
      "text/plain": [
       "QNet Train:   0%|          | 0/1000 [00:00<?, ?it/s]"
      ]
     },
     "metadata": {},
     "output_type": "display_data"
    },
    {
     "data": {
      "application/vnd.jupyter.widget-view+json": {
       "model_id": "2afcee25a2004f069ffd37141d6038ad",
       "version_major": 2,
       "version_minor": 0
      },
      "text/plain": [
       "Phase:   0%|          | 0/3 [00:00<?, ?it/s]"
      ]
     },
     "metadata": {},
     "output_type": "display_data"
    },
    {
     "data": {
      "application/vnd.jupyter.widget-view+json": {
       "model_id": "fb3c4b50ba2342ba8bfe7016473404ea",
       "version_major": 2,
       "version_minor": 0
      },
      "text/plain": [
       "QNet Train:   0%|          | 0/500 [00:00<?, ?it/s]"
      ]
     },
     "metadata": {},
     "output_type": "display_data"
    },
    {
     "data": {
      "application/vnd.jupyter.widget-view+json": {
       "model_id": "b25f63bebaf8491da3b805b9cc9902be",
       "version_major": 2,
       "version_minor": 0
      },
      "text/plain": [
       "QNet Train:   0%|          | 0/250 [00:00<?, ?it/s]"
      ]
     },
     "metadata": {},
     "output_type": "display_data"
    },
    {
     "data": {
      "application/vnd.jupyter.widget-view+json": {
       "model_id": "925ca7fed8124d9f9bb4b851d248377f",
       "version_major": 2,
       "version_minor": 0
      },
      "text/plain": [
       "QNet Train:   0%|          | 0/1000 [00:00<?, ?it/s]"
      ]
     },
     "metadata": {},
     "output_type": "display_data"
    },
    {
     "data": {
      "application/vnd.jupyter.widget-view+json": {
       "model_id": "08a7580dfe9645aa8a8c307c0e927b6e",
       "version_major": 2,
       "version_minor": 0
      },
      "text/plain": [
       "Phase:   0%|          | 0/3 [00:00<?, ?it/s]"
      ]
     },
     "metadata": {},
     "output_type": "display_data"
    },
    {
     "data": {
      "application/vnd.jupyter.widget-view+json": {
       "model_id": "267087cc07354adf896525cffe02f187",
       "version_major": 2,
       "version_minor": 0
      },
      "text/plain": [
       "QNet Train:   0%|          | 0/500 [00:00<?, ?it/s]"
      ]
     },
     "metadata": {},
     "output_type": "display_data"
    },
    {
     "data": {
      "application/vnd.jupyter.widget-view+json": {
       "model_id": "3b37044818f147c7a2002f94bcf97a31",
       "version_major": 2,
       "version_minor": 0
      },
      "text/plain": [
       "AvgPolNet Train:   0%|          | 0/250 [00:00<?, ?it/s]"
      ]
     },
     "metadata": {},
     "output_type": "display_data"
    },
    {
     "data": {
      "application/vnd.jupyter.widget-view+json": {
       "model_id": "dbb3e5b4ff394a5ab51e32b52cb380f6",
       "version_major": 2,
       "version_minor": 0
      },
      "text/plain": [
       "QNet Train:   0%|          | 0/250 [00:00<?, ?it/s]"
      ]
     },
     "metadata": {},
     "output_type": "display_data"
    },
    {
     "data": {
      "application/vnd.jupyter.widget-view+json": {
       "model_id": "d5f24dac72b94da1a9dc77319bda1650",
       "version_major": 2,
       "version_minor": 0
      },
      "text/plain": [
       "AvgPolNet Train:   0%|          | 0/250 [00:00<?, ?it/s]"
      ]
     },
     "metadata": {},
     "output_type": "display_data"
    },
    {
     "data": {
      "application/vnd.jupyter.widget-view+json": {
       "model_id": "ec0a40d261c6438fac73e401af46ac3a",
       "version_major": 2,
       "version_minor": 0
      },
      "text/plain": [
       "QNet Train:   0%|          | 0/1000 [00:00<?, ?it/s]"
      ]
     },
     "metadata": {},
     "output_type": "display_data"
    },
    {
     "data": {
      "application/vnd.jupyter.widget-view+json": {
       "model_id": "9d4bbf1f3a8245d49ddf4fc9916b196a",
       "version_major": 2,
       "version_minor": 0
      },
      "text/plain": [
       "AvgPolNet Train:   0%|          | 0/500 [00:00<?, ?it/s]"
      ]
     },
     "metadata": {},
     "output_type": "display_data"
    },
    {
     "name": "stdout",
     "output_type": "stream",
     "text": [
      "--- Training finished ---\n"
     ]
    }
   ],
   "source": [
    "NUM_PLAYERS = 4\n",
    "NUM_CARDS = 52\n",
    "NUM_SUITS = 4\n",
    "NUM_CARDS_PER_SUIT = 13\n",
    "NUM_CARDS_PER_PLAYER = 13\n",
    "FEATURES_PER_CARD = 5\n",
    "CARD_NOT_YET_PLAYED = -1\n",
    "HIDDEN_TRUMP_CARD = -2\n",
    "HIDDEN_TRUMP_RANK = 14\n",
    "NO_TRICK_LEADER = -1\n",
    "NO_LEADING_SUIT_YET = -1\n",
    "\n",
    "solver = DeepCFVFPSolver(\n",
    "    game_name=\"trump\",\n",
    "    q_value_network_models=q_value_network_models,\n",
    "    avg_policy_network_models=avg_policy_network_models,\n",
    "    info_state_tensor_transformers=info_state_tensor_transformers,\n",
    "    action_transformers=action_transformers,\n",
    "    phase_classifier_fn=trump_phase_classifier,\n",
    "    dummy_infostate=np.array([dummy_infostate], dtype=np.float32),\n",
    "    data_augmentors=data_augmentors,\n",
    "    revelation_transformer=revelation_transformer,\n",
    "    revelation_intensity=[0.1, 0.1],\n",
    "    revelation_decay_mode='linear',\n",
    "    num_iterations=150,\n",
    "    num_iterations_q_per_pi=3,\n",
    "    num_traversals_per_player=72,\n",
    "    uniform=True,\n",
    "    learning_rate=1e-4,\n",
    "    batch_size_q_value=[512, 128, 2048], \n",
    "    batch_size_avg_policy=[512, 128, 1024], \n",
    "    q_value_network_train_steps=[500, 250, 1000],\n",
    "    avg_policy_network_train_steps=[250, 250, 500],\n",
    "    q_value_memory_capacity=[6e3, 1e3, 7.8e4],\n",
    "    avg_policy_memory_capacity=[3e4, 5e3, 3.9e5],\n",
    "    save_dir_buffers=\"cfvfp_buffers_z3-q-only\",\n",
    "    save_dir_nets=\"cfvfp_nets_z3-q-only\",\n",
    "    seed=2,\n",
    "    num_workers=6\n",
    ")\n",
    "\n",
    "# 5. Run the training loop\n",
    "print(f\"\\n--- Starting Trump game training with DeepCFVFPSolver ({solver._num_phases} phases) ---\")\n",
    "print(f\"Global number of actions used by solver: {solver._global_num_actions}\")\n",
    "\n",
    "final_policy_params_by_phase, q_losses_by_phase, avg_policy_losses_by_phase = solver.solve()\n",
    "\n",
    "print(\"--- Training finished ---\")"
   ]
  },
  {
   "cell_type": "code",
   "execution_count": 10,
   "id": "582aea31",
   "metadata": {},
   "outputs": [
    {
     "name": "stdout",
     "output_type": "stream",
     "text": [
      "\n",
      "Q-Value Losses (last value per player, per phase index):\n",
      "  Phase 'bid':\n",
      "    Player 0: 17.6334 (Avg: 16.9620, Min: 16.2329, Max: 17.8518 over 30 entries)\n",
      "  Phase 'ad':\n",
      "    Player 0: 0.6131 (Avg: 0.5561, Min: 0.2232, Max: 1.0016 over 30 entries)\n",
      "  Phase 'play':\n",
      "    Player 0: 2.8631 (Avg: 2.7940, Min: 2.4560, Max: 2.9394 over 30 entries)\n",
      "\n",
      "Average Policy Losses (last value per player, per phase index):\n",
      "  Phase 'bid':\n",
      "    Player 0: 0.0379 (Avg: 0.0270, Min: 0.0140, Max: 0.0379 over 10 entries)\n",
      "  Phase 'ad':\n",
      "    Player 0: 0.0053 (Avg: 0.0064, Min: 0.0008, Max: 0.0134 over 10 entries)\n",
      "  Phase 'play':\n",
      "    Player 0: 0.8269 (Avg: 0.8239, Min: 0.8185, Max: 0.8269 over 10 entries)\n",
      "\n",
      "Solver run complete.\n"
     ]
    }
   ],
   "source": [
    "# 6. Optional: Print or analyze the losses\n",
    "print(\"\\nQ-Value Losses (last value per player, per phase index):\")\n",
    "for phase, p_losses_dict in q_losses_by_phase.items():\n",
    "    # Assuming phase_idx corresponds to the integer index (0, 1, 2)\n",
    "    phase_name = PHASES[phase] # Use PHASES list to get the name\n",
    "    print(f\"  Phase '{phase_name}':\")\n",
    "    for player, losses_list in p_losses_dict.items():\n",
    "        if losses_list:\n",
    "            print(f\"    Player {player}: {losses_list[-1]:.4f} (Avg: {np.mean(losses_list):.4f}, Min: {np.min(losses_list):.4f}, Max: {np.max(losses_list):.4f} over {len(losses_list)} entries)\")\n",
    "        else:\n",
    "            print(f\"    Player {player}: No Q-loss data\")\n",
    "\n",
    "print(\"\\nAverage Policy Losses (last value per player, per phase index):\")\n",
    "for phase, p_losses_dict in avg_policy_losses_by_phase.items():\n",
    "    phase_name = PHASES[phase]\n",
    "    print(f\"  Phase '{phase_name}':\")\n",
    "    for player, losses_list in p_losses_dict.items():\n",
    "        if losses_list:\n",
    "            print(f\"    Player {player}: {losses_list[-1]:.4f} (Avg: {np.mean(losses_list):.4f}, Min: {np.min(losses_list):.4f}, Max: {np.max(losses_list):.4f} over {len(losses_list)} entries)\")\n",
    "        else:\n",
    "            print(f\"    Player {player}: No AvgPolicy-loss data\")\n",
    "\n",
    "print(\"\\nSolver run complete.\")"
   ]
  },
  {
   "cell_type": "markdown",
   "id": "58219e46",
   "metadata": {},
   "source": [
    "## Interactive Game with trained strategy displayed"
   ]
  },
  {
   "cell_type": "code",
   "execution_count": 3,
   "id": "2c417c72",
   "metadata": {},
   "outputs": [
    {
     "name": "stdout",
     "output_type": "stream",
     "text": [
      "Game Short Name: trump\n",
      "Game Long Name: Trump\n",
      "Number of Players: 4\n",
      "Min Utility: -33.0\n",
      "Max Utility: 28.0\n",
      "Max Game Length: 120\n",
      "Tensor Shape (Infostate): [588]\n"
     ]
    }
   ],
   "source": [
    "import pyspiel\n",
    "\n",
    "game = pyspiel.load_game(\"trump\")\n",
    "\n",
    "def print_game_info(game):\n",
    "    game_type = game.get_type()\n",
    "    print(\"Game Short Name:\", game_type.short_name)\n",
    "    print(\"Game Long Name:\", game_type.long_name)\n",
    "    print(\"Number of Players:\", game.num_players())\n",
    "    print(\"Min Utility:\", game.min_utility())\n",
    "    print(\"Max Utility:\", game.max_utility())\n",
    "    print(\"Max Game Length:\", game.max_game_length())\n",
    "    print(\"Tensor Shape (Infostate):\", game.information_state_tensor_shape())\n",
    "    \n",
    "print_game_info(game)"
   ]
  },
  {
   "cell_type": "code",
   "execution_count": 4,
   "id": "5bc31e92",
   "metadata": {},
   "outputs": [
    {
     "name": "stdout",
     "output_type": "stream",
     "text": [
      "=== STARTING INTERACTIVE TRUMP GAME ===\n",
      "\n",
      "--- 1. Dealing Cards (Randomly) ---\n",
      "\n",
      "--- Initial Hands Dealt (Player 0's perspective for their hand) ---\n",
      "Player 0 Hand: C3, C5, CT, D4, D6, D7, D8, DA, HK, S2, S5, S7, ST\n",
      "Player 1 Hand: C2, C7, CK, DK, H4, H5, H6, H7, H9, HT, S3, SJ, SK\n",
      "Player 2 Hand: C6, C8, CA, D2, D3, H2, H3, H8, HA, HQ, S6, S8, S9\n",
      "Player 3 Hand: C4, C9, CJ, CQ, D5, D9, DJ, DQ, DT, HJ, S4, SA, SQ\n",
      "\n",
      "--- 2. Bidding Phase ---\n",
      "Current state before bids:\n",
      "Phase: Bidding\n",
      "Current Player: P0\n",
      "Hands (visible in full state string):\n",
      "P0: C3 C5 CT DA D4 D6 D7 D8 HK S2 S5 S7 ST\n",
      "P1: C2 C7 CK DK H4 H5 H6 H7 H9 HT S3 SJ SK\n",
      "P2: CA C6 C8 D2 D3 HA H2 H3 H8 HQ S6 S8 S9\n",
      "P3: C4 C9 CJ CQ D5 D9 DT DJ DQ HJ SA S4 SQ\n",
      "Bid Cards Status: (All bids are hidden until revealed simultaneously after this phase)\n",
      "\n",
      "\n",
      "Player 0's turn to bid.\n",
      "  Legal moves for P0: C5:0.01 D4:0.03 HK:0.00 ST:0.00 S5:0.00 D6:0.02 D8:0.00 S2:0.00 C3:0.94 CT:0.00 D7:0.00 DA:0.00 S7:0.00\n",
      "  A random choice: C3\n",
      "Player 0 bids with: C3\n",
      "\n",
      "Player 1's turn to bid.\n",
      "  Legal moves for P1: C7:0.00 DK:0.00 H6:0.00 SJ:0.00 CK:0.00 HT:0.00 H4:0.57 S3:0.15 SK:0.00 H7:0.03 H9:0.00 H5:0.26 C2:0.00\n",
      "  A random choice: H4\n",
      "Player 1 bids with: H4\n",
      "\n",
      "Player 2's turn to bid.\n",
      "  Legal moves for P2: CA:0.01 D2:0.00 H3:0.01 S6:0.00 S9:0.00 D3:0.00 C6:0.00 HQ:0.00 S8:0.00 C8:0.00 HA:0.00 H2:0.96 H8:0.00\n",
      "  A random choice: H2\n",
      "Player 2 bids with: H2\n",
      "\n",
      "Player 3's turn to bid.\n",
      "  Legal moves for P3: C4:0.22 C9:0.00 CJ:0.00 CQ:0.00 D5:0.00 D9:0.01 DT:0.00 DJ:0.00 DQ:0.10 HJ:0.00 SA:0.04 S4:0.62 SQ:0.00\n",
      "  A random choice: S4\n",
      "Player 3 bids with: S4\n",
      "\n",
      "--- Bid Reveal and Round Determination ---\n",
      "Phase: HighLowDecision\n",
      "Current Player: P3\n",
      "Hands (visible in full state string):\n",
      "P0: C3 C5 CT DA D4 D6 D7 D8 HK S2 S5 S7 ST\n",
      "P1: C2 C7 CK DK H4 H5 H6 H7 H9 HT S3 SJ SK\n",
      "P2: CA C6 C8 D2 D3 HA H2 H3 H8 HQ S6 S8 S9\n",
      "P3: C4 C9 CJ CQ D5 D9 DT DJ DQ HJ SA S4 SQ\n",
      "Revealed Bid Cards: P0:C3 P1:H4 P2:H2 P3:S4 \n",
      "Round Determination: Error: Bid Status 0 Post-Bidding\n",
      "Resulting Round Type (for scoring): Undecided\n",
      "Trump suit: S\n",
      "Internal Target Bid values (for scoring logic): P0:3 P1:4 P2:2 P3:4 \n",
      "Highest bidder (determined trump): P3\n",
      "\n",
      "3. Trump Suit: S\n",
      "\n",
      "--- 4. High/Low Decision Phase ---\n",
      "Player 3 (Highest Bidder) must choose to Ascend or Descend.\n",
      "  Choices: Ascend:0.26 Descend:0.74\n",
      "  A random choice: Ascend\n",
      "Player 3 chose: Ascend\n",
      "State after High/Low decision:\n",
      "Phase: Play\n",
      "Current Player: P3\n",
      "Hands (visible in full state string):\n",
      "P0: C3 C5 CT DA D4 D6 D7 D8 HK S2 S5 S7 ST\n",
      "P1: C2 C7 CK DK H4 H5 H6 H7 H9 HT S3 SJ SK\n",
      "P2: CA C6 C8 D2 D3 HA H2 H3 H8 HQ S6 S8 S9\n",
      "P3: C4 C9 CJ CQ D5 D9 DT DJ DQ HJ SA S4 SQ\n",
      "Revealed Bid Cards: P0:C3 P1:H4 P2:H2 P3:S4 \n",
      "Round Determination: Ascend Occurred\n",
      "Resulting Round Type (for scoring): High\n",
      "Trump suit: S\n",
      "Internal Target Bid values (for scoring logic): P0:4 P1:5 P2:3 P3:5 \n",
      "Highest bidder (determined trump): P3\n",
      "Trick #1\n",
      "Current trick (Leader P3): \n",
      "Trump break occurred (from previous tricks): No\n",
      "Tricks won: P0:0 P1:0 P2:0 P3:0 \n",
      "\n",
      "5. Final Round Type (for scoring): High (based on: Ascend Occurred)\n",
      "\n",
      "--- 6. Trick Play Phase ---\n",
      "\n",
      "-- Trick 1 --\n",
      "  Tricks collected so far: P0:0, P1:0, P2:0, P3:0\n",
      "  Bid Cards: P0:C3 P1:H4 P2:H2 P3:S4\n",
      "  Broken: False\n",
      "  Trump Suit: S\n",
      "  Remaining Hands AT START of Trick 1:\n",
      "    P0: C3, C5, CT, D4, D6, D7, D8, DA, HK, S2, S5, S7, ST\n",
      "    P1: C2, C7, CK, DK, H4, H5, H6, H7, H9, HT, S3, SJ, SK\n",
      "    P2: C6, C8, CA, D2, D3, H2, H3, H8, HA, HQ, S6, S8, S9\n",
      "    P3: C4, C9, CJ, CQ, D5, D9, DJ, DQ, DT, HJ, S4, SA, SQ\n",
      "  Led by: P3\n",
      "\n",
      "  Player 3's turn.\n",
      "  Legal moves for P3: C4:0.09:1 C9:0.12:3 CJ:0.11:3 CQ:0.09:3 D5:0.10:3 D9:0.08:3 DT:0.10:3 DJ:0.07:3 DQ:0.17:3 HJ:0.08:3\n",
      "  A random choice: DT\n",
      "   -> P3 plays: DT\n",
      "\n",
      "  Player 0's turn.\n",
      "  Legal moves for P0: D4:0.17:1 D6:0.18:1 D8:0.20:1 D7:0.20:1 DA:0.25:4\n",
      "  A random choice: D7\n",
      "   -> P0 plays: D7\n",
      "\n",
      "  Player 1's turn.\n",
      "  Legal moves for P1: DK:1.00:3\n",
      "  A random choice: DK\n",
      "  Only one legal move: DK (auto-played)\n",
      "   -> P1 plays: DK\n",
      "\n",
      "  Player 2's turn.\n",
      "  Legal moves for P2: D2:0.26:1 D3:0.74:1\n",
      "  A random choice: D3\n",
      "   -> P2 plays: D3\n",
      "  Cards played this trick (P0-P3 order): D7, DK, D3, DT\n",
      "\n",
      "-- Trick 2 --\n",
      "  Tricks collected so far: P0:0, P1:1, P2:0, P3:0\n",
      "  Bid Cards: P0:C3 P1:H4 P2:H2 P3:S4\n",
      "  Broken: False\n",
      "  Trump Suit: S\n",
      "  Remaining Hands AT START of Trick 2:\n",
      "    P0: C3, C5, CT, D4, D6, D8, DA, HK, S2, S5, S7, ST\n",
      "    P1: C2, C7, CK, H4, H5, H6, H7, H9, HT, S3, SJ, SK\n",
      "    P2: C6, C8, CA, D2, H2, H3, H8, HA, HQ, S6, S8, S9\n",
      "    P3: C4, C9, CJ, CQ, D5, D9, DJ, DQ, HJ, S4, SA, SQ\n",
      "  Led by: P1\n",
      "\n",
      "  Player 1's turn.\n",
      "  Legal moves for P1: C7:0.10:3 H6:0.10:1 CK:0.13:3 HT:0.06:3 H4:0.09:1 H7:0.14:1 H9:0.18:3 H5:0.09:1 C2:0.11:1\n",
      "  A random choice: H4\n",
      "   -> P1 plays: H4\n",
      "\n",
      "  Player 2's turn.\n",
      "  Legal moves for P2: H3:0.21:1 HQ:0.13:3 HA:0.22:4 H2:0.32:1 H8:0.12:3\n",
      "  A random choice: HA\n",
      "   -> P2 plays: HA\n",
      "\n",
      "  Player 3's turn.\n",
      "  Legal moves for P3: HJ:1.00:1\n",
      "  A random choice: HJ\n",
      "  Only one legal move: HJ (auto-played)\n",
      "   -> P3 plays: HJ\n",
      "\n",
      "  Player 0's turn.\n",
      "  Legal moves for P0: HK:1.00:1\n",
      "  A random choice: HK\n",
      "  Only one legal move: HK (auto-played)\n",
      "   -> P0 plays: HK\n",
      "  Cards played this trick (P0-P3 order): HK, H4, HA, HJ\n",
      "\n",
      "-- Trick 3 --\n",
      "  Tricks collected so far: P0:0, P1:1, P2:1, P3:0\n",
      "  Bid Cards: P0:C3 P1:H4 P2:H2 P3:S4\n",
      "  Broken: False\n",
      "  Trump Suit: S\n",
      "  Remaining Hands AT START of Trick 3:\n",
      "    P0: C3, C5, CT, D4, D6, D8, DA, S2, S5, S7, ST\n",
      "    P1: C2, C7, CK, H5, H6, H7, H9, HT, S3, SJ, SK\n",
      "    P2: C6, C8, CA, D2, H2, H3, H8, HQ, S6, S8, S9\n",
      "    P3: C4, C9, CJ, CQ, D5, D9, DJ, DQ, S4, SA, SQ\n",
      "  Led by: P2\n",
      "\n",
      "  Player 2's turn.\n",
      "  Legal moves for P2: CA:0.27:4 D2:0.05:1 H3:0.11:1 C6:0.10:3 HQ:0.09:4 C8:0.14:3 H2:0.16:1 H8:0.06:3\n",
      "  A random choice: C8\n",
      "Game quit by user during card play.\n"
     ]
    }
   ],
   "source": [
    "import jax\n",
    "jax.config.update('jax_platform_name', 'cpu')\n",
    "\n",
    "from trump_interactive import interactive_trump_game\n",
    "\n",
    "state = interactive_trump_game(game)"
   ]
  },
  {
   "cell_type": "code",
   "execution_count": 10,
   "id": "8904b638",
   "metadata": {},
   "outputs": [
    {
     "name": "stdout",
     "output_type": "stream",
     "text": [
      "Graveyards (Opponent Card Knowledge):\n",
      "Values: -1=has, 0=unknown, 1=had, 2=never had\n",
      "\n",
      "Opponent 1:\n",
      "C: C2: 0 C3: 0 C4: 0 C5: 0 C6: 2 C7: 0 C8: 2 C9: 0 CT: 0 CJ: 0 CQ: 0 CK: 0 CA: 2 \n",
      "D: D2: 2 D3: 0 D4: 0 D5:-1 D6: 2 D7: 0 D8: 2 D9: 0 DT: 0 DJ: 0 DQ: 0 DK: 2 DA: 0 \n",
      "H: H2: 0 H3: 2 H4: 2 H5: 2 H6: 2 H7: 0 H8: 0 H9: 0 HT: 0 HJ: 0 HQ: 2 HK: 0 HA: 0 \n",
      "S: S2: 2 S3: 2 S4: 2 S5: 0 S6: 1 S7: 2 S8: 0 S9: 0 ST: 2 SJ: 2 SQ: 0 SK: 0 SA: 1 \n",
      "\n",
      "Opponent 2:\n",
      "C: C2: 0 C3: 0 C4: 0 C5: 0 C6: 2 C7: 0 C8: 2 C9: 0 CT: 0 CJ: 0 CQ: 0 CK: 0 CA: 2 \n",
      "D: D2: 2 D3: 0 D4: 0 D5: 2 D6: 2 D7: 0 D8: 2 D9: 0 DT: 0 DJ: 0 DQ: 0 DK: 2 DA: 0 \n",
      "H: H2: 0 H3: 2 H4: 2 H5: 2 H6: 2 H7: 0 H8: 0 H9: 0 HT: 0 HJ: 0 HQ: 2 HK: 0 HA: 0 \n",
      "S: S2: 2 S3: 2 S4: 1 S5: 0 S6: 2 S7: 2 S8: 0 S9: 0 ST: 1 SJ: 2 SQ: 0 SK: 0 SA: 2 \n",
      "\n",
      "Opponent 3:\n",
      "C: C2: 0 C3: 0 C4: 0 C5: 0 C6: 2 C7: 0 C8: 2 C9: 0 CT: 0 CJ: 0 CQ: 0 CK: 0 CA: 2 \n",
      "D: D2: 2 D3: 0 D4: 0 D5: 2 D6:-1 D7: 0 D8: 2 D9: 0 DT: 0 DJ: 0 DQ: 0 DK: 2 DA: 0 \n",
      "H: H2: 0 H3: 2 H4: 2 H5: 2 H6: 2 H7: 0 H8: 0 H9: 0 HT: 0 HJ: 0 HQ: 2 HK: 0 HA: 0 \n",
      "S: S2: 2 S3: 1 S4: 2 S5: 0 S6: 2 S7: 2 S8: 0 S9: 0 ST: 2 SJ: 1 SQ: 0 SK: 0 SA: 2 \n",
      "\n",
      "Summary:\n",
      "Opponent 1: Has=1 Unknown=31, Had=2, Never Had=18\n",
      "Opponent 2: Has=0 Unknown=31, Had=2, Never Had=19\n",
      "Opponent 3: Has=1 Unknown=31, Had=2, Never Had=18\n"
     ]
    }
   ],
   "source": [
    "from trump_utils import print_graveyards\n",
    "\n",
    "tensor = state.information_state_tensor(state.current_player())\n",
    "print_graveyards(tensor)"
   ]
  },
  {
   "cell_type": "code",
   "execution_count": null,
   "id": "fe21259f",
   "metadata": {},
   "outputs": [
    {
     "name": "stdout",
     "output_type": "stream",
     "text": [
      "[0.0, 0.0, 0.0, 0.0, 0.0, 1.0, 0.0, 0.0, 1.0, 0.0, 0.0, 0.0, 0.0, 0.0, 0.0, 0.0, 1.0, 0.0, 0.0, 0.0, 0.0, 0.0, 1.0, 0.0, 1.0, 0.0, 0.0, 1.0, 1.0, 0.0, 0.0, 0.0, 0.0, 0.0, 0.0, 0.0, 0.0, 1.0, 1.0, 0.0, 0.0, 1.0, 0.0, 0.0, 1.0, 0.0, 0.0, 0.0, 1.0, 0.0, 0.0, 0.0, 3.0, 0.0, 1.0, 0.0, 0.0, 1.0, 0.0, 0.0, 0.0, 1.0, 2.0, 1.0, 0.0, 0.0, 0.0, 2.0, 0.0, 1.0, 0.0, 0.0, 0.0, 1.0, 0.0, 0.0, -1.0, 1.0, 0.0, 0.0, 0.0, 1.0, 1.0, 0.0, 0.0, 0.0, 12.0, 1.0, 0.0, 0.0, 0.0, 13.0, 1.0, 0.0, 0.0, 0.0, 11.0, 1.0, 0.0, 0.0, 0.0, 0.0, 0.0, 0.0, 0.0, 0.0, 0.0, 0.0, 0.0, 0.0, 0.0, 0.0, 0.0, 0.0, 0.0, 0.0, 0.0, 0.0, 0.0, 0.0, 0.0, 0.0, 0.0, 0.0, 0.0, 0.0, 0.0, 0.0, 0.0, 0.0, 0.0, 0.0, 0.0, 0.0, 0.0, 0.0, 0.0, 0.0, 0.0, 0.0, 0.0, 0.0, 0.0, 0.0, 0.0, 0.0, 0.0, 0.0, 0.0, 0.0, 0.0, 0.0, 0.0, 0.0, 0.0, 0.0, 0.0, 0.0, 0.0, 0.0, 0.0, 0.0, 0.0, 0.0, 0.0, 0.0, 0.0, 0.0, 0.0, 0.0, 0.0, 0.0, 0.0, 0.0, 0.0, 0.0, 0.0, 0.0, 0.0, 0.0, 0.0, 0.0, 0.0, 0.0, 0.0, 0.0, 0.0, 0.0, 0.0, 0.0, 0.0, 0.0, 0.0, 0.0, 0.0, 0.0, 0.0, 0.0, 0.0, 0.0, 0.0, 0.0, 0.0, 0.0, 0.0, 0.0, 0.0, 0.0, 0.0, 0.0, 0.0, 0.0, 0.0, 0.0, 0.0, 0.0, 0.0, 0.0, 0.0, 0.0, 0.0, 0.0, 0.0, 0.0, 0.0, 0.0, 0.0, 0.0, 0.0, 0.0, 0.0, 0.0, 0.0, 0.0, 0.0, 0.0, 0.0, 0.0, 0.0, 0.0, 0.0, 0.0, 0.0, 0.0, 0.0, 0.0, 0.0, 0.0, 0.0, 0.0, 0.0, 0.0, 0.0, 0.0, 0.0, 0.0, 0.0, 0.0, 0.0, 0.0, 0.0, 0.0, 0.0, 0.0, 0.0, 0.0, 0.0, 0.0, 0.0, 0.0, 0.0, 0.0, 0.0, 0.0, 0.0, 0.0, 0.0, 0.0, 0.0, 0.0, 0.0, 0.0, 0.0, 0.0, 0.0, 0.0, 0.0, 0.0, 0.0, 0.0, 0.0, 0.0, 0.0, 0.0, 0.0, 0.0, 0.0, 0.0, 0.0, 0.0, 0.0, 0.0, 0.0, 0.0, 0.0, 0.0, 0.0, 0.0, 0.0, 0.0, 0.0, 0.0, 0.0, 0.0, 0.0, 0.0, 0.0, 0.0, 0.0, 0.0, 0.0, 0.0, 0.0, 0.0, 0.0, 0.0, 0.0, 0.0, 0.0, 0.0, 0.0, 0.0, 0.0, 0.0, 0.0, 0.0, 0.0, 0.0, 0.0, 0.0, 0.0, 0.0, 0.0, 0.0, 0.0, 0.0, 0.0, 0.0, 0.0, 0.0, 0.0, 0.0, 0.0, 0.0, 0.0, 0.0, 0.0, 0.0, 0.0, 0.0, 0.0, 0.0, 0.0, 0.0, 0.0, 0.0, 0.0, 0.0, 0.0, 0.0, 0.0, 0.0, 0.0, 0.0, 0.0, 0.0, 0.0, 0.0, 0.0, 0.0, 0.0, 0.0, 0.0, 0.0, 0.0, 0.0, 0.0, 0.0, 0.0, 2.0, 2.0, 2.0, 0.0, 0.0, 2.0, 0.0, 0.0, 2.0, 0.0, 0.0, 2.0, 1.0, 0.0, 0.0, 2.0, 2.0, 0.0, 0.0, 0.0, 0.0, 0.0, 2.0, 0.0, 2.0, 0.0, 0.0, 2.0, 2.0, 0.0, 0.0, 0.0, 0.0, 0.0, 0.0, 0.0, 0.0, 2.0, 2.0, 0.0, -1.0, 2.0, 0.0, 0.0, 2.0, 0.0, 0.0, 0.0, 2.0, 0.0, 0.0, 0.0, 1.0, 2.0, -1.0, 0.0, 0.0, 2.0, 0.0, 0.0, 2.0, 0.0, 0.0, 2.0, 2.0, 0.0, 0.0, 2.0, 2.0, 0.0, 0.0, 0.0, 0.0, 0.0, 2.0, 0.0, 2.0, 0.0, 0.0, 2.0, 2.0, 0.0, 0.0, 0.0, 0.0, 0.0, 0.0, 0.0, 0.0, 2.0, 2.0, 0.0, 2.0, 2.0, 0.0, 0.0, 2.0, 0.0, 0.0, 0.0, 2.0, 0.0, 0.0, 0.0, 2.0, 2.0, 2.0, 0.0, 0.0, 2.0, 0.0, 0.0, 2.0, 0.0, 0.0, 1.0, 2.0, 0.0, 0.0, -1.0, 2.0, 0.0, 0.0, 0.0, 0.0, 0.0, 2.0, 0.0, 2.0, 0.0, 0.0, 2.0, 2.0, 0.0, 0.0, 0.0, 0.0, 0.0, 0.0, 0.0, 0.0, 2.0, 2.0, 0.0, 2.0, 2.0, 0.0, 0.0, 2.0, 0.0, 0.0, 0.0, 2.0, 0.0, 0.0, 0.0, 4.0, 2.0, 2.0, 3.0, 0.0, 0.0, 0.0, 0.0, 0.0, 0.0, 0.0, 0.0, 0.0, 0.0, 0.0, 7.0, 0.0, 0.0, 0.0, 1.0, 6.0, 0.0, 0.0, 0.0, 1.0, 0.0, 0.0, 1.0, 0.0, -1.0, -1.0, -1.0, -1.0, -1.0, -1.0, -1.0, -1.0, -1.0, -1.0, -1.0, -1.0, -1.0, 2.0]\n"
     ]
    }
   ],
   "source": [
    "print(tensor)"
   ]
  },
  {
   "cell_type": "code",
   "execution_count": null,
   "id": "edb6bb69",
   "metadata": {},
   "outputs": [
    {
     "name": "stdout",
     "output_type": "stream",
     "text": [
      "Graveyards (Opponent Card Knowledge):\n",
      "Values: -1=has, 0=unknown, 1=had, 2=never had\n",
      "\n",
      "Opponent 1:\n",
      "C: C2: 1 C3: 2 C4: 2 C5: 2 C6: 2 C7: 2 C8: 2 C9:-1 CT:-1 CJ: 2 CQ: 2 CK:-1 CA:-1 \n",
      "D: D2: 2 D3: 2 D4: 2 D5: 2 D6: 1 D7: 1 D8: 2 D9:-1 DT: 2 DJ: 2 DQ: 2 DK: 1 DA: 2 \n",
      "H: H2: 2 H3:-1 H4: 2 H5: 2 H6: 2 H7: 2 H8: 2 H9: 2 HT: 2 HJ: 2 HQ: 2 HK: 2 HA: 2 \n",
      "S: S2: 2 S3: 1 S4: 2 S5: 2 S6: 2 S7: 2 S8: 2 S9: 2 ST: 2 SJ: 1 SQ:-1 SK: 2 SA: 2 \n",
      "\n",
      "Opponent 2:\n",
      "C: C2: 2 C3: 1 C4: 2 C5: 2 C6: 2 C7: 2 C8: 2 C9: 2 CT: 2 CJ:-1 CQ: 2 CK: 2 CA: 2 \n",
      "D: D2: 1 D3: 2 D4:-1 D5: 2 D6: 2 D7: 2 D8: 2 D9: 2 DT: 1 DJ: 2 DQ: 2 DK: 2 DA: 1 \n",
      "H: H2:-1 H3: 2 H4: 2 H5: 2 H6:-1 H7:-1 H8: 2 H9: 2 HT: 2 HJ: 2 HQ: 2 HK: 2 HA: 2 \n",
      "S: S2: 1 S3: 2 S4:-1 S5: 2 S6: 2 S7: 1 S8: 2 S9: 2 ST:-1 SJ: 2 SQ: 2 SK: 2 SA: 2 \n",
      "\n",
      "Opponent 3:\n",
      "C: C2: 2 C3: 2 C4:-1 C5:-1 C6: 1 C7: 2 C8: 2 C9: 2 CT: 2 CJ: 2 CQ:-1 CK: 2 CA: 2 \n",
      "D: D2: 2 D3: 1 D4: 2 D5: 2 D6: 2 D7: 2 D8: 2 D9: 2 DT: 2 DJ: 1 DQ: 1 DK: 2 DA: 2 \n",
      "H: H2: 2 H3: 2 H4: 2 H5:-1 H6: 2 H7: 2 H8: 2 H9: 2 HT: 2 HJ: 2 HQ:-1 HK: 2 HA:-1 \n",
      "S: S2: 2 S3: 2 S4: 2 S5: 1 S6: 2 S7: 2 S8: 2 S9: 2 ST: 2 SJ: 2 SQ: 2 SK: 1 SA:-1 \n",
      "\n",
      "Summary:\n",
      "Opponent 1: Has=7 Unknown=0, Had=6, Never Had=39\n",
      "Opponent 2: Has=7 Unknown=0, Had=6, Never Had=39\n",
      "Opponent 3: Has=7 Unknown=0, Had=6, Never Had=39\n"
     ]
    }
   ],
   "source": [
    "from trump_utils import revelation_transformer\n",
    "\n",
    "tensor0 = state.information_state_tensor(0)\n",
    "tensor1 = state.information_state_tensor(1)\n",
    "tensor2 = state.information_state_tensor(2)\n",
    "tensor3 = state.information_state_tensor(3)\n",
    "all_tensors = [tensor0, tensor1, tensor2, tensor3]\n",
    "\n",
    "tensor_revealed = revelation_transformer(all_tensors, state.current_player())\n",
    "print_graveyards(tensor_revealed)"
   ]
  },
  {
   "cell_type": "code",
   "execution_count": null,
   "id": "685d9331",
   "metadata": {},
   "outputs": [
    {
     "name": "stdout",
     "output_type": "stream",
     "text": [
      "[38, 11, 37, 5, 40, 12, 9, 16, 50, 15, 32, 47, 14, 28, 10, 24, 43, 26, 17, 2, 19, 48, 4, 35, 18, 0, 3, 29, 25, 1, 30, 41, 34, 44, 7, 46, 27, 8, 20, 33, 51, 42, 39, 49, 21, 6, 22, 23, 45, 31, 36, 13, 40, 28, 27, 42, 13, 16, 24, 25, 23, 15, 19, 20, 21, 14, 18, 8, 39, 50, 48, 41, 51, 40, 43, 44, 22, 5, 17, 34, 45, 47]\n"
     ]
    },
    {
     "name": "stderr",
     "output_type": "stream",
     "text": [
      "Traceback (most recent call last):\n",
      "  File \"/mnt/s/py_repos/my-drl-gaming/venv_wsl/lib/python3.11/site-packages/IPython/core/completer.py\", line 3246, in _complete\n",
      "    result = matcher(context)\n",
      "             ^^^^^^^^^^^^^^^^\n",
      "  File \"/mnt/s/py_repos/my-drl-gaming/venv_wsl/lib/python3.11/site-packages/IPython/core/completer.py\", line 2139, in magic_matcher\n",
      "    matches = self.magic_matches(text)\n",
      "              ^^^^^^^^^^^^^^^^^^^^^^^^\n",
      "  File \"/mnt/s/py_repos/my-drl-gaming/venv_wsl/lib/python3.11/site-packages/IPython/core/completer.py\", line 2172, in magic_matches\n",
      "    global_matches = self.global_matches(bare_text)\n",
      "                     ^^^^^^^^^^^^^^^^^^^^^^^^^^^^^^\n",
      "  File \"/mnt/s/py_repos/my-drl-gaming/venv_wsl/lib/python3.11/site-packages/IPython/core/completer.py\", line 1114, in global_matches\n",
      "    for word in lst:\n",
      "RuntimeError: dictionary changed size during iteration\n"
     ]
    }
   ],
   "source": [
    "print(state.history())"
   ]
  },
  {
   "cell_type": "code",
   "execution_count": 3,
   "id": "a4e77a73",
   "metadata": {},
   "outputs": [
    {
     "name": "stdout",
     "output_type": "stream",
     "text": [
      "3♣ loses due to not following suit.\n",
      "6♣ loses due to not following suit.\n",
      "Q♦ loses due to not following suit.\n",
      "K♦ loses due to not following suit.\n",
      "A valid play where player plays 5♠:\n",
      "Opponent Current Hands:\n",
      "  P1: J♦ 8♥ 4♠ J♠ Q♠ A♠\n",
      "  P2: 3♦ 8♦ T♦ Q♥ 7♠ 9♠\n",
      "  P3: 5♦ 7♦ 2♥ 3♥ 9♥ K♠\n",
      "Current Trick:    P1:8♥ P2:Q♥ P3:9♥\n",
      "A scenario where player loses with 5♠:\n",
      "Opponent Current Hands:\n",
      "  P1: 7♦ 8♦ 7♠ 9♠ Q♠ A♠\n",
      "  P2: T♦ 2♥ 3♥ 8♥ Q♥ K♠\n",
      "  P3: 3♦ 5♦ J♦ 9♥ 4♠ J♠\n",
      "Current Trick:    P1:7♠ P2:Q♥ P3:9♥\n",
      "A scenario where player wins with 5♠:\n",
      "Opponent Current Hands:\n",
      "  P1: 7♦ 8♦ 4♠ 7♠ 9♠ Q♠\n",
      "  P2: T♦ 2♥ 3♥ 8♥ Q♥ A♠\n",
      "  P3: 3♦ 5♦ J♦ 9♥ J♠ K♠\n",
      "Current Trick:    P1:4♠ P2:Q♥ P3:9♥\n",
      "A valid play where player plays T♠:\n",
      "Opponent Current Hands:\n",
      "  P1: 7♦ 8♦ 4♠ 7♠ 9♠ Q♠\n",
      "  P2: T♦ 2♥ 3♥ 8♥ Q♥ A♠\n",
      "  P3: 3♦ 5♦ J♦ 9♥ J♠ K♠\n",
      "Current Trick:    P1:4♠ P2:Q♥ P3:9♥\n",
      "A scenario where player loses with T♠:\n",
      "Opponent Current Hands:\n",
      "  P1: 7♦ 8♦ 4♠ 7♠ Q♠ K♠\n",
      "  P2: T♦ 2♥ 3♥ 8♥ Q♥ A♠\n",
      "  P3: 3♦ 5♦ J♦ 9♥ 9♠ J♠\n",
      "Current Trick:    P1:K♠ P2:Q♥ P3:9♥\n",
      "A scenario where player wins with T♠:\n",
      "Opponent Current Hands:\n",
      "  P1: 7♦ 8♦ 4♠ 7♠ 9♠ K♠\n",
      "  P2: T♦ 2♥ 3♥ 8♥ Q♥ A♠\n",
      "  P3: 3♦ 5♦ J♦ 9♥ J♠ Q♠\n",
      "Current Trick:    P1:9♠ P2:Q♥ P3:9♥\n"
     ]
    },
    {
     "data": {
      "text/plain": [
       "[-1,\n",
       " -1,\n",
       " 1,\n",
       " -1,\n",
       " -1,\n",
       " 1,\n",
       " -1,\n",
       " -1,\n",
       " -1,\n",
       " -1,\n",
       " -1,\n",
       " -1,\n",
       " -1,\n",
       " -1,\n",
       " -1,\n",
       " -1,\n",
       " -1,\n",
       " -1,\n",
       " -1,\n",
       " -1,\n",
       " -1,\n",
       " -1,\n",
       " -1,\n",
       " -1,\n",
       " 1,\n",
       " 1,\n",
       " -1,\n",
       " -1,\n",
       " -1,\n",
       " -1,\n",
       " -1,\n",
       " -1,\n",
       " -1,\n",
       " -1,\n",
       " -1,\n",
       " -1,\n",
       " -1,\n",
       " -1,\n",
       " -1,\n",
       " -1,\n",
       " -1,\n",
       " -1,\n",
       " -1,\n",
       " 3,\n",
       " -1,\n",
       " -1,\n",
       " -1,\n",
       " -1,\n",
       " 3,\n",
       " -1,\n",
       " -1,\n",
       " -1]"
      ]
     },
     "execution_count": 3,
     "metadata": {},
     "output_type": "execute_result"
    }
   ],
   "source": [
    "from trump_z3_bool_current_hand import analyze_hand_cards\n",
    "import numpy as np\n",
    "\n",
    "tensor = np.array(state.information_state_tensor(state.current_player()))\n",
    "analyze_hand_cards(tensor, debug=True)"
   ]
  },
  {
   "cell_type": "code",
   "execution_count": null,
   "id": "31c1dfff",
   "metadata": {},
   "outputs": [
    {
     "name": "stdout",
     "output_type": "stream",
     "text": [
      "3♣ loses to 6♣\n",
      "5♣ loses to 6♣\n",
      "A valid play where player plays T♣:\n",
      "Opponent Current Hands:\n",
      "  P1: 4♣ 2♦ 5♦ 6♦ 7♦ 9♦ T♥ 2♠ 3♠ 4♠ T♠\n",
      "  P2: 9♣ 4♦ Q♦ K♦ 7♥ K♥ 5♠ 8♠ 9♠ Q♠ K♠\n",
      "  P3: 6♣ Q♣ A♣ 3♦ J♦ 5♥ 6♥ 8♥ J♥ J♠ A♠\n",
      "Current Trick:    P1:4♣ P2:9♣ P3:6♣\n",
      "A valid play where player plays K♣:\n",
      "Opponent Current Hands:\n",
      "  P1: 4♣ 2♦ 5♦ 6♦ 7♦ 9♦ T♥ 2♠ 3♠ 4♠ T♠\n",
      "  P2: 9♣ 4♦ Q♦ K♦ 7♥ K♥ 5♠ 8♠ 9♠ Q♠ K♠\n",
      "  P3: 6♣ Q♣ A♣ 3♦ J♦ 5♥ 6♥ 8♥ J♥ J♠ A♠\n",
      "Current Trick:    P1:4♣ P2:9♣ P3:6♣\n"
     ]
    },
    {
     "data": {
      "text/plain": [
       "[-1,\n",
       " -1,\n",
       " 1,\n",
       " -1,\n",
       " 1,\n",
       " -1,\n",
       " -1,\n",
       " -1,\n",
       " -1,\n",
       " 4,\n",
       " -1,\n",
       " -1,\n",
       " 4,\n",
       " 0,\n",
       " -1,\n",
       " -1,\n",
       " -1,\n",
       " -1,\n",
       " -1,\n",
       " -1,\n",
       " 0,\n",
       " -1,\n",
       " 0,\n",
       " -1,\n",
       " -1,\n",
       " -1,\n",
       " -1,\n",
       " -1,\n",
       " -1,\n",
       " -1,\n",
       " -1,\n",
       " -1,\n",
       " -1,\n",
       " -1,\n",
       " 0,\n",
       " -1,\n",
       " -1,\n",
       " 0,\n",
       " -1,\n",
       " -1,\n",
       " -1,\n",
       " -1,\n",
       " -1,\n",
       " -1,\n",
       " 0,\n",
       " 0,\n",
       " -1,\n",
       " -1,\n",
       " -1,\n",
       " -1,\n",
       " -1,\n",
       " -1]"
      ]
     },
     "execution_count": 5,
     "metadata": {},
     "output_type": "execute_result"
    }
   ],
   "source": [
    "import numpy as np\n",
    "from trump_utils import reveal_p0\n",
    "from trump_z3_bool_current_hand import analyze_hand_cards\n",
    "\n",
    "tensor_p1 = np.array(state.information_state_tensor(0))\n",
    "tensor_p2 = np.array(state.information_state_tensor(1))\n",
    "tensor_p3 = np.array(state.information_state_tensor(2))\n",
    "\n",
    "tensor_all = np.array([tensor, tensor_p1, tensor_p2, tensor_p3])\n",
    "\n",
    "tensor_revealed = reveal_p0(tensor_all)\n",
    "analyze_hand_cards(tensor_revealed, debug=True, max_timeout_ms=None)"
   ]
  },
  {
   "cell_type": "code",
   "execution_count": null,
   "id": "090101d3",
   "metadata": {},
   "outputs": [
    {
     "name": "stdout",
     "output_type": "stream",
     "text": [
      "Graveyards (Opponent Card Knowledge):\n",
      "Values: -1=has, 0=unknown, 1=had, 2=never had\n",
      "\n",
      "Opponent 1:\n",
      "C: C2:-1 C3: 2 C4: 2 C5: 2 C6: 2 C7:-1 C8: 2 C9: 2 CT: 2 CJ: 2 CQ: 2 CK:-1 CA: 2 \n",
      "D: D2:-1 D3: 2 D4: 2 D5: 1 D6: 2 D7: 2 D8: 2 D9: 2 DT: 2 DJ: 2 DQ:-1 DK: 2 DA:-1 \n",
      "H: H2: 2 H3:-1 H4: 2 H5: 2 H6: 2 H7:-1 H8:-1 H9: 2 HT: 2 HJ: 2 HQ: 2 HK: 2 HA: 2 \n",
      "S: S2: 2 S3: 2 S4: 2 S5:-1 S6: 2 S7:-1 S8: 2 S9: 2 ST: 2 SJ:-1 SQ: 2 SK: 2 SA: 2 \n",
      "\n",
      "Opponent 2:\n",
      "C: C2: 2 C3: 2 C4: 2 C5: 2 C6: 2 C7: 2 C8: 2 C9:-1 CT: 2 CJ:-1 CQ: 2 CK: 2 CA: 2 \n",
      "D: D2: 2 D3: 2 D4: 1 D5: 2 D6: 2 D7: 2 D8: 2 D9: 2 DT:-1 DJ: 2 DQ: 2 DK: 2 DA: 2 \n",
      "H: H2: 2 H3: 2 H4: 2 H5:-1 H6:-1 H7: 2 H8: 2 H9: 2 HT: 2 HJ:-1 HQ:-1 HK: 2 HA: 2 \n",
      "S: S2:-1 S3:-1 S4: 2 S5: 2 S6:-1 S7: 2 S8:-1 S9: 2 ST:-1 SJ: 2 SQ: 2 SK: 2 SA: 2 \n",
      "\n",
      "Opponent 3:\n",
      "C: C2: 2 C3: 2 C4:-1 C5:-1 C6: 2 C7: 2 C8: 2 C9: 2 CT:-1 CJ: 2 CQ:-1 CK: 2 CA:-1 \n",
      "D: D2: 2 D3: 2 D4: 2 D5: 2 D6: 2 D7: 1 D8:-1 D9:-1 DT: 2 DJ: 2 DQ: 2 DK: 2 DA: 2 \n",
      "H: H2: 2 H3: 2 H4: 2 H5: 2 H6: 2 H7: 2 H8: 2 H9:-1 HT:-1 HJ: 2 HQ: 2 HK: 2 HA: 2 \n",
      "S: S2: 2 S3: 2 S4: 2 S5: 2 S6: 2 S7: 2 S8: 2 S9:-1 ST: 2 SJ: 2 SQ: 2 SK:-1 SA:-1 \n",
      "\n",
      "Summary:\n",
      "Opponent 1: Has=12 Unknown=0, Had=1, Never Had=39\n",
      "Opponent 2: Has=12 Unknown=0, Had=1, Never Had=39\n",
      "Opponent 3: Has=12 Unknown=0, Had=1, Never Had=39\n"
     ]
    }
   ],
   "source": [
    "from trump_utils import print_graveyards\n",
    "\n",
    "print_graveyards(tensor_revealed)"
   ]
  },
  {
   "cell_type": "code",
   "execution_count": 4,
   "id": "39146a47",
   "metadata": {},
   "outputs": [
    {
     "name": "stdout",
     "output_type": "stream",
     "text": [
      "Q♣ loses due to not following suit.\n",
      "K♣ loses due to not following suit.\n",
      "3♠ loses due to not following suit.\n",
      "6♠ loses due to not following suit.\n",
      "A valid play where player plays 5♦:\n",
      "Opponent Current Hands:\n",
      "  P1: J♣ J♦ Q♦ 2♥ 3♥ 8♥\n",
      "  P2: 5♣ 7♣ T♣ 4♦ 7♦ Q♥\n",
      "  P3: 3♣ 8♣ 9♦ K♦ A♦ 9♥\n",
      "Current Trick:    P1:3♥ P2:Q♥ P3:9♥\n",
      "A scenario where player loses with 5♦:\n",
      "Opponent Current Hands:\n",
      "  P1: 7♣ 8♣ 7♦ Q♦ K♦ A♦\n",
      "  P2: 5♣ 9♦ J♦ 3♥ 8♥ Q♥\n",
      "  P3: 3♣ T♣ J♣ 4♦ 2♥ 9♥\n",
      "Current Trick:    P1:7♦ P2:Q♥ P3:9♥\n",
      "A scenario where player wins with 5♦:\n",
      "Opponent Current Hands:\n",
      "  P1: 7♣ 8♣ 4♦ 7♦ K♦ A♦\n",
      "  P2: 9♦ J♦ Q♦ 3♥ 8♥ Q♥\n",
      "  P3: 3♣ 5♣ T♣ J♣ 2♥ 9♥\n",
      "Current Trick:    P1:4♦ P2:Q♥ P3:9♥\n",
      "A valid play where player plays T♦:\n",
      "Opponent Current Hands:\n",
      "  P1: 7♣ 8♣ 4♦ 7♦ K♦ A♦\n",
      "  P2: 9♦ J♦ Q♦ 3♥ 8♥ Q♥\n",
      "  P3: 3♣ 5♣ T♣ J♣ 2♥ 9♥\n",
      "Current Trick:    P1:4♦ P2:Q♥ P3:9♥\n",
      "A scenario where player loses with T♦:\n",
      "Opponent Current Hands:\n",
      "  P1: 7♣ 8♣ 4♦ Q♦ K♦ A♦\n",
      "  P2: 7♦ 9♦ J♦ 3♥ 8♥ Q♥\n",
      "  P3: 3♣ 5♣ T♣ J♣ 2♥ 9♥\n",
      "Current Trick:    P1:Q♦ P2:Q♥ P3:9♥\n",
      "A scenario where player wins with T♦:\n",
      "Opponent Current Hands:\n",
      "  P1: 8♣ 4♦ 7♦ Q♦ K♦ A♦\n",
      "  P2: 9♦ J♦ 2♥ 3♥ 8♥ Q♥\n",
      "  P3: 3♣ 5♣ 7♣ T♣ J♣ 9♥\n",
      "Current Trick:    P1:7♦ P2:Q♥ P3:9♥\n"
     ]
    },
    {
     "data": {
      "text/plain": [
       "[-1,\n",
       " -1,\n",
       " -1,\n",
       " -1,\n",
       " -1,\n",
       " -1,\n",
       " -1,\n",
       " -1,\n",
       " -1,\n",
       " -1,\n",
       " -1,\n",
       " 1,\n",
       " 1,\n",
       " -1,\n",
       " -1,\n",
       " -1,\n",
       " -1,\n",
       " 3,\n",
       " -1,\n",
       " -1,\n",
       " -1,\n",
       " -1,\n",
       " 3,\n",
       " -1,\n",
       " -1,\n",
       " -1,\n",
       " -1,\n",
       " -1,\n",
       " -1,\n",
       " -1,\n",
       " -1,\n",
       " -1,\n",
       " -1,\n",
       " -1,\n",
       " -1,\n",
       " -1,\n",
       " -1,\n",
       " -1,\n",
       " -1,\n",
       " -1,\n",
       " -1,\n",
       " 1,\n",
       " -1,\n",
       " -1,\n",
       " 1,\n",
       " -1,\n",
       " -1,\n",
       " -1,\n",
       " -1,\n",
       " -1,\n",
       " -1,\n",
       " -1]"
      ]
     },
     "execution_count": 4,
     "metadata": {},
     "output_type": "execute_result"
    }
   ],
   "source": [
    "from trump_utils import data_augmentor\n",
    "import jax.numpy as jnp\n",
    "\n",
    "tensor_permuted = data_augmentor(jnp.asarray(tensor), jax.random.PRNGKey(22))\n",
    "analyze_hand_cards(tensor_permuted, debug=True)"
   ]
  },
  {
   "cell_type": "code",
   "execution_count": 12,
   "id": "005da7ee",
   "metadata": {},
   "outputs": [
    {
     "name": "stdout",
     "output_type": "stream",
     "text": [
      "Graveyards (Opponent Card Knowledge):\n",
      "Values: -1=has, 0=unknown, 1=had, 2=never had\n",
      "\n",
      "Opponent 1:\n",
      "C: C2: 0 C3: 2 C4: 2 C5: 2 C6: 2 C7: 0 C8: 0 C9: 0 CT: 0 CJ: 0 CQ: 2 CK: 0 CA: 0 \n",
      "D: D2: 2 D3: 2 D4: 2 D5: 0 D6: 1 D7: 2 D8: 0 D9: 0 DT: 2 DJ: 2 DQ: 0 DK: 0 DA: 1 \n",
      "H: H2: 0 H3: 0 H4: 0 H5: 0 H6: 2 H7: 0 H8: 2 H9: 0 HT: 0 HJ: 0 HQ: 0 HK: 0 HA: 2 \n",
      "S: S2: 2 S3: 0 S4: 0 S5:-1 S6: 2 S7: 0 S8: 2 S9: 0 ST: 0 SJ: 0 SQ: 0 SK: 2 SA: 0 \n",
      "\n",
      "Opponent 2:\n",
      "C: C2: 0 C3: 2 C4: 2 C5: 2 C6: 2 C7: 0 C8: 0 C9: 0 CT: 0 CJ: 0 CQ: 2 CK: 0 CA: 0 \n",
      "D: D2: 2 D3: 2 D4: 1 D5: 0 D6: 2 D7: 2 D8: 0 D9: 0 DT: 1 DJ: 2 DQ: 0 DK: 0 DA: 2 \n",
      "H: H2: 0 H3: 0 H4: 0 H5: 0 H6: 2 H7: 0 H8: 2 H9: 0 HT: 0 HJ: 0 HQ: 0 HK: 0 HA: 2 \n",
      "S: S2: 2 S3: 0 S4: 0 S5: 2 S6: 2 S7: 0 S8: 2 S9: 0 ST: 0 SJ: 0 SQ: 0 SK: 2 SA: 0 \n",
      "\n",
      "Opponent 3:\n",
      "C: C2: 0 C3: 2 C4: 2 C5: 2 C6: 2 C7: 0 C8: 0 C9: 0 CT: 0 CJ: 0 CQ: 2 CK: 0 CA: 0 \n",
      "D: D2: 2 D3: 1 D4: 2 D5: 0 D6: 2 D7: 2 D8: 0 D9: 0 DT: 2 DJ: 1 DQ: 0 DK: 0 DA: 2 \n",
      "H: H2: 0 H3: 0 H4: 0 H5: 0 H6: 2 H7: 0 H8: 2 H9: 0 HT: 0 HJ: 0 HQ: 0 HK: 0 HA: 2 \n",
      "S: S2: 2 S3: 0 S4: 0 S5: 2 S6:-1 S7: 0 S8: 2 S9: 0 ST: 0 SJ: 0 SQ: 0 SK: 2 SA: 0 \n",
      "\n",
      "Summary:\n",
      "Opponent 1: Has=1 Unknown=31, Had=2, Never Had=18\n",
      "Opponent 2: Has=0 Unknown=31, Had=2, Never Had=19\n",
      "Opponent 3: Has=1 Unknown=31, Had=2, Never Had=18\n"
     ]
    }
   ],
   "source": [
    "from trump_utils import print_graveyards\n",
    "\n",
    "tensor = state.information_state_tensor(state.current_player())\n",
    "print_graveyards(np.array(tensor_permuted))"
   ]
  },
  {
   "cell_type": "code",
   "execution_count": null,
   "id": "54a7021b",
   "metadata": {},
   "outputs": [
    {
     "name": "stdout",
     "output_type": "stream",
     "text": [
      "[0.0, 1.0, 1.0, 0.0, 0.0, 1.0, 1.0, 0.0, 0.0, 0.0, 0.0, 0.0, 0.0, 0.0, 0.0, 0.0, 0.0, 1.0, 1.0, 0.0, 0.0, 0.0, 1.0, 0.0, 0.0, 1.0, 0.0, 0.0, 1.0, 0.0, 0.0, 0.0, 0.0, 0.0, 1.0, 0.0, 0.0, 0.0, 0.0, 0.0, 0.0, 1.0, 0.0, 0.0, 0.0, 0.0, 1.0, 0.0, 0.0, 1.0, 0.0, 0.0, 2.0, 0.0, 0.0, 1.0, 0.0, 3.0, 1.0, 0.0, 0.0, 0.0, 2.0, 0.0, 1.0, 0.0, 0.0, 3.0, 0.0, 0.0, 0.0, 1.0, 0.0, 0.0, 0.0, 1.0, 1.0, 0.0, 0.0, 0.0, 0.0, 0.0, 0.0, 0.0, 0.0, 0.0, 0.0, 0.0, 0.0, 0.0, 0.0, 0.0, 0.0, 0.0, 0.0, 0.0, 0.0, 0.0, 0.0, 0.0, 0.0, 0.0, 0.0, 0.0, 0.0, 0.0, 0.0, 0.0, 0.0, 0.0, 0.0, 0.0, 0.0, 0.0, 0.0, 0.0, 0.0, 0.0, 0.0, 0.0, 0.0, 0.0, 0.0, 0.0, 0.0, 0.0, 0.0, 0.0, 0.0, 0.0, 0.0, 0.0, 0.0, 0.0, 0.0, 0.0, 0.0, 0.0, 0.0, 0.0, 0.0, 0.0, 0.0, 0.0, 0.0, 0.0, 0.0, 0.0, 0.0, 0.0, 0.0, 0.0, 0.0, 0.0, 0.0, 0.0, 0.0, 0.0, 0.0, 0.0, 0.0, 0.0, 0.0, 0.0, 0.0, 0.0, 0.0, 0.0, 0.0, 0.0, 0.0, 0.0, 0.0, 0.0, 0.0, 0.0, 0.0, 0.0, 0.0, 0.0, 0.0, 0.0, 0.0, 0.0, 0.0, 0.0, 0.0, 0.0, 0.0, 0.0, 0.0, 0.0, 0.0, 0.0, 0.0, 0.0, 0.0, 0.0, 0.0, 0.0, 0.0, 0.0, 0.0, 0.0, 0.0, 0.0, 0.0, 0.0, 0.0, 0.0, 0.0, 0.0, 0.0, 0.0, 0.0, 0.0, 0.0, 0.0, 0.0, 0.0, 0.0, 0.0, 0.0, 0.0, 0.0, 0.0, 0.0, 0.0, 0.0, 0.0, 0.0, 0.0, 0.0, 0.0, 0.0, 0.0, 0.0, 0.0, 0.0, 0.0, 0.0, 0.0, 0.0, 0.0, 0.0, 0.0, 0.0, 0.0, 0.0, 0.0, 0.0, 0.0, 0.0, 0.0, 0.0, 0.0, 0.0, 0.0, 0.0, 0.0, 0.0, 0.0, 0.0, 0.0, 0.0, 0.0, 0.0, 0.0, 0.0, 0.0, 0.0, 0.0, 0.0, 0.0, 0.0, 0.0, 0.0, 0.0, 0.0, 0.0, 0.0, 0.0, 0.0, 0.0, 0.0, 0.0, 0.0, 0.0, 0.0, 0.0, 0.0, 0.0, 0.0, 0.0, 0.0, 0.0, 0.0, 0.0, 0.0, 0.0, 0.0, 0.0, 0.0, 0.0, 0.0, 0.0, 0.0, 0.0, 0.0, 0.0, 0.0, 0.0, 0.0, 0.0, 0.0, 0.0, 0.0, 0.0, 0.0, 0.0, 0.0, 0.0, 0.0, 0.0, 0.0, 0.0, 0.0, 0.0, 0.0, 0.0, 0.0, 0.0, 0.0, 0.0, 0.0, 0.0, 0.0, 0.0, 0.0, 0.0, 0.0, 0.0, 0.0, 0.0, 0.0, 0.0, 0.0, 0.0, 0.0, 0.0, 0.0, 0.0, 0.0, 0.0, 0.0, 0.0, 0.0, 0.0, 0.0, 0.0, 0.0, 0.0, 0.0, 0.0, 0.0, 0.0, 0.0, 0.0, 0.0, 0.0, 0.0, 0.0, 0.0, 0.0, 0.0, 0.0, 0.0, 0.0, 0.0, 0.0, 0.0, 0.0, 0.0, 0.0, 0.0, 0.0, 0.0, 0.0, 0.0, 0.0, 2.0, 2.0, -1.0, 0.0, 2.0, 2.0, 0.0, 0.0, 0.0, 0.0, 0.0, 0.0, 0.0, 0.0, 2.0, 0.0, 2.0, 2.0, 0.0, 0.0, 0.0, 2.0, 0.0, 0.0, 2.0, 0.0, 0.0, 2.0, 0.0, 0.0, 0.0, 0.0, 0.0, 2.0, 0.0, 0.0, 0.0, 0.0, 0.0, 0.0, 2.0, 2.0, 0.0, 0.0, 0.0, 2.0, 0.0, 0.0, 2.0, 0.0, 0.0, 0.0, 2.0, 2.0, 2.0, 0.0, 2.0, 2.0, 0.0, 0.0, 0.0, 0.0, 0.0, 0.0, 0.0, 0.0, -1.0, 0.0, 2.0, 2.0, 0.0, 0.0, 0.0, 2.0, 0.0, 0.0, 2.0, 0.0, 0.0, 2.0, 0.0, 0.0, 0.0, 0.0, 0.0, 2.0, 0.0, 0.0, 0.0, 0.0, 0.0, 0.0, 2.0, 2.0, 0.0, 0.0, 0.0, 2.0, 0.0, 0.0, 2.0, 0.0, 0.0, 0.0, 2.0, 2.0, 2.0, 0.0, 2.0, 2.0, 0.0, 0.0, 0.0, 0.0, 0.0, 0.0, 0.0, 0.0, 2.0, 0.0, 2.0, 2.0, 0.0, 0.0, 0.0, 2.0, 0.0, 0.0, 2.0, 0.0, 0.0, 2.0, 0.0, 0.0, 0.0, 0.0, 0.0, 2.0, 0.0, 0.0, 0.0, 0.0, 0.0, 0.0, 2.0, -1.0, 0.0, 0.0, 0.0, 2.0, 0.0, 0.0, 2.0, 0.0, 0.0, 6.0, 8.0, 6.0, 8.0, 0.0, 0.0, 0.0, 0.0, 0.0, 0.0, 0.0, 0.0, 0.0, 0.0, 0.0, 0.0, 0.0, 0.0, 0.0, 0.0, 1.0, 0.0, 1.0, 0.0, 0.0, 0.0, 0.0, 0.0, 1.0, -1.0, -1.0, -1.0, -1.0, -1.0, -1.0, -1.0, -1.0, -1.0, -1.0, -1.0, -1.0, -1.0, 1.0]\n"
     ]
    }
   ],
   "source": [
    "print(tensor)"
   ]
  },
  {
   "cell_type": "code",
   "execution_count": null,
   "id": "93259c60",
   "metadata": {},
   "outputs": [
    {
     "data": {
      "text/plain": [
       "588"
      ]
     },
     "execution_count": 10,
     "metadata": {},
     "output_type": "execute_result"
    }
   ],
   "source": [
    "len(tensor)"
   ]
  },
  {
   "cell_type": "markdown",
   "id": "eb8f5df7",
   "metadata": {},
   "source": [
    "## Players from different iterations playing against each other"
   ]
  },
  {
   "cell_type": "code",
   "execution_count": null,
   "id": "48551e30",
   "metadata": {},
   "outputs": [],
   "source": [
    "import os\n",
    "import numpy as np\n",
    "import jax\n",
    "jax.config.update('jax_platform_name', 'cpu')\n",
    "import jax.numpy as jnp\n",
    "import flax\n",
    "import flax.linen as nn\n",
    "import pyspiel\n",
    "from typing import List, Dict, Any, Callable\n",
    "from collections import defaultdict\n",
    "from tqdm.notebook import tqdm\n",
    "\n",
    "def load_params(save_dir_nets, player, phase, iteration):\n",
    "    \"\"\"Load policy parameters for a player, phase, and iteration.\"\"\"\n",
    "    pi_params_path = os.path.join(save_dir_nets, f\"player{player}\", f\"phase{phase}\", \"pi_data\", f\"pi_params_iter{iteration}.msgpack\")\n",
    "    if not os.path.exists(pi_params_path):\n",
    "        raise FileNotFoundError(f\"Parameter file not found: {pi_params_path}\")\n",
    "    with open(pi_params_path, 'rb') as f:\n",
    "        state_dict = flax.serialization.from_bytes(None, f.read())\n",
    "    if 'params' not in state_dict:\n",
    "        raise KeyError(f\"'params' key not found in loaded state_dict from {pi_params_path}\")\n",
    "    return state_dict['params']\n",
    "\n",
    "def evaluate_players(\n",
    "    game_name: str,\n",
    "    save_dir_nets: str,\n",
    "    iterations_per_player: List[int],\n",
    "    num_eval_games: int,\n",
    "    pi_models: List[nn.Module],\n",
    "    info_state_tensor_transformers: List[Callable[[jax.Array], jax.Array]],\n",
    "    action_transformers: List[Callable[[jax.Array], jax.Array]],\n",
    "    phase_classifier_fn: Callable[[jax.Array], int],\n",
    "    uniform: bool = False,\n",
    "    seed: int = 42\n",
    ") -> Dict[int, float]:\n",
    "    \"\"\"\n",
    "    Evaluate players by having them play against each other.\n",
    "    \n",
    "    Args:\n",
    "        game_name: Name of the game (e.g., 'kuhn_poker')\n",
    "        save_dir_nets: Directory where network parameters are saved\n",
    "        iterations_per_player: List of iteration numbers for each player [player0_iter, player1_iter, ...]\n",
    "        num_eval_games: Number of games to play for evaluation\n",
    "        pi_models: List of policy network models for each phase\n",
    "        info_state_tensor_transformers: List of transformers for each phase\n",
    "        action_transformers: List of action transformers for each phase\n",
    "        phase_classifier_fn: Function to classify game phase from info state\n",
    "        seed: Random seed for reproducibility\n",
    "        \n",
    "    Returns:\n",
    "        Dictionary mapping player_id to average score across all games\n",
    "    \"\"\"\n",
    "    # Initialize game and random state\n",
    "    game = pyspiel.load_game(game_name)\n",
    "    num_players = game.num_players()\n",
    "    global_num_actions = game.num_distinct_actions()\n",
    "    np.random.seed(seed)\n",
    "\n",
    "    num_phases = len(pi_models)\n",
    "    \n",
    "    if len(iterations_per_player) != num_players:\n",
    "        raise ValueError(f\"Number of iterations ({len(iterations_per_player)}) must match number of players ({num_players})\")\n",
    "    \n",
    "    # Load all player parameters for all phases\n",
    "    player_params = []\n",
    "    for player in range(num_players):\n",
    "        player_phase_params = []\n",
    "        for phase in range(num_phases):\n",
    "            params = load_params(save_dir_nets, player if not uniform else 0, phase, iterations_per_player[player])\n",
    "            player_phase_params.append(params)\n",
    "        player_params.append(player_phase_params)\n",
    "    \n",
    "    # Setup JIT compiled inference functions for all players and phases\n",
    "    jitted_inference_pi = []\n",
    "    for phase in range(num_phases):\n",
    "        phase_inferences = []\n",
    "        for player in range(num_players if not uniform else 1):\n",
    "            inference_fn = _get_jitted_avg_policy(pi_models[phase], action_transformers[phase])\n",
    "            phase_inferences.append(inference_fn)\n",
    "        jitted_inference_pi.append(phase_inferences)\n",
    "    \n",
    "    # Play evaluation games\n",
    "    total_scores = defaultdict(float)\n",
    "    \n",
    "    for _game_round in tqdm(range(num_eval_games)):\n",
    "        state = game.new_initial_state()\n",
    "        \n",
    "        while not state.is_terminal():\n",
    "            if state.is_chance_node():\n",
    "                # Handle chance nodes\n",
    "                chance_outcome_actions, chance_outcome_probs = zip(*state.chance_outcomes())\n",
    "                chance_outcome_probs_np = np.array(chance_outcome_probs, dtype=np.float64)\n",
    "                chance_outcome_probs_np /= np.sum(chance_outcome_probs_np)\n",
    "                sampled_action = np.random.choice(chance_outcome_actions, p=chance_outcome_probs_np)\n",
    "                state = state.child(sampled_action)\n",
    "            else:\n",
    "                # Handle player decision nodes\n",
    "                active_player = state.current_player()\n",
    "                \n",
    "                # Get info state and determine phase\n",
    "                full_info_state_np = np.array(state.information_state_tensor(active_player), dtype=np.float32)\n",
    "                phase = phase_classifier_fn(full_info_state_np)\n",
    "                \n",
    "                # Transform info state for this phase\n",
    "                info_state_transformed_np = info_state_tensor_transformers[phase](full_info_state_np)\n",
    "                legal_actions_mask_global_np = np.array(state.legal_actions_mask(active_player), dtype=bool)\n",
    "                \n",
    "                # Add batch dimensions for network inference\n",
    "                info_state_transformed_np = jnp.expand_dims(info_state_transformed_np, axis=0)\n",
    "                legal_actions_mask_global_np = jnp.expand_dims(legal_actions_mask_global_np, axis=0)\n",
    "                \n",
    "                # Get policy probabilities from the network\n",
    "                policy_probs_global = jitted_inference_pi[phase][active_player if not uniform else 0](\n",
    "                    player_params[active_player if not uniform else 0][phase],\n",
    "                    info_state_transformed_np,\n",
    "                    legal_actions_mask_global_np\n",
    "                )\n",
    "                \n",
    "                # Convert to numpy and ensure proper normalization\n",
    "                policy_probs_np_global = np.array(policy_probs_global)\n",
    "                policy_probs_np_global /= np.sum(policy_probs_np_global)\n",
    "                \n",
    "                # Sample action according to policy\n",
    "                sampled_action = np.random.choice(global_num_actions, p=policy_probs_np_global)\n",
    "                state = state.child(sampled_action)\n",
    "        \n",
    "        # Return final scores/returns for all players\n",
    "        returns = state.returns()\n",
    "        game_scores = {player: returns[player] for player in range(len(returns))}\n",
    "        \n",
    "        # Accumulate scores\n",
    "        for player, score in game_scores.items():\n",
    "            total_scores[player] += score\n",
    "    \n",
    "    # Calculate average scores\n",
    "    average_scores = {player_idx: total_scores[player_idx] / num_eval_games \n",
    "                     for player_idx in range(num_players)}\n",
    "    \n",
    "    return average_scores\n",
    "\n",
    "def _get_jitted_avg_policy(pi_model_instance, action_transformer_fn):\n",
    "    \"\"\"Create JIT compiled policy inference function.\"\"\"\n",
    "    @jax.jit\n",
    "    def get_policy(params_avg_policy: Any, info_state_transformed: jax.Array, legal_actions_mask_global: jax.Array):\n",
    "        masked_logits_net_output = pi_model_instance.apply(\n",
    "            {'params': params_avg_policy}, info_state_transformed, legal_actions_mask_global\n",
    "        )\n",
    "        masked_logits_global = action_transformer_fn(masked_logits_net_output)\n",
    "        avg_policy_probs_global = jax.nn.softmax(masked_logits_global, axis=-1)\n",
    "        return jnp.squeeze(avg_policy_probs_global, axis=0)\n",
    "    return get_policy"
   ]
  },
  {
   "cell_type": "code",
   "execution_count": null,
   "id": "9863927a",
   "metadata": {},
   "outputs": [
    {
     "data": {
      "application/vnd.jupyter.widget-view+json": {
       "model_id": "808b163ff72b400fb5fac983461b596f",
       "version_major": 2,
       "version_minor": 0
      },
      "text/plain": [
       "  0%|          | 0/1000 [00:00<?, ?it/s]"
      ]
     },
     "metadata": {},
     "output_type": "display_data"
    },
    {
     "ename": "KeyboardInterrupt",
     "evalue": "",
     "output_type": "error",
     "traceback": [
      "\u001b[0;31m---------------------------------------------------------------------------\u001b[0m",
      "\u001b[0;31mKeyboardInterrupt\u001b[0m                         Traceback (most recent call last)",
      "Cell \u001b[0;32mIn[11], line 55\u001b[0m\n\u001b[1;32m     47\u001b[0m info_state_tensor_transformers \u001b[38;5;241m=\u001b[39m [bid_transformer, ad_transformer, play_transformer_pi]\n\u001b[1;32m     49\u001b[0m pi_models \u001b[38;5;241m=\u001b[39m [\n\u001b[1;32m     50\u001b[0m     PolicyNetworkWrapper(phase_net\u001b[38;5;241m=\u001b[39mTrumpBiddingPolicyNet()),  \u001b[38;5;66;03m# Phase 0\u001b[39;00m\n\u001b[1;32m     51\u001b[0m     PolicyNetworkWrapper(phase_net\u001b[38;5;241m=\u001b[39mTrumpAD_PolicyNet()),      \u001b[38;5;66;03m# Phase 1\u001b[39;00m\n\u001b[1;32m     52\u001b[0m     PolicyNetworkWrapper(phase_net\u001b[38;5;241m=\u001b[39mTrumpPlayPolicyNet())      \u001b[38;5;66;03m# Phase 2\u001b[39;00m\n\u001b[1;32m     53\u001b[0m ]\n\u001b[0;32m---> 55\u001b[0m \u001b[43mevaluate_players\u001b[49m\u001b[43m(\u001b[49m\n\u001b[1;32m     56\u001b[0m \u001b[43m    \u001b[49m\u001b[43mgame_name\u001b[49m\u001b[38;5;241;43m=\u001b[39;49m\u001b[38;5;124;43m\"\u001b[39;49m\u001b[38;5;124;43mtrump\u001b[39;49m\u001b[38;5;124;43m\"\u001b[39;49m\u001b[43m,\u001b[49m\n\u001b[1;32m     57\u001b[0m \u001b[43m    \u001b[49m\u001b[43msave_dir_nets\u001b[49m\u001b[38;5;241;43m=\u001b[39;49m\u001b[38;5;124;43m\"\u001b[39;49m\u001b[38;5;124;43mcfvfp_nets_z3-q-only\u001b[39;49m\u001b[38;5;124;43m\"\u001b[39;49m\u001b[43m,\u001b[49m\n\u001b[1;32m     58\u001b[0m \u001b[43m    \u001b[49m\u001b[43miterations_per_player\u001b[49m\u001b[38;5;241;43m=\u001b[39;49m\u001b[43m[\u001b[49m\u001b[38;5;241;43m300\u001b[39;49m\u001b[43m,\u001b[49m\u001b[43m \u001b[49m\u001b[38;5;241;43m300\u001b[39;49m\u001b[43m,\u001b[49m\u001b[43m \u001b[49m\u001b[38;5;241;43m300\u001b[39;49m\u001b[43m,\u001b[49m\u001b[43m \u001b[49m\u001b[38;5;241;43m700\u001b[39;49m\u001b[43m]\u001b[49m\u001b[43m,\u001b[49m\n\u001b[1;32m     59\u001b[0m \u001b[43m    \u001b[49m\u001b[43muniform\u001b[49m\u001b[38;5;241;43m=\u001b[39;49m\u001b[38;5;28;43;01mTrue\u001b[39;49;00m\u001b[43m,\u001b[49m\n\u001b[1;32m     60\u001b[0m \u001b[43m    \u001b[49m\u001b[43mnum_eval_games\u001b[49m\u001b[38;5;241;43m=\u001b[39;49m\u001b[38;5;241;43m1000\u001b[39;49m\u001b[43m,\u001b[49m\n\u001b[1;32m     61\u001b[0m \u001b[43m    \u001b[49m\u001b[43mpi_models\u001b[49m\u001b[38;5;241;43m=\u001b[39;49m\u001b[43mpi_models\u001b[49m\u001b[43m,\u001b[49m\n\u001b[1;32m     62\u001b[0m \u001b[43m    \u001b[49m\u001b[43minfo_state_tensor_transformers\u001b[49m\u001b[38;5;241;43m=\u001b[39;49m\u001b[43minfo_state_tensor_transformers\u001b[49m\u001b[43m,\u001b[49m\n\u001b[1;32m     63\u001b[0m \u001b[43m    \u001b[49m\u001b[43maction_transformers\u001b[49m\u001b[38;5;241;43m=\u001b[39;49m\u001b[43maction_transformers\u001b[49m\u001b[43m,\u001b[49m\n\u001b[1;32m     64\u001b[0m \u001b[43m    \u001b[49m\u001b[43mphase_classifier_fn\u001b[49m\u001b[38;5;241;43m=\u001b[39;49m\u001b[43mtrump_phase_classifier\u001b[49m\u001b[43m,\u001b[49m\n\u001b[1;32m     65\u001b[0m \u001b[43m    \u001b[49m\u001b[43mseed\u001b[49m\u001b[38;5;241;43m=\u001b[39;49m\u001b[38;5;241;43m256\u001b[39;49m\n\u001b[1;32m     66\u001b[0m \u001b[43m)\u001b[49m\n",
      "Cell \u001b[0;32mIn[1], line 124\u001b[0m, in \u001b[0;36mevaluate_players\u001b[0;34m(game_name, save_dir_nets, iterations_per_player, num_eval_games, pi_models, info_state_tensor_transformers, action_transformers, phase_classifier_fn, uniform, seed)\u001b[0m\n\u001b[1;32m    121\u001b[0m         policy_probs_np_global \u001b[38;5;241m/\u001b[39m\u001b[38;5;241m=\u001b[39m np\u001b[38;5;241m.\u001b[39msum(policy_probs_np_global)\n\u001b[1;32m    123\u001b[0m         \u001b[38;5;66;03m# Sample action according to policy\u001b[39;00m\n\u001b[0;32m--> 124\u001b[0m         sampled_action \u001b[38;5;241m=\u001b[39m np\u001b[38;5;241m.\u001b[39mrandom\u001b[38;5;241m.\u001b[39mchoice(global_num_actions, p\u001b[38;5;241m=\u001b[39mpolicy_probs_np_global)\n\u001b[1;32m    125\u001b[0m         state \u001b[38;5;241m=\u001b[39m state\u001b[38;5;241m.\u001b[39mchild(sampled_action)\n\u001b[1;32m    127\u001b[0m \u001b[38;5;66;03m# Return final scores/returns for all players\u001b[39;00m\n",
      "\u001b[0;31mKeyboardInterrupt\u001b[0m: "
     ]
    }
   ],
   "source": [
    "from trump_utils import (\n",
    "    PolicyNetworkWrapper,\n",
    "    TrumpBiddingPolicyNet, TrumpAD_PolicyNet, TrumpPlayPolicyNet,\n",
    "    action_transformers, #info_state_tensor_transformers,\n",
    "    trump_phase_classifier\n",
    ")\n",
    "\n",
    "# --- Tensor Specification, Slicing Helper, and Phase Detection Indices ---\n",
    "TENSOR_COMPONENT_SPEC = [\n",
    "    (\"Hand\", 52), \n",
    "    (\"BidCards\", 4 * 5),       # 20\n",
    "    (\"TrumpSuit\", 4),          \n",
    "    (\"RoundBidStatus\", 1),     \n",
    "    (\"History\", 13 * (4 + 4 * 5)),   # 312\n",
    "    (\"OpponentGraveyard\", 3 * 52), # 156\n",
    "    (\"ANTC\", 4),               \n",
    "    (\"BreakOccurred\", 1),      \n",
    "    (\"CurrentTrickCards\", 4 * 5), # 20\n",
    "    (\"CurrentTrickLeader\", 4), \n",
    "    (\"CurrentTrickTrumpUncertainty\", 13),    # NEW ITEM #11\n",
    "    (\"CurrentTrickNumber\", 1)  \n",
    "]\n",
    "\n",
    "GLOBAL_NUM_ACTIONS = 52\n",
    "\n",
    "_tensor_component_slices: Dict[str, slice] = {}\n",
    "_current_offset = 0\n",
    "for _name, _size in TENSOR_COMPONENT_SPEC:\n",
    "    _tensor_component_slices[_name] = slice(_current_offset, _current_offset + _size)\n",
    "    _current_offset += _size\n",
    "\n",
    "# Define indices for phase classification using the slices\n",
    "INDEX_ROUND_BID_STATUS = _tensor_component_slices[\"RoundBidStatus\"].start\n",
    "INDEX_FIRST_BID_CARD_FEATURE = _tensor_component_slices[\"BidCards\"].start\n",
    "INDEX_HAND_START = _tensor_component_slices[\"Hand\"].start\n",
    "INDEX_HAND_END = _tensor_component_slices[\"Hand\"].stop\n",
    "INDEX_BID_CARDS_END = _tensor_component_slices[\"BidCards\"].stop\n",
    "\n",
    "def bid_transformer(infostate_tensor: jax.Array) -> jax.Array:\n",
    "    return infostate_tensor[..., INDEX_HAND_START:INDEX_HAND_END]\n",
    "\n",
    "def ad_transformer(infostate_tensor: jax.Array) -> jax.Array:\n",
    "    return infostate_tensor[..., INDEX_HAND_START:INDEX_BID_CARDS_END]\n",
    "\n",
    "def play_transformer_pi(infostate_tensor: jax.Array) -> jax.Array:\n",
    "    return infostate_tensor\n",
    "info_state_tensor_transformers = [bid_transformer, ad_transformer, play_transformer_pi]\n",
    "\n",
    "pi_models = [\n",
    "    PolicyNetworkWrapper(phase_net=TrumpBiddingPolicyNet()),  # Phase 0\n",
    "    PolicyNetworkWrapper(phase_net=TrumpAD_PolicyNet()),      # Phase 1\n",
    "    PolicyNetworkWrapper(phase_net=TrumpPlayPolicyNet())      # Phase 2\n",
    "]\n",
    "\n",
    "evaluate_players(\n",
    "    game_name=\"trump\",\n",
    "    save_dir_nets=\"cfvfp_nets_z3-q-only\",\n",
    "    iterations_per_player=[300, 300, 300, 700],\n",
    "    uniform=True,\n",
    "    num_eval_games=1000,\n",
    "    pi_models=pi_models,\n",
    "    info_state_tensor_transformers=info_state_tensor_transformers,\n",
    "    action_transformers=action_transformers,\n",
    "    phase_classifier_fn=trump_phase_classifier,\n",
    "    seed=256\n",
    ")"
   ]
  },
  {
   "cell_type": "code",
   "execution_count": null,
   "id": "998f469c",
   "metadata": {},
   "outputs": [],
   "source": []
  }
 ],
 "metadata": {
  "kernelspec": {
   "display_name": "venv_wsl",
   "language": "python",
   "name": "python3"
  },
  "language_info": {
   "codemirror_mode": {
    "name": "ipython",
    "version": 3
   },
   "file_extension": ".py",
   "mimetype": "text/x-python",
   "name": "python",
   "nbconvert_exporter": "python",
   "pygments_lexer": "ipython3",
   "version": "3.11.11"
  }
 },
 "nbformat": 4,
 "nbformat_minor": 5
}
